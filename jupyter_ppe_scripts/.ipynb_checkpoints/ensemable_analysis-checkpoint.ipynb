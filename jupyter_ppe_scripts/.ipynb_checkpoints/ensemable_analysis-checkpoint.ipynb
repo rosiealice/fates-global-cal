{
 "cells": [
  {
   "cell_type": "markdown",
   "id": "aa147b08-0c3f-4634-b822-358d90fb4dd6",
   "metadata": {},
   "source": [
    "<h1> Ensemble generation submission and analysis notebook NOCOMP</h1>\n",
    "\n"
   ]
  },
  {
   "cell_type": "code",
   "execution_count": null,
   "id": "c65cc311-fe42-4238-8bf4-4b2cfcb0f5fa",
   "metadata": {},
   "outputs": [],
   "source": [
    "import os\n",
    "import netCDF4 as nc4\n",
    "import sys\n",
    "import shutil\n",
    "import numpy as np\n",
    "import warnings\n",
    "warnings.filterwarnings('ignore')\n",
    "import xarray as xr\n",
    "from matplotlib import pyplot as plt\n",
    "import scipy.stats.qmc as sc\n",
    "#import datetime"
   ]
  },
  {
   "cell_type": "markdown",
   "id": "caa89a76-f4f8-4044-bc03-8eae2bd6a8de",
   "metadata": {},
   "source": [
    "#### INITIALISE: Control variables for the analysis script."
   ]
  },
  {
   "cell_type": "code",
   "execution_count": 3,
   "id": "5ee1ce00-9573-4242-a4d0-f433d4d6ed47",
   "metadata": {},
   "outputs": [
    {
     "name": "stdout",
     "output_type": "stream",
     "text": [
      "setup, submit, analysis: 1 1 0 0\n"
     ]
    }
   ],
   "source": [
    "# You can turn these off and on according to where you are tin the process. \n",
    "doanalysis   = 0 # do we want to plot the outputs? \n",
    "doanalysisplots = 0 \n",
    "doilamb      = 0 # do we want to run the ilamb analysis?\n",
    "doilambplots = 0 # make ensemble plots with ilamb output. \n",
    "clearilamb   = 0 # first delete ilamb build directory. \n",
    "ychoose      = 2002\n",
    "n            = 44\n",
    "print(\"setup, submit, analysis:\", dosetup,dosubmit,doanalysis,doilamb)"
   ]
  },
  {
   "cell_type": "code",
   "execution_count": null,
   "id": "3f9b4532-29bc-46b9-804c-9bcb44f32ccd",
   "metadata": {},
   "outputs": [],
   "source": [
    "caseroot = "
   ]
  },
  {
   "cell_type": "code",
   "execution_count": 6,
   "id": "52e48352-17ac-4991-9405-35b178781121",
   "metadata": {},
   "outputs": [
    {
     "name": "stdout",
     "output_type": "stream",
     "text": [
      "zerocase 0\n"
     ]
    }
   ],
   "source": [
    "#Do we need 1a zero case or not?\n",
    "if(pmode==1): #hi-low OAAT emsemble\n",
    "    zerocase = 1\n",
    "if(pmode==2): #1D ensemble\n",
    "    zerocase = 0\n",
    "if(pmode==3): # 2D ensemble\n",
    "    zerocase = 0  \n",
    "print('zerocase',zerocase)"
   ]
  },
  {
   "cell_type": "code",
   "execution_count": null,
   "id": "b129a174-0b38-48c3-b097-b89f2581c026",
   "metadata": {},
   "outputs": [],
   "source": [
    "# make the vector of indices for the ensemble\n",
    "if(pmode==1): #hi-low OAAT emsemble\n",
    "    vs=range(0,ncases+1) \n",
    "if(pmode==2): #1D ensemble\n",
    "    vs=range(1,ncases+1) \n",
    "if(pmode==3): # 2D ensemble\n",
    "    vs=range(1,ncases+1)  \n",
    "print('pmode=',pmode, ',vs=',vs)\n"
   ]
  },
  {
   "cell_type": "code",
   "execution_count": null,
   "id": "fdf3ab4e-d6b6-4272-8e79-1c30cff97efc",
   "metadata": {},
   "outputs": [],
   "source": [
    "%%bash -s \"$ncases\" \"$zerocase\"\n",
    "ncases=$1\n",
    "zerocase=$2\n",
    "\n",
    "#do we include a default zero case?\n",
    "counter1=1\n",
    "if [ $zerocase -eq 1 ] \n",
    "then\n",
    "counter1=0\n",
    "fi\n",
    "\n",
    "while [ $counter1 -le $ncases  ]\n",
    "do\n",
    "  newcase=$counter1 #name of ensemble membr case.\n",
    "((counter1++))\n",
    "done"
   ]
  },
  {
   "cell_type": "markdown",
   "id": "bbc23a4c-5b35-41b6-9d31-34d1030d5ae4",
   "metadata": {},
   "source": [
    "#### INITIALISE: Set pathnames for parameter directories and casenames."
   ]
  },
  {
   "cell_type": "code",
   "execution_count": 9,
   "id": "cd8d7dc3-2688-4635-8858-04e67970886c",
   "metadata": {},
   "outputs": [],
   "source": [
    "# what is your clone of the ctsm repo called? (or you want it to be called?) \n",
    "\n",
    "#what do you want the case names to begin with?\n",
    "caseroot=ens_directory+'_case_'\n",
    "\n",
    "USER='rfisher'\n",
    "\n",
    "#path to scratch (or where the model is built.)\n",
    "output_dir='/glade/scratch/'+USER+'/'\n",
    "output_dir='/glade/derecho/scratch/'+USER+'/'\n",
    "\n",
    "#where are we now?\n",
    "notebookdr=os.getcwd() \n",
    "\n",
    "# git directory. aka where do you want the code and scripts to live?\n",
    "gitpath = '/glade/work/'+USER+'/'\n",
    "\n",
    "# some more derived path names to simplify latter scripts\n",
    "scriptsdir=gitpath+'/git/'+ctsmrepo+'/cime/scripts/'\n"
   ]
  },
  {
   "cell_type": "code",
   "execution_count": 10,
   "id": "eb707d44-1f97-4453-8dd3-d5e88f05fd88",
   "metadata": {},
   "outputs": [],
   "source": [
    "#what is the name of your 'basecase'?\n",
    "defcase=ctsmrepo+'_fates_default'\n",
    "    \n",
    "paramsdir = scriptsdir+'/'+ens_directory+'/parameter_files'\n",
    "defparamdir = gitpath+'/git/'+ctsmrepo+'/src/fates/parameter_files/'\n",
    "\n",
    "#case charecteristics\n",
    "compset='2000_DATM%GSWP3v1_CLM50%FATES_SICE_SOCN_MOSART_SGLC_SWAV_SESP'\n",
    "resolution = 'f45_f45_mg37'\n",
    "resub=0 #how many times to resubmit the model. "
   ]
  },
  {
   "cell_type": "markdown",
   "id": "6e517633-08fa-40e4-b765-280627fb12a6",
   "metadata": {},
   "source": [
    "#### INITIALISE: Make a function that creates directories if they don't already exist"
   ]
  },
  {
   "cell_type": "code",
   "execution_count": 11,
   "id": "f3c0660f-752a-42d0-bab0-04600bfb66cc",
   "metadata": {},
   "outputs": [],
   "source": [
    "def make_directory(fileroot):   \n",
    "    if(os.path.isdir(fileroot)):\n",
    "        print('dir exists:'+fileroot)\n",
    "    else:\n",
    "        os.mkdir(fileroot)\n",
    "        print('made: '+fileroot)"
   ]
  },
  {
   "cell_type": "code",
   "execution_count": 13,
   "id": "11a68fb9-5b70-4a81-9e69-b1ceccce0dc9",
   "metadata": {},
   "outputs": [
    {
     "name": "stdout",
     "output_type": "stream",
     "text": [
      "ctsm_der_jan24\n",
      "/glade/work/rfisher/git\n",
      "Already have ctsm repo\n"
     ]
    }
   ],
   "source": [
    "%%bash -s \"$ctsmrepo\" \"$dosetup\"\n",
    "ctsmrepo=$1\n",
    "dosetup=$2\n",
    "echo $ctsmrepo\n",
    "if [ $dosetup -eq 1 ]\n",
    "then\n",
    "cd /glade/work/$USER/git\n",
    "#go to git directory\n",
    "pwd\n",
    "#go to git repo, or checkout code\n",
    "if [[ -d \"$ctsmrepo\" ]]\n",
    "then\n",
    "cd $ctsmrepo\n",
    "echo \"Already have ctsm repo\"\n",
    "else\n",
    "echo \"Cloning ctsm: n.b. this might fail if git passwords are not setup properly, in which case you might need to check code out manually.\"\n",
    "#clone CTSM code if you didn't to this already. \n",
    "git clone https://github.com/escomp/ctsm $ctsmrepo\n",
    "cd $ctsmrepo\n",
    "./manage_externals/checkout_externals\n",
    "cd src\n",
    "fi\n",
    "fi\n"
   ]
  },
  {
   "cell_type": "markdown",
   "id": "fc55e702-c110-421a-a4b4-225606f7614d",
   "metadata": {
    "tags": []
   },
   "source": [
    "#### SETUP: Modify parameter files "
   ]
  },
  {
   "cell_type": "markdown",
   "id": "1428b9ff-549e-4b8e-9819-c789916abca9",
   "metadata": {},
   "source": [
    "<h2>Analyse output</h2>"
   ]
  },
  {
   "cell_type": "markdown",
   "id": "58068175-a770-4ba4-bdd9-fbd40613d377",
   "metadata": {},
   "source": [
    "### Paths for analysis"
   ]
  },
  {
   "cell_type": "code",
   "execution_count": 32,
   "id": "04831e32-7fe4-400b-9ec4-651de861b05b",
   "metadata": {},
   "outputs": [],
   "source": [
    "if doanalysis ==1: \n",
    "    conv = 3600*24*365\n",
    "    yr='.clm2.h0.'   \n",
    "    delta=1\n",
    "    print('ychoose=', ychoose)\n",
    "    rel=1\n"
   ]
  },
  {
   "cell_type": "markdown",
   "id": "dfc463cd-0498-4fe0-9d77-182770b4766f",
   "metadata": {},
   "source": [
    "#### ANALYSIS: Choose variables to read in"
   ]
  },
  {
   "cell_type": "code",
   "execution_count": 33,
   "id": "a5037104-fc74-4b4c-9461-29753a747902",
   "metadata": {},
   "outputs": [],
   "source": [
    "vars=['FATES_GPP','FATES_NPP','TLAI','QFLX_EVAP_TOT','FATES_GROWTH_RESP',\n",
    "      'FATES_MAINT_RESP','FATES_LEAFMAINTAR','FATES_VEGC','FATES_VEGC_ABOVEGROUND','FATES_TRIMMING','lat','lon','time']"
   ]
  },
  {
   "cell_type": "markdown",
   "id": "4456147b-30d6-495f-ba18-6055a069a389",
   "metadata": {},
   "source": [
    " #### ANALYSIS: Make output figure directory"
   ]
  },
  {
   "cell_type": "code",
   "execution_count": 34,
   "id": "ea54bfec-a93c-4d1e-ae55-2b1ccffdf6d1",
   "metadata": {
    "scrolled": true
   },
   "outputs": [
    {
     "name": "stdout",
     "output_type": "stream",
     "text": [
      "dir exists:/glade/u/home/rfisher/fates-global-cal/ilamb_scripts/figs_TWOS_ens_AMC44/\n"
     ]
    }
   ],
   "source": [
    "figpath = (notebookdr+'/'+ 'figs_'+ens_directory+'/')\n",
    "make_directory(figpath)"
   ]
  },
  {
   "cell_type": "markdown",
   "id": "f6817bb4-b91d-45cc-b2d0-514afc099f1f",
   "metadata": {},
   "source": [
    "####  ANALYSIS: Make a single data structure for the ensemble"
   ]
  },
  {
   "cell_type": "code",
   "execution_count": 35,
   "id": "ecafb28c-9af7-474a-8fc9-0779ffe2ec5c",
   "metadata": {},
   "outputs": [
    {
     "name": "stdout",
     "output_type": "stream",
     "text": [
      "/glade/derecho/scratch/rfisher/ 36\n",
      "end\n"
     ]
    }
   ],
   "source": [
    "print(output_dir,ncases)\n",
    "if doanalysis ==1:\n",
    "    debug=0\n",
    "    hstring='.clm2.h0.'\n",
    "    count=1\n",
    "    print(caseroot)\n",
    "    print(vs)\n",
    "    missing=range(0,ncases+1)\n",
    "    missing=np.multiply(missing,0)\n",
    "    for i in vs:       \n",
    "        run=caseroot+str(i)\n",
    "        #os.listdir(output_dir + '/archive')\n",
    "        arc = output_dir + 'archive/' + run + '/lnd/hist/' \n",
    "        arc = output_dir + '/' + run+'/'\n",
    "        hpath = arc\n",
    "        tfile = run+hstring+str(ychoose)+'-06.nc'\n",
    "        if debug == 1 :print('tfile',tfile)\n",
    "        missing[i]=1\n",
    "        #if(os.path.isdir(hpath)): ! #there is an archive\n",
    "        if(os.path.isfile(hpath+tfile)):  # this years is in the archive. \n",
    "            if debug == 1 :print('file in archive')\n",
    "            missing[i]=0\n",
    "        else:\n",
    "            if debug == 1 :print('file not in archive. try rundir',hpath+tfile)                \n",
    "            hpath = output_dir + run + '/run/'            \n",
    "            if(os.path.isdir(hpath)): \n",
    "                print('there is a rundir',hpath)                \n",
    "                if(os.path.isfile(hpath+tfile)):\n",
    "                    if debug == 1 :print('file in  rundir')\n",
    "                    missing[i]=0\n",
    "                else:\n",
    "                    print('no file in rundir',hpath+tfile)\n",
    "            else:\n",
    "                print('there is no  rundir',hpath)\n",
    "                \n",
    "        if(missing[i]==0): # the yeaat can be found. \n",
    "            rt=hpath+run+yr+str(ychoose)+'*'\n",
    "            print('filepath ',rt)\n",
    "            tmp = xr.open_mfdataset(rt, decode_times=False)  \n",
    "            allvars=list(xr.open_dataset(hpath+tfile, decode_times=False).variables)\n",
    "            dropvars=list(set(allvars) - set(vars)) #thanks to Ben for figuring this part out :) \n",
    "            print('file '+rt)\n",
    "            tmp=xr.open_mfdataset(rt, decode_times=False, drop_variables=dropvars)\n",
    "\n",
    "        if i==vs[0]:\n",
    "            try: \n",
    "                del dsc\n",
    "            except:\n",
    "                print('no dsc')\n",
    "            dsc = tmp           \n",
    "        else:\n",
    "            dsc=xr.concat([dsc,tmp],'ens')\n",
    "\n",
    "print('end')"
   ]
  },
  {
   "cell_type": "markdown",
   "id": "055095f8-27a6-4063-9333-5fbaaf351c98",
   "metadata": {},
   "source": [
    "####  ANALYSIS: Save data in netcdf file just incase"
   ]
  },
  {
   "cell_type": "markdown",
   "id": "4f026b07-e3be-4d2f-80cb-e13422b3da1f",
   "metadata": {},
   "source": [
    "####  ANALYSIS:  Make a function to plot relative differences between runs"
   ]
  },
  {
   "cell_type": "code",
   "execution_count": 36,
   "id": "2917b61c-6ebf-424f-9dee-123d011e3e41",
   "metadata": {},
   "outputs": [],
   "source": [
    "def make_diff_figure(dsc,v,vmode,rel,conv,ncases,pmode,vlim,parameter_list):   \n",
    "    fig = plt.figure()\n",
    "    tots=np.zeros([ncases+1])\n",
    "    if(pmode == 1):\n",
    "        plt.rcParams['figure.figsize'] =[14,7];\n",
    "    if(pmode == 2):\n",
    "        plt.rcParams['figure.figsize'] = [14,2];\n",
    "    if(pmode == 3):\n",
    "        plt.rcParams['figure.figsize'] = [12,10]\n",
    "\n",
    "    fig.subplots_adjust(hspace=0.3, wspace=0.2)\n",
    "    ncol=(ncases+1) // nrw\n",
    "    count=0\n",
    "    defe= 0\n",
    "    \n",
    "    if(n==13): defe = 12\n",
    "    if(n==26): defe = 3\n",
    "    if(n>=32): defe = 3\n",
    "    if(n>=35):  defe = 0\n",
    "    if(vmode == 1): #only one variable\n",
    "        \n",
    "        var_0=dsc[vars[v]].isel(ens=defe)\n",
    "        defm=np.multiply(np.mean(var_0,0),conv)\n",
    "    else: #vmode = 2, ratio\n",
    "        var_i=dsc[vars[v[0]]].isel(ens=defe) \n",
    "        vari=np.multiply(np.mean(var_i,0),conv[0])\n",
    "        var_ib=dsc[vars[v[1]]].isel(ens=defe)\n",
    "        varib=np.multiply(np.mean(var_ib,0),conv[1]) \n",
    "        defm=np.divide(vari,varib)\n",
    "            \n",
    "    for i in vs:\n",
    "        # organize plots depending on whether this is a OAAT or ensemble analysis \n",
    "        index=((count+1) % nrw)*ncol + ((count+1) // nrw)\n",
    "        p=((count+1) // nrw)-1\n",
    "        enspick=i\n",
    "        if(zerocase == 0):\n",
    "            index = i # miss out the zero case in the ensemble indexing.\n",
    "            enspick = i-1 # the ensembles are zero indexed.\n",
    "        #print('i',i,'index',index)\n",
    "        #print('vs',vs)\n",
    "        if( vmode == 1): #only one variable\n",
    "            var_i=dsc[vars[v]].isel(ens=enspick) \n",
    "            mod=np.multiply(np.mean(var_i,0),conv)\n",
    "            delt=mod-defm\n",
    "        else:\n",
    "            var_i=dsc[vars[v[0]]].isel(ens=enspick) \n",
    "            vari=np.multiply(np.mean(var_i,0),conv[0])\n",
    "            var_ib=dsc[vars[v[1]]].isel(ens=enspick)\n",
    "            varib=np.multiply(np.mean(var_ib,0),conv[1])                    \n",
    "            mod=np.divide(vari,varib)\n",
    "        if(rel==1): delt=np.divide(mod-defm,defm)\n",
    "        if(rel==2): delt =mod-defm\n",
    "        if(rel==0): delt=mod\n",
    "                  \n",
    "        dtot=(np.nansum(np.nansum(delt,0),0))\n",
    "        tots[i]=dtot\n",
    "        if(pmode == 1):\n",
    "            if((i+1) % 2==0):\n",
    "                if(vary_by_pft==0):\n",
    "                    ex=' x'+str(max_delta[p])\n",
    "                else:\n",
    "                    ex=' max'\n",
    "            else:\n",
    "                if(vary_by_pft==0):\n",
    "                    ex=' x'+str(min_delta[p])\n",
    "                else:\n",
    "                    ex=' min'\n",
    "                    \n",
    "        if(pmode == 2):\n",
    "            ex = ' x'+str(pvalue[i-1])\n",
    "        \n",
    "        if(pmode == 3):\n",
    "            ex0 = ' ='+str(pvalue1[i-1])\n",
    "            ex1 = ' ='+str(pvalue2[i-1])\n",
    "        \n",
    "        if(missing[i]==1):\n",
    "            print('missing plot',i)\n",
    "            \n",
    "        else:         \n",
    "            #axis ranges.\n",
    "\n",
    "            cm = 'RdYlBu'\n",
    "            if(rel==1): vm = -vlim\n",
    "            if(rel==2): vm = -vlim #vm=vlim*0.5\n",
    "            if(rel==0): vm = 0 ; cm = 'rainbow' #np.min(np.min(delt,0),0)\n",
    "            \n",
    "            #print('vm',vm)\n",
    "            donotplot=0\n",
    "            if(rel==1 or rel ==2):\n",
    "                if(pmode == 1 and i == 0 ):donotplot=1\n",
    "            #print('donotplot',donotplot,i)\n",
    "            if(donotplot==0):\n",
    "                ax = fig.add_subplot(nrw, ncol, index)\n",
    "                plt1 = delt.plot(cmap=cm,vmin=vm,vmax=vlim)\n",
    "                ax.get_xaxis().set_visible(False)\n",
    "                ax.get_yaxis().set_visible(False)\n",
    "\n",
    "                if pmode == 1 : ax.set_title(str(parameter_label[(((count+1) // 2))-1]+ex))\n",
    "                if pmode == 2 : ax.set_title(str(parameter_label[0]+ex))\n",
    "                if pmode == 3 : ax.set_title(parameter_label[0]+str(ex0)+' '+parameter_label[1]+str(ex1))\n",
    "               # cbar = plt.colorbar(plt1)\n",
    "                if(vmode==1):\n",
    "                    ylab=vars[v]\n",
    "                else:\n",
    "                    ylab=vars[v[0]]+'/'+vars[v[1]]\n",
    "                plt1.colorbar.ax.set_ylabel(ylab)\n",
    "                fig.canvas.draw()\n",
    "        count=count+1\n",
    "        \n",
    "       # time.sleep(1) \n",
    "            \n",
    "    plt.tight_layout()    \n",
    "    if(rel==0): ptype='_abs_'\n",
    "    if(rel==1): ptype='_reldiff_'\n",
    "    if(rel==2): ptype='_absdiff_'\n",
    "    \n",
    "    if(vmode == 1): \n",
    "        figname = figpath+ens_directory+vars[v]+ptype+'_'+str(ychoose)+'.png'\n",
    "    else:\n",
    "        figname = figpath+ens_directory+vars[v[0]]+'_div_'+vars[v[1]]+ptype+'_'+str(ychoose)+'.png'            \n",
    "    print(figname)\n",
    "    plt.savefig(figname)\n",
    "    #ttot=np.reshape(tots, [5,5])\n",
    "    #print(ttot)\n",
    "    #fig = plt.figure()\n",
    "   # plt.imshow(ttot)       \n",
    "\n",
    "### ANALYSIS: Plot model ensemble output"
   ]
  },
  {
   "cell_type": "code",
   "execution_count": 37,
   "id": "3cb8c364-7c36-4879-9546-fbb310b79b65",
   "metadata": {},
   "outputs": [],
   "source": [
    "#print(dsc)"
   ]
  },
  {
   "cell_type": "code",
   "execution_count": 38,
   "id": "8b8bb577-e27b-4a30-a6ed-2674badde9e5",
   "metadata": {},
   "outputs": [],
   "source": [
    "# types of plot\n",
    "abs=0\n",
    "rel=1\n",
    "absdiff=2\n",
    "gppconv=3600*24*365"
   ]
  },
  {
   "cell_type": "code",
   "execution_count": 39,
   "id": "f714f6e8-44dc-4552-9bcd-5387d16869df",
   "metadata": {},
   "outputs": [
    {
     "name": "stdout",
     "output_type": "stream",
     "text": [
      "['FATES_GPP', 'FATES_NPP', 'TLAI', 'QFLX_EVAP_TOT', 'FATES_GROWTH_RESP', 'FATES_MAINT_RESP', 'FATES_LEAFMAINTAR', 'FATES_VEGC', 'FATES_VEGC_ABOVEGROUND', 'FATES_TRIMMING', 'lat', 'lon', 'time']\n"
     ]
    }
   ],
   "source": [
    "conv=1;vlim=5.5;vmode=1;\n",
    "print(vars)\n",
    "if doanalysisplots ==1:\n",
    "    make_diff_figure(dsc,2,vmode,abs,conv,ncases,pmode,vlim,parameter_list)"
   ]
  },
  {
   "cell_type": "code",
   "execution_count": 40,
   "id": "3660947c-b2d1-4185-90a8-2e7133f53172",
   "metadata": {},
   "outputs": [],
   "source": [
    "conv=1;vlim=0.5;vmode=1;\n",
    "if doanalysisplots ==1:\n",
    "    make_diff_figure(dsc,2,vmode,absdiff,conv,ncases,pmode,vlim,parameter_list)"
   ]
  },
  {
   "cell_type": "code",
   "execution_count": 41,
   "id": "ec595c65-0d53-4c45-8998-56ba4826b171",
   "metadata": {},
   "outputs": [],
   "source": [
    "conv=[1,1];vlim=0.8;vmode=2;\n",
    "if doanalysisplots ==1:\n",
    "    make_diff_figure(dsc,[1,0],vmode,abs,conv,ncases,pmode,vlim,parameter_list)"
   ]
  },
  {
   "cell_type": "code",
   "execution_count": 42,
   "id": "0bfa7356-61aa-4115-a6c5-a30d1a39de71",
   "metadata": {},
   "outputs": [],
   "source": [
    "conv=[1,1];vlim=0.1;vmode=2;\n",
    "if doanalysisplots ==1:\n",
    "    make_diff_figure(dsc,[1,0],vmode,absdiff,conv,ncases,pmode,vlim,parameter_list)"
   ]
  },
  {
   "cell_type": "code",
   "execution_count": 43,
   "id": "e6da3935-eefd-48d2-be40-66b8f2a4db6e",
   "metadata": {},
   "outputs": [],
   "source": [
    "conv=[1,1];vlim=0.8;vmode=2;\n",
    "if doanalysisplots ==1:\n",
    "    make_diff_figure(dsc,[5,0],vmode,abs,conv,ncases,pmode,vlim,parameter_list)"
   ]
  },
  {
   "cell_type": "code",
   "execution_count": 44,
   "id": "58ac670f-2d05-4ebe-a33d-d2be36160472",
   "metadata": {},
   "outputs": [],
   "source": [
    "conv=[1,1];vlim=0.1;vmode=2;\n",
    "if doanalysisplots ==1:\n",
    "    make_diff_figure(dsc,[5,0],vmode,absdiff,conv,ncases,pmode,vlim,parameter_list)"
   ]
  },
  {
   "cell_type": "code",
   "execution_count": 45,
   "id": "cb045f90-398f-435d-ba58-ce8413361437",
   "metadata": {},
   "outputs": [],
   "source": [
    "conv=[1,1];vlim=0.8;vmode=2;\n",
    "if doanalysisplots ==1:\n",
    "    make_diff_figure(dsc,[4,0],vmode,abs,conv,ncases,pmode,vlim,parameter_list)"
   ]
  },
  {
   "cell_type": "code",
   "execution_count": 46,
   "id": "e293b4c0-71bf-4798-b8df-d379e253305a",
   "metadata": {},
   "outputs": [],
   "source": [
    "conv=[1,1];vlim=0.1;vmode=2;\n",
    "if doanalysisplots ==1:\n",
    "    make_diff_figure(dsc,[4,0],vmode,absdiff,conv,ncases,pmode,vlim,parameter_list)"
   ]
  },
  {
   "cell_type": "code",
   "execution_count": 47,
   "id": "668a1c4d-3061-4764-b3a2-5444995f8b37",
   "metadata": {},
   "outputs": [],
   "source": [
    "vlim=3.5;vmode=1;\n",
    "if doanalysisplots ==1:\n",
    "    make_diff_figure(dsc,0,vmode,abs,gppconv,ncases,pmode,vlim,parameter_list)"
   ]
  },
  {
   "cell_type": "code",
   "execution_count": 48,
   "id": "effe048c-b6a8-4329-9ec9-b6e48651bbc9",
   "metadata": {
    "tags": []
   },
   "outputs": [],
   "source": [
    "vlim=0.3;\n",
    "if doanalysisplots ==1:\n",
    "    make_diff_figure(dsc,0,1,absdiff,gppconv,ncases,pmode,vlim,parameter_list)"
   ]
  },
  {
   "cell_type": "code",
   "execution_count": 49,
   "id": "9e09b259-a3a2-4fda-bf2e-0390e00d511a",
   "metadata": {},
   "outputs": [],
   "source": [
    "vlim=1.5;vmode=1;\n",
    "if doanalysisplots ==1:\n",
    "    make_diff_figure(dsc,1,vmode,abs,gppconv,ncases,pmode,vlim,parameter_list)"
   ]
  },
  {
   "cell_type": "code",
   "execution_count": 50,
   "id": "c6cb304d-0de8-42e4-9b70-9ab365f18300",
   "metadata": {
    "tags": []
   },
   "outputs": [],
   "source": [
    "conv=3600*24*365;vlim=0.3\n",
    "if doanalysisplots ==1:\n",
    "    make_diff_figure(dsc,1,1,absdiff,conv,ncases,pmode,vlim,parameter_list)"
   ]
  },
  {
   "cell_type": "code",
   "execution_count": 51,
   "id": "ffeb7304-0239-42a7-abf5-b160414a9c39",
   "metadata": {},
   "outputs": [],
   "source": [
    "vlim=0.1;vmode=1;\n",
    "if doanalysisplots ==1:\n",
    "    make_diff_figure(dsc,1,vmode,absdiff,gppconv,ncases,pmode,vlim,parameter_list)"
   ]
  },
  {
   "cell_type": "code",
   "execution_count": 52,
   "id": "3a4854e6-3534-43b0-b664-c7023daacf12",
   "metadata": {
    "tags": []
   },
   "outputs": [],
   "source": [
    "conv=1;vlim=15;\n",
    "if doanalysisplots ==1:\n",
    "    make_diff_figure(dsc,7,1,abs,conv,ncases,pmode,vlim,parameter_list)"
   ]
  },
  {
   "cell_type": "code",
   "execution_count": 53,
   "id": "1af27062-ec5e-402f-8012-ff35e6cffa8b",
   "metadata": {
    "tags": []
   },
   "outputs": [],
   "source": [
    "conv=1;vlim=2\n",
    "if doanalysisplots ==1:\n",
    "    make_diff_figure(dsc,7,1,rel,conv,ncases,pmode,vlim,parameter_list)"
   ]
  },
  {
   "cell_type": "code",
   "execution_count": 54,
   "id": "de93eaa1-6d5f-4d19-8421-c62fac33f17c",
   "metadata": {
    "tags": []
   },
   "outputs": [],
   "source": [
    "conv=1;vlim=1\n",
    "if doanalysisplots ==1:\n",
    "    make_diff_figure(dsc,7,1,absdiff,conv,ncases,pmode,vlim,parameter_list)"
   ]
  },
  {
   "cell_type": "code",
   "execution_count": 55,
   "id": "5716eae5-9a88-48cc-9f21-c8c1b70b2c71",
   "metadata": {},
   "outputs": [],
   "source": [
    "conv=1;vlim=5.5\n",
    "if doanalysisplots ==1:\n",
    "    make_diff_figure(dsc,2,1,0,conv,ncases,pmode,vlim,parameter_list)"
   ]
  },
  {
   "cell_type": "code",
   "execution_count": 56,
   "id": "afad3e10-cec0-4f7d-b5b3-b07f014053e7",
   "metadata": {},
   "outputs": [],
   "source": [
    "conv=1;vlim=3.0\n",
    "if doanalysisplots ==1:\n",
    "    make_diff_figure(dsc,2,1,rel,conv,ncases,pmode,vlim,parameter_list)"
   ]
  },
  {
   "cell_type": "code",
   "execution_count": 57,
   "id": "0b51f95e-8b3a-40a1-98c0-f889299370bf",
   "metadata": {},
   "outputs": [],
   "source": [
    "conv=1;vlim=0.5\n",
    "if doanalysisplots ==1:\n",
    "    make_diff_figure(dsc,2,1,absdiff,conv,ncases,pmode,vlim,parameter_list)"
   ]
  },
  {
   "cell_type": "markdown",
   "id": "3f62ceb9-ae3b-4627-b000-9812287e1761",
   "metadata": {},
   "source": [
    "#### ILAMB: Set up pathsfor ensemble"
   ]
  },
  {
   "cell_type": "code",
   "execution_count": 58,
   "id": "b9d826b1-4a6b-4c06-9273-88c075dbdf8f",
   "metadata": {},
   "outputs": [],
   "source": [
    "%matplotlib inline\n",
    "import numpy as np\n",
    "import warnings\n",
    "warnings.filterwarnings('ignore')\n",
    "import xarray as xr\n",
    "from matplotlib import pyplot as plt\n",
    "import datetime\n",
    "import os.path\n",
    "import netCDF4 as nc\n",
    "import xesmf as xe\n",
    "ceres=1"
   ]
  },
  {
   "cell_type": "code",
   "execution_count": 59,
   "id": "0fd06747-3c5b-4f42-9286-a132aabdaefb",
   "metadata": {},
   "outputs": [
    {
     "ename": "NameError",
     "evalue": "name 'dsc' is not defined",
     "output_type": "error",
     "traceback": [
      "\u001b[0;31m---------------------------------------------------------------------------\u001b[0m",
      "\u001b[0;31mNameError\u001b[0m                                 Traceback (most recent call last)",
      "Cell \u001b[0;32mIn[59], line 2\u001b[0m\n\u001b[1;32m      1\u001b[0m \u001b[38;5;66;03m#plot GPP \u001b[39;00m\n\u001b[0;32m----> 2\u001b[0m np\u001b[38;5;241m.\u001b[39mmultiply(np\u001b[38;5;241m.\u001b[39mmean(\u001b[43mdsc\u001b[49m[\u001b[38;5;28mvars\u001b[39m[\u001b[38;5;241m0\u001b[39m]]\u001b[38;5;241m.\u001b[39misel(ens\u001b[38;5;241m=\u001b[39m\u001b[38;5;241m1\u001b[39m),\u001b[38;5;241m0\u001b[39m),\u001b[38;5;241m3600\u001b[39m\u001b[38;5;241m*\u001b[39m\u001b[38;5;241m24\u001b[39m\u001b[38;5;241m*\u001b[39m\u001b[38;5;241m1000\u001b[39m)\u001b[38;5;241m.\u001b[39mplot()\n",
      "\u001b[0;31mNameError\u001b[0m: name 'dsc' is not defined"
     ]
    }
   ],
   "source": [
    "#plot GPP \n",
    "np.multiply(np.mean(dsc[vars[0]].isel(ens=1),0),3600*24*1000).plot()"
   ]
  },
  {
   "cell_type": "markdown",
   "id": "d6fe986d-45d1-4e08-b4b9-ea35f907ed90",
   "metadata": {},
   "source": [
    "## Open the extracted ILAMB benchmark data. "
   ]
  },
  {
   "cell_type": "markdown",
   "id": "4bc2c9e0-d76b-45ab-be3a-41038fcdf705",
   "metadata": {},
   "source": [
    "### PFT map"
   ]
  },
  {
   "cell_type": "code",
   "execution_count": null,
   "id": "94ed13ae-d294-42c7-abe0-97c3fa80371f",
   "metadata": {},
   "outputs": [],
   "source": [
    "fig = plt.figure()\n",
    "plt.rcParams['figure.figsize'] = [10,7]\n",
    "#fig.subplots_adjust(hspace=0.1, wspace=0.1)\n",
    "npft=12\n",
    "pftname_short=['BET','NET','NDT','BETT','BDDT','BCDT','BES','BDDS','BCDS','C3AG','C3G','C4G']\n",
    "pfts=range(1,npft+1)\n",
    "print(pfts)\n",
    "#fig, axes = plt.subplots(nrows=4, ncols=4)\n",
    "exfile='/glade/derecho/scratch/rfisher/archive/TWOS_ens_AMC42_case_31/lnd/hist/TWOS_ens_AMC42_case_31.clm2.h0.2000-06.nc'\n",
    "exf=xr.open_mfdataset(exfile, decode_times=False)  \n",
    "pftarea_all=exf.FATES_CANOPYCROWNAREA_PF\n",
    "#exf.FATES_CANOPYCROWNAREA_PF.isel(fates_levpft=1).plot()\n",
    "for p in pfts:\n",
    "   ax = fig.add_subplot(3, 4, p)\n",
    "\n",
    "   pftarea=pftarea_all.isel(fates_levpft=p-1) #/np.sum(lb,0)\n",
    "   plt1=pftarea.plot(vmin=0,vmax=0.8)   \n",
    "   plt1.colorbar.ax.set_ylabel('')\n",
    "   ax.set_ylim(ymin=-60,ymax=83)\n",
    "   ax.get_xaxis().set_visible(False)\n",
    "   ax.get_yaxis().set_visible(False)\n",
    "   ax.set_title(str(pftname_short[p-1]))\n",
    "figname = figpath+ens_directory+'pftmap.png'      \n",
    "print(figname)\n",
    "plt.savefig(figname)\n"
   ]
  },
  {
   "cell_type": "code",
   "execution_count": null,
   "id": "7e637674-b492-4f97-a870-db70f5c14243",
   "metadata": {},
   "outputs": [],
   "source": [
    "## Make plot titles\n",
    "\n",
    "axestitle=[]\n",
    "print(vs,axestitle)\n",
    "if doanalysis ==1:\n",
    "    for i in vs: \n",
    "        if(pmode == 1):\n",
    "            if((i+1) % 2==0):\n",
    "                if(vary_by_pft==1):\n",
    "                    ex=' x '+str(min_delta[p])\n",
    "                else:\n",
    "                    ex=' min'\n",
    "            else:\n",
    "                if(vary_by_pft==1):\n",
    "                    ex=' x '+str(max_delta[p])\n",
    "                else:\n",
    "                    ex=' max'\n",
    "                    \n",
    "        if(pmode == 2):\n",
    "            ex = ' x '+str(pvalue[i-1])\n",
    "        if(pmode == 3):\n",
    "            ex0 = ' ='+str(pvalue1[i-1])\n",
    "            ex1 = ' ='+str(pvalue2[i-1])\n",
    "        if pmode == 1 : axestitle.append(str(parameter_label[(((count+1) // 2))-1]+ex))\n",
    "        if pmode == 2 : axestitle.append(str(parameter_label[0]+ex))\n",
    "        if pmode == 3 : axestitle.append(parameter_label[0]+str(ex0)+' '+parameter_label[1]+str(ex1))\n"
   ]
  },
  {
   "cell_type": "markdown",
   "id": "c6f8a5a0-b63b-4fb8-a66c-c74a43427885",
   "metadata": {},
   "source": [
    "## Function to make variable error plots"
   ]
  },
  {
   "cell_type": "code",
   "execution_count": null,
   "id": "09e9a0ab-184a-4bf7-b29e-61d8637353bc",
   "metadata": {
    "scrolled": true,
    "tags": []
   },
   "outputs": [],
   "source": [
    "def model_error_plot(v,conv,bias0_rmse1,data0_clm51,relative,ceres,ann,esel,maxmonth): \n",
    "    vmn=-4; vmx=4\n",
    "    if(v==3):\n",
    "        vmn=-1.5\n",
    "        vmx=1.5\n",
    "    \n",
    "    npft=12\n",
    "    pfts=range(0,npft)\n",
    "    AlbError=np.empty([npft,ncases])\n",
    "    AbsVegFrac=np.empty([ncases])\n",
    "    rhomin=np.empty([npft])\n",
    "    taumin=np.empty([npft])\n",
    "    ncol=(ncases+1) // nrw\n",
    "\n",
    "    errtots=np.zeros([ncases+1])\n",
    "    make_bias_fig=0\n",
    "    if(bias0_rmse1==0):make_bias_fig=1\n",
    "    make_bias_fig=1\n",
    "    plotfig=1   \n",
    "    #make figure\n",
    "    if(make_bias_fig==1):\n",
    "        fig = plt.figure()\n",
    "        if(pmode == 1):\n",
    "            plt.rcParams['figure.figsize'] = [14,7]\n",
    "        if(pmode == 2):\n",
    "            plt.rcParams['figure.figsize'] = [14,2];\n",
    "        if(pmode == 3):\n",
    "            plt.rcParams['figure.figsize'] = [12,10]\n",
    "    14\n",
    "    # what comparison to make\n",
    "    if(data0_clm51==0): #actual data \n",
    "        if(v==0):\n",
    "            data = ds_out_GPP_obs\n",
    "        else:\n",
    "            if(v==3):\n",
    "                data = ds_out_ET_obs\n",
    "                print('ET data')        \n",
    "            else: \n",
    "                if(v==1):\n",
    "                    print('alb data')\n",
    "                    if(ceres==1):\n",
    "                        data = ds_out_ALB_obs_ceres\n",
    "                    else:\n",
    "                        data = ds_out_ALB_obs_ceres\n",
    "    else:\n",
    "        if(v==0):\n",
    "            data = np.mean(CLM51SP['FPSN'],0)*conv1\n",
    "            if(maxmonth==1):\n",
    "                data = np.max(CLM51SP['FPSN'],0)*conv1                         \n",
    "            else:\n",
    "                data = np.mean(CLM51SP[vars[v]],0)\n",
    "                if(maxmonth==1):\n",
    "                    data = np.max(CLM51SP[vars[v]],0)               \n",
    "    \n",
    "        fig = plt.figure()\n",
    "        data.plot()\n",
    "        \n",
    "        fig = plt.figure()\n",
    "    for i in vs: \n",
    "        count=i\n",
    "        iarray=i\n",
    "        if(zerocase==0):iarray=i-1\n",
    "        if(zerocase==1): \n",
    "            enspick=i\n",
    "        else:\n",
    "            enspick=i-1\n",
    "        if(pmode==1 and i==0):\n",
    "            plotfig=0\n",
    "        else:\n",
    "            plotfig=1\n",
    "        #model output \n",
    "        mod=np.mean(dsc[vars[v]].isel(ens=enspick),0)\n",
    "        if(maxmonth==1):\n",
    "            mod=np.max(dsc[vars[v]].isel(ens=enspick),0)       \n",
    "        mod=np.multiply(mod,conv)\n",
    "        \n",
    "        if(bias0_rmse1==1):\n",
    "            rmse = np.sqrt(np.square(mod-data))\n",
    "            diff=rmse\n",
    "        else:\n",
    "            bias = (mod-data)\n",
    "            diff = bias\n",
    "            \n",
    "        if(i==vs[0]): defaultDIFF=diff       \n",
    "        reldiff = diff-defaultDIFF\n",
    "        toterr=(np.nanmean(np.nanmean(reldiff,0),0))\n",
    "        errtots[i]=toterr\n",
    "        #AbsVegFrac_map=np.mean(np.divide(dsc['SABV'].isel(ens=enspick),dsc['SABV'].isel(ens=enspick)+dsc['SABG'].isel(ens=enspick)),0)\n",
    "        #AbsVegFrac[iarray]=np.mean(np.mean(AbsVegFrac_map,0),0)\n",
    "        \n",
    "        if(make_bias_fig==1 and plotfig ==1 ):\n",
    "            index=((count+1) % nrw)*ncol + ((count+1) // nrw)\n",
    "            p=((count+1) // nrw)-1    \n",
    "            if(zerocase==0):index = i\n",
    "            ax = fig.add_subplot(nrw, ncol, index)  \n",
    "            if(relative==1):\n",
    "                plt1=reldiff.plot(cmap='bwr',vmin=vmn,vmax=vmx)\n",
    "            else:\n",
    "                plt1=diff.plot(cmap='bwr',vmin=vmn,vmax=vmx)       \n",
    "            ax.set_ylim(ymin=-60,ymax=83)\n",
    "\n",
    "            #plt1.colorbar.ax.set_ylabel('')\n",
    "            #plt1.set_ylabel('')\n",
    "            plt.xlabel(\"\")\n",
    "            plt.ylabel(\"\")\n",
    "            \n",
    "            if(vmode==3):\n",
    "                plt.xlabel(parameter_label[1])\n",
    "                plt.ylabel(parameter_label[0])\n",
    "            ax.get_xaxis().set_visible(False)\n",
    "            ax.get_yaxis().set_visible(False)  \n",
    "            strerr=str(toterr)\n",
    "            strerr=strerr[0:5]\n",
    "            #ax.text(10, -50, strerr)\n",
    "            if(zerocase==1):\n",
    "                ax.set_title(axestitle[i])\n",
    "            else:\n",
    "                ax.set_title(axestitle[i-1])            \n",
    "       \n",
    "        \n",
    "        #make PFT level error structure    \n",
    "        for p in pfts:                        \n",
    "            pfta=pftarea_all.isel(fates_levpft=p)  \n",
    "            pft_specific_vals = diff.where(pfta>0.5,0,0);    \n",
    "            e=pft_specific_vals.values\n",
    "            e=np.where(np.isnan(e), 0, e) #remove nans\n",
    "            e=np.where(e>50, 0, e) #remove high values\n",
    "            e=np.square(e) #rmse\n",
    "            esumE=np.mean(np.mean(e,0),0) #rmse\n",
    "            esumE=np.sqrt(esumE) #rmse\n",
    "            AlbError[p,iarray]=esumE\n",
    "            if(i==esel): \n",
    "                pft_specific_vals = diff.where(pfta>0.5,0,0);\n",
    "                if(p==pfts[0]):\n",
    "                    pft_specific_diffs=pft_specific_vals\n",
    "                else:\n",
    "                    pft_specific_diffs=xr.concat([pft_specific_diffs,pft_specific_vals],'pft')\n",
    "                \n",
    "            #etotp=np.reshape(AlbError[p,:], [5,5])\n",
    "            # find PFT prameters\n",
    "            if(pmode==3):\n",
    "                rhomin[p]=pvalue1[np.argmin(AlbError[p,:])]\n",
    "                taumin[p]=pvalue2[np.argmin(AlbError[p,:])]\n",
    "    print(rhomin)\n",
    "    print(taumin)\n",
    "\n",
    "    plt.tight_layout()  \n",
    "    #make names for figures \n",
    "    relabs='abs_'\n",
    "    if(relative==1): relabs='rel_'\n",
    "    biasrmse='rmse'\n",
    "    if(maxmonth==1):\n",
    "        mm=\"maxm\"\n",
    "    else:\n",
    "        mm=\"annmean\"\n",
    "    if(bias0_rmse1==0): biasrmse='bias'\n",
    "    annmon='monthlyALB'\n",
    "    if(ann==1):annmon='annualALB'\n",
    "    if(data0_clm51==1): \n",
    "        datas='CLM51SP'\n",
    "    else:\n",
    "        if(ceres==1):\n",
    "            datas='ceres'\n",
    "        else:\n",
    "            datas='gewex'\n",
    "            \n",
    "    if(make_bias_fig==1):    \n",
    "        figname = figpath+ens_directory+'_'+vars[v]+'_'+annmon+'_'+relabs+'_'+biasrmse+'_map_'+datas+mm+'.png'\n",
    "        print(figname)\n",
    "        plt.savefig(figname)\n",
    "    \n",
    "    #draw the error map where appropriate\n",
    "    if(bias0_rmse1==1):\n",
    "        fig = plt.figure()\n",
    "        pfts=range(0,npft)\n",
    "        for p in pfts:\n",
    "            ax = fig.add_subplot(3, 4, p+1)\n",
    "            if(pmode==3):\n",
    "                if(n==21 or n==23):\n",
    "                    etot=np.reshape(AlbError[p,:], [6,6])  \n",
    "                if(n==43):\n",
    "                    etot=np.reshape(AlbError[p,:], [3,3])  \n",
    "                else:\n",
    "                    etot=np.reshape(AlbError[p,:], [6,6])                     \n",
    "                etot=np.where(np.isnan(etot), 0, etot) #remove nans\n",
    "                plt.imshow(etot,cmap='rainbow')\n",
    "                plt.colorbar()\n",
    "                ax.get_yaxis().set_visible(False)\n",
    "                ax.get_xaxis().set_visible(False)\n",
    "                ax.set_title(str(pftname_short[p]))\n",
    "                plt.xlabel(parameter_label[1])\n",
    "                plt.ylabel(parameter_label[0])\n",
    "                etot_vp[v,p,:]=AlbError[p,:]\n",
    "        figname = figpath+ens_directory+vars[v]+'_PFTerrorsurface_'+annmon+'_'+relabs+'_'+biasrmse+'_'+datas+mm+'.png'\n",
    "        plt.savefig(figname)\n",
    "        print(figname)    \n",
    "    plot_pft_err=0\n",
    "    if(bias0_rmse1==0):\n",
    "        fig = plt.figure()\n",
    "        pfts=range(0,npft)\n",
    "        for p in pfts:\n",
    "            ax = fig.add_subplot(3, 4, p+1)\n",
    "            psd=pft_specific_diffs.isel(pft=p)\n",
    "            #psd=np.where(np.isnan(psd), 0, psd) #remove nans\n",
    "            psd.plot(cmap='bwr')\n",
    "            \n",
    "            ax.set_title(str(pftname_short[p]))\n",
    "            ax.set_ylim(ymin=-60,ymax=83)\n",
    "            ax.get_xaxis().set_visible(False)\n",
    "            ax.get_yaxis().set_visible(False)\n",
    "\n",
    "        figname = figpath+ens_directory+vars[v]+'_PFTerror_map_'+annmon+'_'+relabs+'_'+biasrmse+'_'+datas+'_esel_'+str(esel)+mm+'.png'\n",
    "        plt.savefig(figname)\n",
    "        "
   ]
  },
  {
   "cell_type": "markdown",
   "id": "3ceb01ae-ec7e-4530-894d-b799e4ac1dc4",
   "metadata": {},
   "source": [
    "## regrid model and ILAMB data to same grid. "
   ]
  },
  {
   "cell_type": "code",
   "execution_count": null,
   "id": "9defbb1e-b701-4390-aff1-e666bd7c3539",
   "metadata": {},
   "outputs": [],
   "source": [
    "if doanalysis ==1: \n",
    "    filenameb ='/glade/u/home/rfisher/GBAF_Benchmark.nc'\n",
    "    gppbm = xr.open_dataset(filenameb,group='MeanState')\n",
    "    \n",
    "    filenameef ='/glade/u/home/rfisher/GLEAM_Benchmark.nc'\n",
    "    etbm = xr.open_dataset(filenameef,group='MeanState')\n",
    "    \n",
    "    filenameef ='/glade/u/home/rfisher/GBAF_Benchmark_EF.nc'\n",
    "    efbm = xr.open_dataset(filenameef,group='MeanState')\n",
    " \n",
    "    filenameef ='/glade/u/home/rfisher/GLEAM_Benchmark.nc'\n",
    "    glbm = xr.open_dataset(filenameef,group='MeanState')\n",
    "\n",
    "    filenameal ='/glade/u/home/rfisher/GEWEX.SRB_Benchmark.nc'\n",
    "    gwalbbm = xr.open_dataset(filenameal,group='MeanState')\n",
    "\n",
    "    filenameal ='/glade/u/home/rfisher/CERESed4.1_Benchmark.nc'\n",
    "    cralbbm = xr.open_dataset(filenameal,group='MeanState')\n",
    "\n",
    "    filenamelai ='/glade/u/home/rfisher/MODISlai_Benchmark.nc'\n",
    "    laibm = xr.open_dataset(filenamelai,group='MeanState')\n",
    "    print('done')\n",
    "    "
   ]
  },
  {
   "cell_type": "code",
   "execution_count": null,
   "id": "c4542ef8-8871-4594-9121-e71c3b63ff17",
   "metadata": {},
   "outputs": [],
   "source": [
    "if doanalysis ==1: \n",
    "    ds=gppbm.timeint_of_FPSN\n",
    "    ds_out = xr.Dataset({'lat': (['lat'], np.arange(-90, 91, 4.0)),\n",
    "                     'lon': (['lon'], np.arange(0, 360, 5.0)),})\n",
    "    regridder = xe.Regridder(ds, ds_out, 'bilinear')\n",
    "\n",
    "    ds_out_GPP_obs = regridder(ds)\n",
    "    ds_out_GPP_obs = ds_out_GPP_obs.where(ds_out_GPP_obs<10000,0,0)\n",
    "    ds_out_GPP_obs = ds_out_GPP_obs.where(ds_out_GPP_obs>0.0001,np.nan,0)\n",
    "    \n",
    "    ds=etbm.timeint_of_et \n",
    "    regridder = xe.Regridder(ds, ds_out, 'bilinear')\n",
    "    ds_out_ET_obs = regridder(ds)\n",
    "    ds_out_ET_obs = ds_out_ET_obs.where(ds_out_ET_obs<10000,0,0)\n",
    "    ds_out_ET_obs = ds_out_ET_obs.where(ds_out_ET_obs>0.0001,np.nan,0)\n",
    "    \n",
    "    ds=laibm.timeint_of_lai\n",
    "    regridder = xe.Regridder(ds, ds_out, 'bilinear')\n",
    "\n",
    "    ds_out_LAI_obs = regridder(ds)\n",
    "    ds_out_LAI_obs = ds_out_LAI_obs.where(ds_out_LAI_obs<10000,0,0)\n",
    "    ds_out_LAI_obs = ds_out_LAI_obs.where(ds_out_LAI_obs>0.0001,np.nan,0)\n",
    "\n",
    "    ds=efbm.timeint_of_EvapFrac\n",
    "    regridder = xe.Regridder(ds, ds_out, 'bilinear')\n",
    "    ds_out_EF_obs = regridder(ds)\n",
    "    ds_out_EF_obs = ds_out_EF_obs.where(ds_out_EF_obs<10000,0,0)\n",
    "    \n",
    "    ds=gwalbbm.timeint_of_albedo\n",
    "    regridder = xe.Regridder(ds, ds_out, 'bilinear')\n",
    "    ds_out_ALB_obs_gewex = regridder(ds)\n",
    "    ds_out_ALB_obs_gewex = ds_out_ALB_obs_gewex.where(ds_out_ALB_obs_gewex<10000,0,0)\n",
    "\n",
    "    ds=cralbbm.timeint_of_albedo\n",
    "    regridder = xe.Regridder(ds, ds_out, 'bilinear')\n",
    "    ds_out_ALB_obs_ceres = regridder(ds)\n",
    "    ds_out_ALB_obs_ceres = ds_out_ALB_obs_ceres.where(ds_out_ALB_obs_ceres<10000,0,0)"
   ]
  },
  {
   "cell_type": "code",
   "execution_count": null,
   "id": "9d517c20-4254-4df2-85b7-4fc6d6117236",
   "metadata": {},
   "outputs": [],
   "source": [
    "ds_out_ET_obs.plot()"
   ]
  },
  {
   "cell_type": "code",
   "execution_count": null,
   "id": "376449f5-88b6-4263-ac18-92497ee1b690",
   "metadata": {},
   "outputs": [],
   "source": [
    "mod=np.mean(dsc[vars[3]].isel(ens=3),0)\n",
    "conv=(3600*24)*12/(10**6)\n",
    "conv=3600*24\n",
    "print(conv,1)\n",
    "mod=np.multiply(mod,conv)\n",
    "diff=mod-ds_out_ET_obs\n",
    "diff.plot()\n",
    "print(mod)"
   ]
  },
  {
   "cell_type": "markdown",
   "id": "90d8ac89-c1ed-4f8e-be2b-c3250e54a6ba",
   "metadata": {},
   "source": [
    "### Create variable indexed error function "
   ]
  },
  {
   "cell_type": "code",
   "execution_count": null,
   "id": "de0bed94-a180-40d2-ac09-d9cfa564106d",
   "metadata": {},
   "outputs": [],
   "source": [
    "print(np.shape(vars))\n",
    "etot_vp=np.zeros([np.size(vars),npft,ncases])\n",
    "print(np.shape(etot_vp))"
   ]
  },
  {
   "cell_type": "markdown",
   "id": "d4e61ab8-6607-4bfa-a9df-c845b3d8f87b",
   "metadata": {},
   "source": [
    "## Do model data differnce plots. "
   ]
  },
  {
   "cell_type": "code",
   "execution_count": null,
   "id": "9ac47791-b406-47ea-b850-c4d7e1183878",
   "metadata": {},
   "outputs": [],
   "source": [
    " if doanalysis ==1:\n",
    "    gppconv1=(3600*24)*12/(10**6) #umol/m2/s to gC/m2/day GPP\n",
    "    conv4=  3600*24 *1000 #kgC/m2/s to gC/m2/day FATES GPP\n",
    "    print(gppconv1,conv4)\n",
    "    bias0_rmse1=1\n",
    "    data0_clm51=0\n",
    "    relative=0\n",
    "    ceres=1\n",
    "    ann=0\n",
    "    isel=1\n",
    "    maxmonth=0\n",
    "    model_error_plot(0,conv4,bias0_rmse1,data0_clm51,relative,ceres,ann,isel,maxmonth)\n"
   ]
  },
  {
   "cell_type": "code",
   "execution_count": null,
   "id": "71b23740-dc62-4b35-914a-4d461fb0b313",
   "metadata": {},
   "outputs": [],
   "source": [
    " if doanalysis ==1:\n",
    "    conv1=(3600*24)*12/(10**6) #umol/m2/s to gC/m2/day GPP\n",
    "    conv4=  3600*24 * 1000 #gC/m2/s to gC/m2/day FATES GPP\n",
    "    print(conv4)\n",
    "    bias0_rmse1=0\n",
    "    data0_clm51=0\n",
    "    relative=0\n",
    "    ceres=1\n",
    "    ann=0\n",
    "    isel=1\n",
    "    maxmonth=0\n",
    "    model_error_plot(0,conv4,bias0_rmse1,data0_clm51,relative,ceres,ann,isel,maxmonth)\n",
    "\n"
   ]
  },
  {
   "cell_type": "code",
   "execution_count": null,
   "id": "f991e305-eb37-45a6-a0f7-1ee377085e63",
   "metadata": {},
   "outputs": [],
   "source": [
    " if doanalysis ==1:\n",
    "    conv1=(3600*24)*12/(10**6) #umol/m2/s to gC/m2/day GPP\n",
    "    conv4=  3600*24 *1000 #kgC/m2/s to gC/m2/day FATES GPP\n",
    "    conv=3600*24\n",
    "    bias0_rmse1=1\n",
    "    data0_clm51=0\n",
    "    relative=0\n",
    "    ceres=1\n",
    "    ann=0\n",
    "    isel=1\n",
    "    maxmonth=0\n",
    "    model_error_plot(3,conv,bias0_rmse1,data0_clm51,relative,ceres,ann,isel,maxmonth)\n"
   ]
  },
  {
   "cell_type": "code",
   "execution_count": null,
   "id": "465cd84c-180a-4a6e-9854-97be523ff626",
   "metadata": {},
   "outputs": [],
   "source": [
    "if doanalysis ==1:\n",
    "    bias0_rmse1=0\n",
    "    data0_clm51=0\n",
    "    relative=0\n",
    "    ceres=1\n",
    "    ann=0\n",
    "    conv0=1\n",
    "    \n",
    "    isel=1\n",
    "    maxmonth=0\n",
    "    model_error_plot(3,conv,bias0_rmse1,data0_clm51,relative,ceres,ann,isel,maxmonth)"
   ]
  },
  {
   "cell_type": "code",
   "execution_count": null,
   "id": "561a6089-b752-41aa-85d0-7bfce301ecc3",
   "metadata": {},
   "outputs": [],
   "source": [
    "if doanalysis ==1:\n",
    "    bias0_rmse1=1\n",
    "    data0_clm51=0\n",
    "    relative=0\n",
    "    ceres=1\n",
    "    ann=0\n",
    "    conv0=1\n",
    "    isel=24\n",
    "    maxmonth=0\n",
    "    model_error_plot(3,conv,bias0_rmse1,data0_clm51,relative,ceres,ann,isel,maxmonth)\n",
    "\n"
   ]
  },
  {
   "cell_type": "code",
   "execution_count": null,
   "id": "800a7277-5806-4da6-96ac-6ae1343b34c6",
   "metadata": {},
   "outputs": [],
   "source": []
  },
  {
   "cell_type": "code",
   "execution_count": null,
   "id": "184611c9-afea-4080-b426-2882db71270c",
   "metadata": {},
   "outputs": [],
   "source": []
  },
  {
   "cell_type": "code",
   "execution_count": null,
   "id": "0f341226-8e14-40b0-816c-550f3b112f62",
   "metadata": {},
   "outputs": [],
   "source": [
    "## find the minimum error value\n",
    "minvalp1=np.empty([npft])\n",
    "minvalp2=np.empty([npft])\n",
    "\n",
    "fig = plt.figure()\n",
    "print(pfts)\n",
    "for p in pfts:\n",
    "    gpperror=etot_vp[0,p-1,:]\n",
    "    order = gpperror.argsort()\n",
    "    ranksgpp = order.argsort()\n",
    "    \n",
    "    eterror=etot_vp[3,p-1,:]\n",
    "    order = eterror.argsort()\n",
    "    rankset = order.argsort()\n",
    "\n",
    "    sumrank=ranksgpp+rankset\n",
    "   # print(eterror)\n",
    "   # print(order)\n",
    "   # print(rankset)\n",
    "    #print(p)\n",
    "    #print(sumrank)\n",
    "    ax = fig.add_subplot(3, 4, p)\n",
    "    if(pmode==3):\n",
    "        if(n==21 or n==23):\n",
    "            etot=np.reshape(sumrank, [6,6]) \n",
    "        if(n==43):\n",
    "            etot=np.reshape(sumrank, [3,3])  \n",
    "        else:\n",
    "            etot=np.reshape(sumrank, [6,6])                     \n",
    "                \n",
    "        plt.imshow(etot,cmap='rainbow')\n",
    "        # plt.colorbar()\n",
    "        ax.get_yaxis().set_visible(False)\n",
    "        ax.set_title(str(pftname_short[p-1]))\n",
    "        plt.xlabel(parameter_label[1])\n",
    "        plt.ylabel(parameter_label[0])\n",
    "        print(p)\n",
    "        print(p,'minv',np.argmin(sumrank))\n",
    "        minvalp1[p-1]=pvalue1[np.argmin(sumrank)]\n",
    "        minvalp2[p-1]=pvalue2[np.argmin(sumrank)]        \n",
    "\n",
    "figname = figpath+ens_directory+'_PFTranks_'+'.png'\n",
    "plt.savefig(figname)\n",
    "pvalue1[np.argmin(sumrank)-1]\n",
    "print(minvalp1)\n",
    "print(minvalp2) "
   ]
  },
  {
   "cell_type": "code",
   "execution_count": null,
   "id": "deec1f07-f399-4c3f-a6cd-ce520e6d44a4",
   "metadata": {},
   "outputs": [],
   "source": [
    "eterror=etot_vp[3,1,:]\n",
    "eterror"
   ]
  },
  {
   "cell_type": "code",
   "execution_count": null,
   "id": "e8997d1f-8d0f-4542-8561-4876cc55e128",
   "metadata": {},
   "outputs": [],
   "source": [
    "if doanalysis ==1:\n",
    "    bias0_rmse1=1\n",
    "    data0_clm51=1\n",
    "    relative=0\n",
    "    ceres=1\n",
    "    ann=1\n",
    "    maxmonth=0\n",
    "    model_error_plot(0,conv4,bias0_rmse1,data0_clm51,relative,ceres,ann,isel,maxmonth)"
   ]
  },
  {
   "cell_type": "code",
   "execution_count": null,
   "id": "fb6267ae-2ab2-48a4-ab57-63543372132c",
   "metadata": {},
   "outputs": [],
   "source": [
    "if doanalysis ==1:\n",
    "    bias0_rmse1=1\n",
    "    data0_clm51=0\n",
    "    relative=0\n",
    "    ceres=1\n",
    "    ann=0\n",
    "    model_error_plot(bias0_rmse1,data0_clm51,relative,ceres,ann,maxmonth)"
   ]
  },
  {
   "cell_type": "code",
   "execution_count": null,
   "id": "86982b66-d6bd-4b19-87a7-b61be44660d0",
   "metadata": {},
   "outputs": [],
   "source": [
    "if doanalysis ==1:\n",
    "    bias0_rmse1=0\n",
    "    data0_clm51=0\n",
    "    relative=0\n",
    "    ceres=1 \n",
    "    ann=0\n",
    "    model_error_plot(bias0_rmse1,data0_clm51,relative,ceres,ann) "
   ]
  },
  {
   "cell_type": "code",
   "execution_count": null,
   "id": "043a4893-418a-4400-b94d-82b2f1d83caa",
   "metadata": {},
   "outputs": [],
   "source": [
    "\n",
    "\n",
    "clm51a = np.divide(np.mean(CLM51SP.FSR,0),np.mean(CLM51SP.FSDS,0))\n",
    "clm51m = np.mean(np.divide(CLM51SP.FSR,CLM51SP.FSDS),0)\n",
    "\n",
    "fig = plt.figure()\n",
    "plt.rcParams['figure.figsize'] = [12,10]\n",
    "ax = fig.add_subplot(2, 2, 1) \n",
    "ds_out_ALB_obs_ceres.plot(vmin=0,vmax=0.85,cmap='jet')\n",
    "ax.get_xaxis().set_visible(False)\n",
    "ax.get_yaxis().set_visible(False)  \n",
    "ax.set_title('CERES data product (from ILAMB')\n",
    "\n",
    "ax = fig.add_subplot(2, 2, 2) \n",
    "mod_a.plot(vmin=0,vmax=0.85,cmap='jet')\n",
    "ax.get_xaxis().set_visible(False)\n",
    "ax.get_yaxis().set_visible(False)  \n",
    "ax.set_title('CLM51SP annual')\n",
    "\n",
    "ax = fig.add_subplot(2, 2, 3)\n",
    "clm5sbav = np.divide(np.mean(CLM51SP.SABV,0),np.mean(CLM51SP.FSDS,0))\n",
    "(clm51m-ds_out_ALB_obs_ceres).plot(vmin=-0.2,vmax=0.2,cmap='bwr')\n",
    "ax.get_xaxis().set_visible(False)\n",
    "ax.get_yaxis().set_visible(False)  \n",
    "ax.set_title('CLM51SP vs CERES monthly: \\n mean(FSR/FSDS)')\n",
    "\n",
    "ax = fig.add_subplot(2, 2, 4)\n",
    "(clm51a-ds_out_ALB_obs_ceres).plot(vmin=-0.2,vmax=0.2,cmap='bwr')\n",
    "ax.get_xaxis().set_visible(False)\n",
    "ax.get_yaxis().set_visible(False)  \n",
    "ax.set_title('CLM51 vs CERES annual: \\n mean(FSR)/mean(FSDS)')\n",
    "figname = figpath+ens_directory+'CLM51SP_CERES comparison.png'\n",
    "plt.savefig(figname)\n",
    "print(figname)"
   ]
  },
  {
   "cell_type": "code",
   "execution_count": null,
   "id": "5f1baccb-8217-4a05-8832-834e775ca397",
   "metadata": {},
   "outputs": [],
   "source": [
    "if doanalysis ==1:\n",
    "    bias0_rmse1=1\n",
    "    data0_clm51=0\n",
    "    relative=0\n",
    "    ceres=0 \n",
    "    ann=1\n",
    "    model_error_plot(bias0_rmse1,data0_clm51,relative,ceres,ann) "
   ]
  },
  {
   "cell_type": "code",
   "execution_count": null,
   "id": "df27c2bb-7344-4abf-a787-bd21d74128a3",
   "metadata": {},
   "outputs": [],
   "source": [
    "if doanalysis ==1:\n",
    "    bias0_rmse1=0\n",
    "    data0_clm51=0\n",
    "    relative=0\n",
    "    ceres=0 \n",
    "    ann=1\n",
    "    model_error_plot(bias0_rmse1,data0_clm51,relative,ceres,ann) "
   ]
  },
  {
   "cell_type": "code",
   "execution_count": null,
   "id": "e59eee79-be96-4894-8009-9578ab48ddf7",
   "metadata": {},
   "outputs": [],
   "source": [
    " #make PFT level error structure   \n",
    "i=24\n",
    "ceres=1\n",
    "#ds=np.divide(dsc['FSR'].isel(ens=i),dsc['FSDS'].isel(ens=i))\n",
    "ds=np.multiply(dsc['FATES_GPP'].isel(ens=i),conv4)\n",
    "\n",
    "dsM=np.mean(ds,0)\n",
    "var_i=dsc[vars[1]].isel(ens=i)         \n",
    "mod1=np.multiply(np.mean(var_i,0),1)\n",
    "var_i=dsc[vars[7]].isel(ens=i)         \n",
    "mod2=np.multiply(np.mean(var_i,0),1)\n",
    "mod=np.divide(mod1,mod2)\n",
    "diff =(mod-ds_out_ALB_obs_ceres)*100\n",
    "if(ceres==1):\n",
    "    diff =(mod-ds_out_ALB_obs_ceres)*100\n",
    "plt.rcParams['figure.figsize'] = [12,8]\n",
    "fig = plt.figure()\n",
    "for p in pfts:\n",
    "    #print(p)\n",
    "    ax = fig.add_subplot(3, 4, p)\n",
    "    \n",
    "    pfta=pftarea_all.isel(fates_levpft=p-1)  \n",
    "    pft_specific_vals = diff.where(pfta>0.1,0,0);    \n",
    "    pft_specific_vals.plot(cmap='bwr',vmin=-10,vmax=10)\n",
    "    e=pft_specific_vals.values\n",
    "    e=np.where(np.isnan(e), 0, e) #remove nans\n",
    "    e=np.where(e>50, 0, e) #remove high values\n",
    "    e=np.square(e) #rmse\n",
    "    esumE=np.mean(np.mean(e,0),0) #rmse\n",
    "    esumE=np.sqrt(esumE) #rmse\n",
    "    #AlbError[p,i]=esumE    \n",
    "    print(p,i,esumE)\n",
    "    #e=pft_specific_vals.values\n",
    "   # e=np.where(np.isnan(e), 0, e) #remove nans\n",
    "   # e=np.where(e>50, 0, e) #remove high values\n",
    "   # e=np.square(e) #rmse\n",
    "   # esumE=np.mean(np.mean(e,0),0) #rmse\n",
    "   # esumE=np.sqrt(esumE) #rmse\n",
    "   # AlbError[p,i]=esumE\n",
    "    #print(e)\n",
    "    \n",
    "    #plt1.colorbar.ax.set_ylabel('')\n",
    "    ax.set_ylim(ymin=-60,ymax=83)\n",
    "    ax.get_xaxis().set_visible(False)\n",
    "    ax.get_yaxis().set_visible(False)\n",
    "    ax.set_title('')\n",
    "    \n",
    "figname = figpath+ens_directory+'albedo_grwex_pft_error_'+str(i)+'.png'\n",
    "if(ceres==1):\n",
    "    figname = figpath+ens_directory+'albedo_ceres_pft_error_'+str(i)+'.png'\n",
    "plt.savefig(figname)\n",
    "print(figname)\n",
    "    "
   ]
  },
  {
   "cell_type": "code",
   "execution_count": null,
   "id": "e318b92a-0d33-47ee-b009-610124e06ac0",
   "metadata": {},
   "outputs": [],
   "source": [
    " #make PFT level error structure   \n",
    "i=24\n",
    "ceres=1\n",
    "ds=dsc['FATES_GPP'].isel(ens=i)      \n",
    "dsM=np.mean(ds,0)\n",
    "var_i=dsc[vars[0]].isel(ens=i)         \n",
    "mod1=np.multiply(np.mean(var_i,0),1)\n",
    "var_i=dsc[vars[7]].isel(ens=i)         \n",
    "mod2=np.multiply(np.mean(var_i,0),1)\n",
    "mod=np.divide(mod1,mod2)\n",
    "\n",
    "ds=np.multiply(dsc['FATES_GPP'].isel(ens=i),conv4)\n",
    "diff =(mod-ds_out_ALB_obs_ceres)*100\n",
    "if(ceres==1):\n",
    "    diff =(mod-ds_out_ALB_obs_ceres)*100\n",
    "plt.rcParams['figure.figsize'] = [12,8]\n",
    "fig = plt.figure()\n",
    "for p in pfts:\n",
    "    #print(p)\n",
    "    ax = fig.add_subplot(3, 4, p)\n",
    "    \n",
    "    pfta=pftarea_all.isel(fates_levpft=p-1)  \n",
    "    pft_specific_vals = diff.where(pfta>0.1,0,0);    \n",
    "    pft_specific_vals.plot(cmap='bwr',vmin=-10,vmax=10)\n",
    "    e=pft_specific_vals.values\n",
    "    e=np.where(np.isnan(e), 0, e) #remove nans\n",
    "    e=np.where(e>50, 0, e) #remove high values\n",
    "    e=np.square(e) #rmse\n",
    "    esumE=np.mean(np.mean(e,0),0) #rmse\n",
    "    esumE=np.sqrt(esumE) #rmse\n",
    "    #AlbError[p,i]=esumE    \n",
    "    print(p,i,esumE)\n",
    "    #e=pft_specific_vals.values\n",
    "   # e=np.where(np.isnan(e), 0, e) #remove nans\n",
    "   # e=np.where(e>50, 0, e) #remove high values\n",
    "   # e=np.square(e) #rmse\n",
    "   # esumE=np.mean(np.mean(e,0),0) #rmse\n",
    "   # esumE=np.sqrt(esumE) #rmse\n",
    "   # AlbError[p,i]=esumE\n",
    "    #print(e)\n",
    "    \n",
    "    #plt1.colorbar.ax.set_ylabel('')\n",
    "    ax.set_ylim(ymin=-60,ymax=83)\n",
    "    ax.get_xaxis().set_visible(False)\n",
    "    ax.get_yaxis().set_visible(False)\n",
    "    ax.set_title('')\n",
    "    \n",
    "figname = figpath+ens_directory+'albedo_grwex_pft_error_'+str(i)+'.png'\n",
    "if(ceres==1):\n",
    "    figname = figpath+ens_directory+'albedo_ceres_pft_error_'+str(i)+'.png'\n",
    "plt.savefig(figname)\n",
    "print(figname)\n",
    "    "
   ]
  },
  {
   "cell_type": "code",
   "execution_count": null,
   "id": "084bef46-c964-4e8c-8dc3-9e667670c346",
   "metadata": {},
   "outputs": [],
   "source": [
    "fig = plt.figure()\n",
    "for p in pfts:\n",
    "    print(p)\n",
    "    ax = fig.add_subplot(3, 4, p+1)\n",
    "    \n",
    "    pfta=pftarea_all.isel(fates_levpft=p)  \n",
    "    pft_specific_vals = diff.where(pfta>0.1,0,0);    \n",
    "    pft_specific_vals.plot()\n",
    "    \n",
    "    #plt.colorbar()\n",
    "    #plt1.colorbar.ax.set_ylabel('')\n",
    "    #ax.set_ylim(ymin=-60,ymax=83)\n",
    "    #ax.get_xaxis().set_visible(False)\n",
    "    #ax.get_yaxis().set_visible(False)\n",
    "    #ax.set_title(str(pftname_short[p+1]))\n",
    "\n",
    "\n",
    "figname = figpath+ens_directory+'albedo_PFTerrorsurface_gewex.png'\n",
    "if(ceres==1):\n",
    "    figname = figpath+ens_directory+'albedo_PFTerrorsurface_ceres.png'\n",
    "plt.savefig(figname)\n",
    "print(figname)"
   ]
  },
  {
   "cell_type": "code",
   "execution_count": null,
   "id": "f054a45c-8988-4d2c-963a-51800296aba1",
   "metadata": {},
   "outputs": [],
   "source": [
    "if doanalysis ==1: \n",
    "    etot=np.reshape(errtots, [5,5])\n",
    "    plt.imshow(etot,cmap='RdYlBu')\n",
    "    plt.colorbar()\n",
    "    figname = figpath+ens_directory+'albedo_2Derrorsurface_'+relabs+'_'+datas+'.png'\n",
    "    print(figname)\n",
    "    plt.savefig(figname)\n"
   ]
  },
  {
   "cell_type": "markdown",
   "id": "48b47eb8-d45f-4b4f-8268-541270cff063",
   "metadata": {
    "tags": []
   },
   "source": [
    "### ILAMB"
   ]
  },
  {
   "cell_type": "markdown",
   "id": "00634190-0e6c-4723-8a1f-6a6972e7fd3d",
   "metadata": {},
   "source": []
  },
  {
   "cell_type": "code",
   "execution_count": null,
   "id": "345f5896-e0ca-4a97-a18f-b70f438162ad",
   "metadata": {},
   "outputs": [],
   "source": [
    "%%bash -s \"$config_path\" \"$model_setup_path\" \"$ilamb_path\" \"$ilamb_regions\" \"$list_models\" \"$build_path\" \"$doilamb\" \"$clearilamb\"\n",
    "\n",
    "config_path=$1  \n",
    "model_setup_path=$2\n",
    "ilamb_path=$3\n",
    "ilamb_regions=$4\n",
    "list_models=$5\n",
    "build_path=$6\n",
    "doilamb=$7\n",
    "clearilamb=$8\n",
    "\n",
    "#PBS -N ilamb_diagnostics*\n",
    "#PBS -q regular\n",
    "#PBS -l select=4:ncpus=2:mpiprocs=2:mem=109GB\n",
    "#PBS -l walltime=12:00:00\n",
    "#PBS -A P93300041\n",
    "#PBS -j oe\n",
    "#PBS -k eod\n",
    "#PBS -m abe\n",
    "#PBS -M oleson@ucar.edu\n",
    "\n",
    "echo $config_path\n",
    "echo $model_setup_path\n",
    "echo $list_models\n",
    "echo $ilamb_path\n",
    "echo $build_path\n",
    "echo $doilamb\n",
    "echo $clearilamb\n",
    "\n",
    "if [ $clearilamb -eq 1 ]\n",
    "then\n",
    "rm -rf $build_path/Ecosystem*/*\n",
    "rm -rf $build_path/Radiation*/*\n",
    "rm -rf $build_path/Hydrology*/*\n",
    "fi\n",
    "\n",
    "#export BUILD_DIRNAME fates_rtm\n",
    "if [ $doilamb -eq 1 ]\n",
    "then\n",
    "#conda init bash\n",
    "source /glade/work/oleson/miniconda3/etc/profile.d/conda.sh\n",
    "\n",
    "export MPI_UNBUFFERED_STDIO=true\n",
    "export TMPDIR=$TMPDIR\n",
    "mkdir -p $TMPDIR\n",
    "\n",
    "conda activate ilamb-test\n",
    "export MPLBACKEND=Agg\n",
    "\n",
    "#do not delete this. \n",
    "export ILAMB_ROOT=/glade/p/cesm/lmwg_dev/oleson/ILAMB/ILAMB_all\n",
    "\n",
    "\n",
    "echo \"Thiis is the ILAMB command if you want to manually submit it. e.g. to run outside of jupyter\"\n",
    "echo \"mpiexec_mpt dplace -s 1 ilamb-run --config \" $config_path \\\n",
    "\"--model_root \" $ilamb_path \\\n",
    "\"--models \"  $list_models \\\n",
    "\"--build_dir \" $build_path \\\n",
    "\"--define_regions \" $ilamb_regions \\\n",
    "\"--model_setup \" $model_setup_path \\\n",
    "\"--filter  .clm2.h0. --skip_plots \"\n",
    "\n",
    "\n",
    "\n",
    "echo \"submitting ilamb\"\n",
    "#rosie modifications\n",
    "./ilamb-run --config $config_path \\\n",
    "--model_root $ilamb_path \\\n",
    "--models  $list_models \\\n",
    "--build_dir $build_path \\\n",
    "--define_regions $ilamb_regions \\\n",
    "--model_setup $model_setup_path \\\n",
    "--filter  .clm2.h0. \\\n",
    "--skip_plots \\\n",
    "--confrontation  Albedo/CERES  Albedo/GEWEX.SRB \n",
    "#--confrontation  Albedo/CERES LatentHeat/GBAF GrossPrimaryProductivity/GBAF\n",
    "\n",
    "\n",
    "fi"
   ]
  },
  {
   "cell_type": "code",
   "execution_count": null,
   "id": "ff89a5af-5e2d-4d35-a455-07447fd7aa74",
   "metadata": {},
   "outputs": [],
   "source": [
    "# where do you want to build the ILAMB data?\n",
    "# this needs more generalizing. \n",
    "build_dirname=ens_directory\n",
    "\n",
    "ilamb_path   ='/glade/u/home/rfisher/ilamb_standalone_TEST/ILAMB/MODELS/'\n",
    "build_path = ilamb_path+'/'+build_dirname+'/'+'_build2'\n",
    "\n",
    "#ILAMB config file\n",
    "config_file='ilamb_CLMFATES_SP_noforcing.cfg'\n",
    "config_path='../ilamb_scripts/config_files/'+config_file\n",
    "\n",
    "#model setup path\n",
    "model_setup_file='model_setup_fatesrtm.txt'\n",
    "model_setup_path = '../ilamb_scripts/model_setup_files/'+ model_setup_file\n",
    "\n",
    "#write a new model setup file\n",
    "model_setup_path= 'model_setup_files/model_setup_'+ens_directory+'.txt'\n",
    "print(model_setup_path)\n",
    "\n",
    "#ILAMB regions file\n",
    "ilamb_regions='region_files/LandRegions.nc'\n",
    "print('ccwd='+os.getcwd())\n",
    "\n",
    "try:\n",
    "    os.remove(model_setup_path)\n",
    "except: \n",
    "    print(\"no setup file\")\n",
    "\n",
    "modelarray = [\"dummylist\", \"dummylist\"]\n",
    "# Make list of all models in ensemble\n",
    "f = open(model_setup_path, \"w\")\n",
    "for i in vs:       \n",
    "    run=caseroot+str(i)\n",
    "    if(i==8):\n",
    "        if(clm5_comp==1):\n",
    "            run='CLM50-SP'\n",
    "    if(i==12):\n",
    "        if(clm5_comp==1):\n",
    "            run='CLM51-SP'\n",
    "    #if(i==16):\n",
    "    #    if(clm5_comp==1):\n",
    "    #        run='ctsmnov22_fates_default'\n",
    "    #models[i]=run\n",
    "    msu_line=run+' , /glade/scratch/'+USER+'/archive/'+run+'/lnd/hist/'+\" \"\n",
    "    if(i==0):\n",
    "        list_models=run\n",
    "        msu_list= msu_line\n",
    "    else:\n",
    "        list_models=list_models+\" \"+run\n",
    "        msu_list= msu_list + msu_line\n",
    "    modelarray.append(run) \n",
    "    f.write(msu_line)\n",
    "    f.write('\\n')\n",
    "#f = open(model_setup_path, \"w\")\n",
    "#f.writelines(msu_list)\n",
    "f.close()\n",
    "del modelarray[0:2]\n",
    "\n",
    "\n",
    "#model_setup_file='model_setup_fatesrtm3.txt'\n",
    "#model_setup_path = '../ilamb_scripts/model_setup_files/'+ model_setup_file\n",
    "#list_models='RTM_ens3_case_1 RTM_ens3_case_10 RTM_ens4_case_1'\n",
    "\n",
    "print('model config file='+ config_path)\n",
    "print('model setup path='+model_setup_path)\n",
    "print('ilamb_path='+ilamb_path)\n",
    "print('list_models='+list_models)\n",
    "print('build_path='+build_path)"
   ]
  },
  {
   "cell_type": "code",
   "execution_count": null,
   "id": "a183a390-24de-44a0-9a78-3cde5c781a88",
   "metadata": {},
   "outputs": [],
   "source": []
  },
  {
   "cell_type": "code",
   "execution_count": null,
   "id": "21733dd0-2445-49fe-99e7-2e7863f2e019",
   "metadata": {},
   "outputs": [],
   "source": [
    "#os.listdir( '/glade/scratch/rfisher/archive/CLM5.1/lnd/hist/')"
   ]
  },
  {
   "cell_type": "markdown",
   "id": "32104b7a-1707-45fd-84b7-dd80a726bff6",
   "metadata": {},
   "source": [
    "#### Read in and plot ILAMB ensemble outputs "
   ]
  },
  {
   "cell_type": "markdown",
   "id": "bcf84d9e-5a03-40b3-92d3-4604bc585127",
   "metadata": {},
   "source": [
    "#### ILAMB PLOTS: generic output plotter"
   ]
  },
  {
   "cell_type": "code",
   "execution_count": null,
   "id": "2d11d703-59cd-4da1-b5bd-cc56ec3633c7",
   "metadata": {},
   "outputs": [],
   "source": [
    "def ensemble_bias2(variable,vlc,vgroup,product_name,vmn,vmx,nrw):   \n",
    "\n",
    "    fig = plt.figure()\n",
    "    output_pth=build_path+'/'+vgroup+'/'+variable+'/'+product_name+'/'\n",
    "    print(pmode)\n",
    "    if(pmode == 1):\n",
    "        plt.rcParams['figure.figsize'] = [27,7]\n",
    "    if(pmode == 2):\n",
    "        plt.rcParams['figure.figsize'] = [14,4];\n",
    "    if(pmode == 3):\n",
    "        plt.rcParams['figure.figsize'] = [12,10]\n",
    "\n",
    "    arrscore = np.zeros(ncases+1)\n",
    "    ncol=(ncases+1) // nrw\n",
    "    print('ncol='+str(ncol)+' nrw= '+str(nrw))\n",
    "    for i in vs:\n",
    "        ifile = product_name+'_'+modelarray[i]+'.nc'\n",
    "        if(pmode == 3):\n",
    "            index= i+1\n",
    "        else:\n",
    "            index=((i) % nrw)*ncol + ((i) // nrw)+1\n",
    "\n",
    "        print('i p index ',i,index)\n",
    "        var= 'bias_map_of_'+vlc\n",
    "        filep=output_pth+ifile\n",
    "        \n",
    "        if(pmode == 1):\n",
    "            p=((i+2) // nrw)-1\n",
    "            print('p'+str(p))\n",
    "            if((i+1) % 2==0):\n",
    "                if(vary_by_pft==0):\n",
    "                    ex=' x'+str(min_delta[p])\n",
    "                else:\n",
    "                    ex=' min'\n",
    "            else:\n",
    "                if(npftvary_by_pft==0):\n",
    "                    ex=' x'+str(max_delta[p])\n",
    "                else:\n",
    "                    ex=' max'\n",
    "        if(pmode == 2):\n",
    "            ex = ' x'+str(pvalue[i])\n",
    "        if(pmode == 3):\n",
    "            ex0 = ' ='+str(pvalue1[i])\n",
    "            ex1 = ' ='+str(pvalue2[i])\n",
    "            \n",
    "        if pmode == 1 :plotlabel=str(parameter_label[p]+ex)\n",
    "        if pmode == 2 : plotlabel=str(parameter_label[0]+ex)\n",
    "        if pmode == 3 : plotlabel=parameter_label[0]+str(ex0)+' '+parameter_label[1]+str(ex1)\n",
    "        if(clm5_comp==1):\n",
    "            if( i == 8) :\n",
    "                plotlabel='CLM50-SP'\n",
    "            if(i == 12):\n",
    "                plotlabel='CLM51-SP'\n",
    "            #if(i == 16):\n",
    "           #     plotlabel='ctsmnov22_fates_default'                \n",
    "        print('plotlabel '+plotlabel, index)\n",
    "        #print('p'+str(p),index,parameter_label[p])\n",
    "        try:\n",
    "            modelcmp=xr.open_dataset(filep, group='MeanState')\n",
    "            testv=modelcmp[var]\n",
    "            #print(np.max(np.max(testv)))\n",
    "            #testv.where(testv < 99999,nan)\n",
    "            tv = testv.where(testv<= 1e30, np.nan,3)\n",
    "            print('found data')\n",
    "            #ax = fig.add_subplot(nrw, ncol,  index)\n",
    "#im3 = ax3.pcolormesh(cropfrac1.lon.values,cropfrac1.lat.values,(cropfrac1-cropfrac2).values[0],transform=ccrs.PlateCarree(),\n",
    "#          vmax=vmax,vmin=vmin,cmap='BrBG')            \n",
    "            ax1 = fig.add_subplot(nrw, ncol,  index,projection=ccrs.Robinson())\n",
    "            im1 = ax1.pcolormesh(tv,vmax=vmx,vmin=vmn)\n",
    "            #fig.colorbar(im1,ax=ax1,shrink=0.07,label='%')\n",
    "            #ax1.coastlines()\n",
    "            #ax1.stock_img()\n",
    "            #ax1.set_title('$\\Delta$ Crop Percentage')\n",
    "            #ax1.set_extent([-180,180,-65,80],crs=ccrs.PlateCarree())\n",
    "            #fig.tight_layout()\n",
    "            #tv.plot(cmap='RdYlBu',vmin=vmn,vmax=vmx)\n",
    "            #ax.get_xaxis().set_visible(False)\n",
    "            #ax.get_yaxis().set_visible(False)\n",
    "            #arrscore[i]=tv.mean(skipna=True)\n",
    "            #ax.set_title(axtitle\n",
    "            #ax.set_title(plotlabel)\n",
    " \n",
    "        except:\n",
    "            print(\"no data\"+str(i))\n",
    "            print(filep)\n",
    "    bfilep=output_pth+product_name+'_Benchmark.nc'\n",
    "    bmk=xr.open_dataset(bfilep, group='MeanState')\n",
    "#ax = fig.add_subplot(4,4, 4)\n",
    "#bmk.timeint_of_albedo.plot(vmin=0.1,vmax=0.3,cmap='Spectral')\n",
    "#ax.set_title('CERES albedo')\n",
    "    figname = figpath+'/'+variable+'_'+product_name+'_bias-'+caseroot+'.png'\n",
    "    print(figname)\n",
    "    plt.tight_layout()\n",
    "    fig.colorbar(pcm, ax=axs[:, col], shrink=0.6)\n",
    "\n",
    "    plt.savefig(figname)\n",
    "   # print(arrscore)\n",
    "\n",
    "#### ILAMB PLOTS: plot key variables\n",
    "\n"
   ]
  },
  {
   "cell_type": "code",
   "execution_count": null,
   "id": "4fa36b15-09cd-4b0e-9c97-ccd78e372684",
   "metadata": {},
   "outputs": [],
   "source": [
    "if doilambplots ==1:\n",
    "    variable='Albedo'\n",
    "    vlc='albedo'\n",
    "    vgroup='RadiationandEnergyCycle'\n",
    "    product_name='GEWEX.SRB'\n",
    "    vmn=-0.1;vmx=0.1\n",
    "    ensemble_bias2(variable,vlc,vgroup,product_name,vmn,vmx,nrw)"
   ]
  },
  {
   "cell_type": "code",
   "execution_count": null,
   "id": "8ea7fc2e-ba3a-4f46-aa4e-42771251d43f",
   "metadata": {},
   "outputs": [],
   "source": [
    "def ensemble_bias_subplots(variable,vlc,vgroup,product_name,vmn,vmx,nrw):   \n",
    "\n",
    "    import cartopy.crs as ccrs   \n",
    "    output_pth=build_path+'/'+vgroup+'/'+variable+'/'+product_name+'/'\n",
    "    ncol=(ncases+1) // nrw\n",
    "    fig, axs = plt.subplots(nrw, ncol)\n",
    "    print(pmode)\n",
    "    if(pmode == 1):\n",
    "        figs= [27,7]\n",
    "    if(pmode == 2):\n",
    "        figs= [14,4]\n",
    "    if(pmode == 3):\n",
    "        figs=[12,10]\n",
    "    print(figs)\n",
    "\n",
    "    print('ncol='+str(ncol)+' nrw= '+str(nrw))\n",
    "    arrscore = np.zeros(ncases+1)\n",
    "    var= 'bias_map_of_'+vlc \n",
    "    \n",
    "    fig, axs = plt.subplots(nrw, ncol)\n",
    "    #plt.rcParams['figure.figsize'] = figs\n",
    "\n",
    "    i=0\n",
    "    for col in range(ncol):\n",
    "        for row in range(nrw):\n",
    "            print('col,row '+str(col)+' '+str(row))\n",
    "            ifile = product_name+'_'+modelarray[i]+'.nc'\n",
    "\n",
    "            filep=output_pth+ifile\n",
    "\n",
    "            modelcmp=xr.open_dataset(filep, group='MeanState')\n",
    "            testv=modelcmp[var]\n",
    "            #print(np.max(np.max(testv)))\n",
    "            #testv.where(testv < 99999,nan)\n",
    "            tv = testv.where(testv<= 1e30, np.nan,3)\n",
    "            print('found data')\n",
    "            ax = axs[row, col]\n",
    "            tv.plot(cmap='RdYlBu',vmin=vmn,vmax=vmx)\n",
    "            ax.get_xaxis().set_visible(False)\n",
    "            ax.get_yaxis().set_visible(False)\n",
    "        "
   ]
  },
  {
   "cell_type": "code",
   "execution_count": null,
   "id": "6cce3665-d139-4195-a322-870067d094dc",
   "metadata": {},
   "outputs": [],
   "source": [
    "import cartopy.crs as ccrs\n",
    "import cartopy.feature as cfeature\n",
    "from mpl_toolkits.basemap import Basemap"
   ]
  },
  {
   "cell_type": "code",
   "execution_count": null,
   "id": "a033ecab-0433-4e7d-a7b1-607bd12dcad7",
   "metadata": {},
   "outputs": [],
   "source": [
    "            if(pmode == 1):\n",
    "                p=((i+2) // nrw)-1\n",
    "                print('p'+str(p))\n",
    "                if((i+1) % 2==0):\n",
    "                    if(vary_by_pft==0):\n",
    "                        ex=' x'+str(min_delta[p])\n",
    "                    else:\n",
    "                        ex=' min'\n",
    "                else:\n",
    "                    if(vary_by_pft==0):\n",
    "                        ex=' x'+str(max_delta[p])\n",
    "                    else:\n",
    "                        ex=' max'\n",
    "            if(pmode == 2):\n",
    "                ex = ' x'+str(pvalue[i])\n",
    "            if(pmode == 3):\n",
    "                ex0 = ' ='+str(pvalue1[i])\n",
    "                ex1 = ' ='+str(pvalue2[i])\n",
    "            \n",
    "            if pmode == 1 :plotlabel=str(parameter_label[p]+ex)\n",
    "            if pmode == 2 : plotlabel=str(parameter_label[0]+ex)\n",
    "            if pmode == 3 : plotlabel=parameter_label[0]+str(ex0)+' '+parameter_label[1]+str(ex1)\n",
    "            if(clm5_comp==1):\n",
    "                if( i == 8) :\n",
    "                    plotlabel='CLM50-SP'\n",
    "                if(i == 12):\n",
    "                    plotlabel='CLM51-SP'\n",
    "            #if(i == 16):\n",
    "           #     plotlabel='ctsmnov22_fates_default'                \n",
    "            print('plotlabel '+plotlabel)\n",
    "        #print('p'+str(p),index,parameter_label[p])\n",
    "            try:\n",
    "                modelcmp=xr.open_dataset(filep, group='MeanState')\n",
    "                testv=modelcmp[var]\n",
    "            #print(np.max(np.max(testv)))\n",
    "            #testv.where(testv < 99999,nan)\n",
    "                tv = testv.where(testv<= 1e30, np.nan,3)\n",
    "                print('found data')\n",
    "                ax = axs[row, col]\n",
    "                tv.plot(cmap='RdYlBu',vmin=vmn,vmax=vmx)\n",
    "                ax.get_xaxis().set_visible(False)\n",
    "                ax.get_yaxis().set_visible(False)\n",
    "            #arrscore[i]=tv.mean(skipna=True)\n",
    "            #ax.set_title(axtitle\n",
    "                ax.set_title(plotlabel)\n",
    " \n",
    "            except:\n",
    "                print(\"no data\"+str(i))\n",
    "                print(filep)\n",
    "        #fig.colorbar(pcm, ax=axs[:, col], shrink=0.6)\n",
    "\n",
    "        bfilep=output_pth+product_name+'_Benchmark.nc'\n",
    "        bmk=xr.open_dataset(bfilep, group='MeanState')\n",
    "#ax = fig.add_subplot(4,4, 4)\n",
    "#bmk.timeint_of_albedo.plot(vmin=0.1,vmax=0.3,cmap='Spectral')\n",
    "#ax.set_title('CERES albedo')\n",
    "    figname = figpath+'/'+variable+'_'+product_name+'_bias-'+caseroot+'.png'\n",
    "    print(figname)\n",
    "    #plt.tight_layout()\n",
    "\n",
    "    #plt.savefig(figname)\n",
    "   # print(arrscore)\n",
    "\n",
    "#### ILAMB PLOTS: plot key variables"
   ]
  },
  {
   "cell_type": "code",
   "execution_count": null,
   "id": "48d22c55-51ac-47e8-b9e6-051cbed44342",
   "metadata": {},
   "outputs": [],
   "source": [
    "fig, axs = plt.subplots(2, 2)\n",
    "cmaps = ['RdBu_r', 'viridis']\n",
    "for col in range(2):\n",
    "    for row in range(2):\n",
    "        ax = axs[row, col]\n",
    "        pcm = ax.pcolormesh(np.random.random((20, 20)) * (col + 1),\n",
    "                            cmap=cmaps[col])\n",
    "    fig.colorbar(pcm, ax=axs[:, col], shrink=0.6)"
   ]
  },
  {
   "cell_type": "code",
   "execution_count": null,
   "id": "5a6d0437-63bd-4be8-ab4b-3a0200d60475",
   "metadata": {},
   "outputs": [],
   "source": [
    "if doilambplots ==1:\n",
    "    variable='Albedo'\n",
    "    vlc='albedo'\n",
    "    vgroup='RadiationandEnergyCycle'\n",
    "    product_name='CERES'\n",
    "    vmn=-0.1;vmx=0.10\n",
    "    ensemble_bias2(variable,vlc,vgroup,product_name,vmn,vmx,nrw)"
   ]
  },
  {
   "cell_type": "code",
   "execution_count": null,
   "id": "ab2b1834-6dbd-4ba0-8f35-c12feb050b88",
   "metadata": {},
   "outputs": [],
   "source": [
    "if doilambplots ==1:\n",
    "    variable='SurfaceNetSWRadiation'\n",
    "    vlc='rsns'\n",
    "    vgroup='RadiationandEnergyCycle'\n",
    "    product_name='CERES'\n",
    "    vmn=-20;vmx=10\n",
    "    ensemble_bias(variable,vlc,vgroup,product_name,vmn,vmx,nrw)"
   ]
  },
  {
   "cell_type": "code",
   "execution_count": null,
   "id": "039e4d76-7008-4380-8472-a6a1a407cddc",
   "metadata": {},
   "outputs": [],
   "source": [
    "if doilambplots ==1:\n",
    "    variable='LatentHeat'\n",
    "    vlc='hfls'\n",
    "    vgroup='HydrologyCycle'\n",
    "    product_name='GBAF'\n",
    "    vmn=-30;vmx=10\n",
    "    ensemble_bias(variable,vlc,vgroup,product_name,vmn,vmx,nrw)"
   ]
  },
  {
   "cell_type": "code",
   "execution_count": null,
   "id": "1b4f23b0-8cdb-4c96-87e7-0db97fe5e533",
   "metadata": {},
   "outputs": [],
   "source": [
    "if doilambplots ==1:\n",
    "    variable='Evapotranspiration'\n",
    "    vlc='et'\n",
    "    vgroup='HydrologyCycle'\n",
    "    product_name='MODIS'\n",
    "    vmn=-2;vmx=2\n",
    "    ensemble_bias2(variable,vlc,vgroup,product_name,vmn,vmx,nrw)"
   ]
  },
  {
   "cell_type": "code",
   "execution_count": null,
   "id": "1af0caab-5370-4958-aeaf-eec201567804",
   "metadata": {},
   "outputs": [],
   "source": [
    "if doilambplots ==1:\n",
    "    variable='GrossPrimaryProductivity'\n",
    "    vlc='FPSN'\n",
    "    vgroup='EcosystemandCarbonCycle'\n",
    "    product_name='GBAF'\n",
    "    vmn=-3;vmx=3\n",
    "    ensemble_bias2(variable,vlc,vgroup,product_name,vmn,vmx,nrw)"
   ]
  },
  {
   "cell_type": "markdown",
   "id": "5ce39e83-8697-4e6c-a7a1-267a5ce706c7",
   "metadata": {},
   "source": [
    "### ILAMB: Read and plot score files"
   ]
  },
  {
   "cell_type": "code",
   "execution_count": null,
   "id": "03833410-4dbd-4a19-8acd-a0f1aa4c311f",
   "metadata": {},
   "outputs": [],
   "source": [
    "import csv\n",
    "from matplotlib import pyplot as plt\n",
    "import pandas as pd\n",
    "\n",
    "scoresfile='/glade/work/rfisher/ilamb/ILAMB/MODELS/'+'RTM_ens4'+'/_build/scores.csv'      \n",
    "\n",
    "df = pd.read_csv(scoresfile)  \n",
    "v = [None] *ncases\n",
    "\n",
    "for i in vs:\n",
    "    casen=\"RTM_ens4_case_\"+str(i)\n",
    "    print(casen)\n",
    "    try:\n",
    "        v[i]=float((df.loc[8][casen]))\n",
    "    except:\n",
    "        v[i]=np.nan\n",
    "x_data = list(range(0,ncases))\n",
    "plt.scatter(x_data, v, c='r', label='data')\n",
    "\n",
    "\n"
   ]
  },
  {
   "cell_type": "markdown",
   "id": "4dd450d7-8e92-4dc7-9597-89cddae85a6f",
   "metadata": {},
   "source": [
    "### Plot calculated mean biases"
   ]
  },
  {
   "cell_type": "code",
   "execution_count": null,
   "id": "2a2a8c47-651d-4d3b-b343-0fa5322ea9ac",
   "metadata": {},
   "outputs": [],
   "source": [
    "if doilambplots ==1:\n",
    "    plt.plot(arrscore)"
   ]
  },
  {
   "cell_type": "code",
   "execution_count": null,
   "id": "15180425-9da3-477b-b35c-8e89ded395db",
   "metadata": {},
   "outputs": [],
   "source": []
  },
  {
   "cell_type": "markdown",
   "id": "0bf29147-08b6-4c18-8da0-c5c42b33b37f",
   "metadata": {},
   "source": [
    "<h2>Analyse output</h2>"
   ]
  },
  {
   "cell_type": "markdown",
   "id": "ddb618b8-6a57-4dfe-8b2e-272e9bfdb616",
   "metadata": {},
   "source": [
    "### Paths for analysis"
   ]
  },
  {
   "cell_type": "code",
   "execution_count": 32,
   "id": "14debce3-5075-4e29-a73f-5c838e65985f",
   "metadata": {},
   "outputs": [],
   "source": [
    "if doanalysis ==1: \n",
    "    conv = 3600*24*365\n",
    "    yr='.clm2.h0.'   \n",
    "    delta=1\n",
    "    print('ychoose=', ychoose)\n",
    "    rel=1\n"
   ]
  },
  {
   "cell_type": "markdown",
   "id": "bca02f36-8843-4beb-8382-61733b720bbf",
   "metadata": {},
   "source": [
    "#### ANALYSIS: Choose variables to read in"
   ]
  },
  {
   "cell_type": "code",
   "execution_count": 33,
   "id": "37afe8c5-2645-4475-b39c-da8b83340df7",
   "metadata": {},
   "outputs": [],
   "source": [
    "vars=['FATES_GPP','FATES_NPP','TLAI','QFLX_EVAP_TOT','FATES_GROWTH_RESP',\n",
    "      'FATES_MAINT_RESP','FATES_LEAFMAINTAR','FATES_VEGC','FATES_VEGC_ABOVEGROUND','FATES_TRIMMING','lat','lon','time']"
   ]
  },
  {
   "cell_type": "markdown",
   "id": "64d3f2e1-718a-42f4-b55f-8451fc8ab983",
   "metadata": {},
   "source": [
    " #### ANALYSIS: Make output figure directory"
   ]
  },
  {
   "cell_type": "markdown",
   "id": "018dbbe2-c7d1-44aa-914b-86c7b3e2ad46",
   "metadata": {},
   "source": [
    "### Paths for analysis"
   ]
  },
  {
   "cell_type": "code",
   "execution_count": 32,
   "id": "90d87c63-fcb9-4296-8ce4-7ec4207752e2",
   "metadata": {},
   "outputs": [],
   "source": [
    "if doanalysis ==1: \n",
    "    conv = 3600*24*365\n",
    "    yr='.clm2.h0.'   \n",
    "    delta=1\n",
    "    print('ychoose=', ychoose)\n",
    "    rel=1\n"
   ]
  },
  {
   "cell_type": "markdown",
   "id": "793a33a1-d7a8-4a06-b408-da1ba6a081bc",
   "metadata": {},
   "source": [
    "#### ANALYSIS: Choose variables to read in"
   ]
  },
  {
   "cell_type": "code",
   "execution_count": 33,
   "id": "b0c7ccbc-0c48-4f54-80df-1b7ef6862437",
   "metadata": {},
   "outputs": [],
   "source": [
    "vars=['FATES_GPP','FATES_NPP','TLAI','QFLX_EVAP_TOT','FATES_GROWTH_RESP',\n",
    "      'FATES_MAINT_RESP','FATES_LEAFMAINTAR','FATES_VEGC','FATES_VEGC_ABOVEGROUND','FATES_TRIMMING','lat','lon','time']"
   ]
  },
  {
   "cell_type": "markdown",
   "id": "0c888c1f-7c95-4517-b5b7-8edff626fd78",
   "metadata": {},
   "source": [
    " #### ANALYSIS: Make output figure directory"
   ]
  }
 ],
 "metadata": {
  "kernelspec": {
   "display_name": "Pangeo (2019.09.12 - py3.7)",
   "language": "python",
   "name": "pangeo-2019.09.12"
  },
  "language_info": {
   "codemirror_mode": {
    "name": "ipython",
    "version": 3
   },
   "file_extension": ".py",
   "mimetype": "text/x-python",
   "name": "python",
   "nbconvert_exporter": "python",
   "pygments_lexer": "ipython3",
   "version": "3.7.3"
  }
 },
 "nbformat": 4,
 "nbformat_minor": 5
}
