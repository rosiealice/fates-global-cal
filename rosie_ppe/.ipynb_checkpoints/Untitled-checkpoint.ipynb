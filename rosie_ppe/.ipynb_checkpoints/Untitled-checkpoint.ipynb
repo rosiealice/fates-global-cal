{
 "cells": [
  {
   "cell_type": "markdown",
   "id": "2a761e0c-185b-480f-8ed1-bec33b385633",
   "metadata": {},
   "source": [
    "Notebook to calculate the mean parameter fields from Adrianna's SP calibration"
   ]
  },
  {
   "cell_type": "markdown",
   "id": "bf45fa10-6cea-4679-8e94-f5bd07217293",
   "metadata": {},
   "source": [
    "### Read in parameter files"
   ]
  },
  {
   "cell_type": "code",
   "execution_count": 15,
   "id": "d6aae26b-5333-4469-8e11-98be4be2a1b5",
   "metadata": {},
   "outputs": [],
   "source": [
    "import os\n",
    "import netCDF4 as nc4\n",
    "import sys\n",
    "import shutil\n",
    "import numpy as np\n",
    "import warnings\n",
    "warnings.filterwarnings('ignore')\n",
    "import xarray as xr\n",
    "from matplotlib import pyplot as plt\n",
    "#import datetime\n",
    "import netCDF4 as nc4"
   ]
  },
  {
   "cell_type": "code",
   "execution_count": 60,
   "id": "ca5b8b87-d8a4-40d7-84ad-28d2ad19f1ef",
   "metadata": {},
   "outputs": [
    {
     "ename": "TypeError",
     "evalue": "Cannot interpret '3' as a data type",
     "output_type": "error",
     "traceback": [
      "\u001b[0;31m---------------------------------------------------------------------------\u001b[0m",
      "\u001b[0;31mTypeError\u001b[0m                                 Traceback (most recent call last)",
      "\u001b[0;32m<ipython-input-60-dc86bb837340>\u001b[0m in \u001b[0;36m<module>\u001b[0;34m\u001b[0m\n\u001b[1;32m      3\u001b[0m \u001b[0mloopn\u001b[0m\u001b[0;34m=\u001b[0m\u001b[0;36m0\u001b[0m\u001b[0;34m\u001b[0m\u001b[0;34m\u001b[0m\u001b[0m\n\u001b[1;32m      4\u001b[0m \u001b[0;34m\u001b[0m\u001b[0m\n\u001b[0;32m----> 5\u001b[0;31m \u001b[0mvcm\u001b[0m\u001b[0;34m=\u001b[0m\u001b[0mnp\u001b[0m\u001b[0;34m.\u001b[0m\u001b[0mzeros\u001b[0m\u001b[0;34m(\u001b[0m\u001b[0;36m12\u001b[0m\u001b[0;34m,\u001b[0m\u001b[0;36m3\u001b[0m\u001b[0;34m)\u001b[0m\u001b[0;34m\u001b[0m\u001b[0;34m\u001b[0m\u001b[0m\n\u001b[0m\u001b[1;32m      6\u001b[0m \u001b[0mprint\u001b[0m\u001b[0;34m(\u001b[0m\u001b[0mvcm\u001b[0m\u001b[0;34m)\u001b[0m\u001b[0;34m\u001b[0m\u001b[0;34m\u001b[0m\u001b[0m\n\u001b[1;32m      7\u001b[0m \u001b[0;32mwith\u001b[0m \u001b[0mos\u001b[0m\u001b[0;34m.\u001b[0m\u001b[0mscandir\u001b[0m\u001b[0;34m(\u001b[0m\u001b[0mroot\u001b[0m\u001b[0;34m)\u001b[0m \u001b[0;32mas\u001b[0m \u001b[0mit\u001b[0m\u001b[0;34m:\u001b[0m\u001b[0;34m\u001b[0m\u001b[0;34m\u001b[0m\u001b[0m\n",
      "\u001b[0;31mTypeError\u001b[0m: Cannot interpret '3' as a data type"
     ]
    }
   ],
   "source": [
    "root = '/glade/u/home/rfisher/lh_params_500_new'\n",
    "os.chdir(root)\n",
    "loopn=0\n",
    "\n",
    "vcm=np.zeros(12,3)\n",
    "print(vcm)\n",
    "with os.scandir(root) as it:\n",
    "    for entry in it:\n",
    "        if not entry.name.startswith('.') and entry.is_file():\n",
    "            #print(entry.name)\n",
    "            loopn=loopn+1\n",
    "            pfilename = entry.name\n",
    "            ncf = nc4.Dataset(pfilename)\n",
    "            v=ncf.variables['fates_leaf_vcmax25top']\n",
    "            print(v[0,:])\n",
    "                  \n",
    "            vcm[:,loopn]=v[0,:]\n",
    "            #fin=nc4.Dataset(pfilename, 'r+')\n",
    "            #data = fin.read()   #read file contents to string   "
   ]
  },
  {
   "cell_type": "code",
   "execution_count": 46,
   "id": "21e41e94-a072-4c12-9732-750d6cbe8679",
   "metadata": {},
   "outputs": [
    {
     "name": "stdout",
     "output_type": "stream",
     "text": [
      "[22.78026 34.49523 88.64637 61.      58.      58.      62.      54.\n",
      " 54.      39.27026 29.84007 32.4081  78.      78.     ]\n"
     ]
    }
   ],
   "source": [
    "v=ncf.variables['fates_leaf_vcmax25top']\n",
    "print(v[0,:])"
   ]
  },
  {
   "cell_type": "code",
   "execution_count": null,
   "id": "caf6d0d5-2f53-4fc9-b29f-ee61042a75ae",
   "metadata": {},
   "outputs": [],
   "source": []
  }
 ],
 "metadata": {
  "kernelspec": {
   "display_name": "Pangeo (2019.09.12 - py3.7)",
   "language": "python",
   "name": "pangeo-2019.09.12"
  },
  "language_info": {
   "codemirror_mode": {
    "name": "ipython",
    "version": 3
   },
   "file_extension": ".py",
   "mimetype": "text/x-python",
   "name": "python",
   "nbconvert_exporter": "python",
   "pygments_lexer": "ipython3",
   "version": "3.7.3"
  }
 },
 "nbformat": 4,
 "nbformat_minor": 5
}
