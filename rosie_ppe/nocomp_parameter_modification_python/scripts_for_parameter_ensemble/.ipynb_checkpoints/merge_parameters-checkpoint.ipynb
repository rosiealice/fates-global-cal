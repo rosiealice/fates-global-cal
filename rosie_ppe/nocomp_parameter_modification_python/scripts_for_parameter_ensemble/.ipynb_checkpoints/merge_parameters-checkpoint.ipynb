{
 "cells": [
  {
   "cell_type": "markdown",
   "id": "3a24288d-f03f-461c-aa17-2d6408fa0ab4",
   "metadata": {},
   "source": [
    "## Notebook to convert the 'average' input file to a new parameter file iteration"
   ]
  },
  {
   "cell_type": "markdown",
   "id": "989c02aa-43b9-4ec8-ab73-00ec30f62024",
   "metadata": {},
   "source": [
    "##### In this case to update the default pfile with the set of adjested parameter values from the averaged output of the SP calibraiton"
   ]
  },
  {
   "cell_type": "code",
   "execution_count": 13,
   "id": "d10768e6-fd77-46fa-9fa1-62bb366e2482",
   "metadata": {},
   "outputs": [],
   "source": [
    "# Find the parameters that are adjusted in the calibration process"
   ]
  },
  {
   "cell_type": "code",
   "execution_count": null,
   "id": "64c20e50-b267-45e3-b2db-364373188f1d",
   "metadata": {},
   "outputs": [],
   "source": [
    "file='FATES_LH_347.nc'\n",
    "file_path = os.path.join(directory_path, file)\n",
    "data1 = xr.open_dataset(file_path)\n",
    "file='FATES_LH_348.nc'\n",
    "file_path = os.path.join(directory_path, file)\n",
    "data2 = xr.open_dataset(file_path)\n",
    "\n",
    "common_variables = set(data1.variables) & set(data2.variables)\n",
    "\n",
    "# Iterate through the common variables and compare their values\n",
    "for var_name in common_variables:\n",
    "    var_data1 = data1[var_name]\n",
    "    var_data2 = data2[var_name]\n",
    "    # Compare the values of the variables\n",
    "    if not var_data1.equals(var_data2):\n",
    "        print(f\"Values of variable '{var_name}' are different\")"
   ]
  }
 ],
 "metadata": {
  "kernelspec": {
   "display_name": "anaconda-panel-2023.05-py310",
   "language": "python",
   "name": "conda-env-anaconda-panel-2023.05-py310-py"
  },
  "language_info": {
   "codemirror_mode": {
    "name": "ipython",
    "version": 3
   },
   "file_extension": ".py",
   "mimetype": "text/x-python",
   "name": "python",
   "nbconvert_exporter": "python",
   "pygments_lexer": "ipython3",
   "version": "3.11.5"
  }
 },
 "nbformat": 4,
 "nbformat_minor": 5
}
