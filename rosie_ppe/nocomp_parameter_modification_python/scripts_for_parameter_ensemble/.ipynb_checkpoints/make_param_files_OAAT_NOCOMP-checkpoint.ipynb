{
 "cells": [
  {
   "cell_type": "markdown",
   "id": "671801fd-39b3-4ae2-8ab1-c442e56757dd",
   "metadata": {},
   "source": [
    "### This script creates a OAAT ensemble of parameter files, reading from a csv file provided and using a pre-defined base file. "
   ]
  },
  {
   "cell_type": "markdown",
   "id": "bff70b26-949c-4232-88fa-5aced4051db7",
   "metadata": {},
   "source": [
    "##### In this script we:\n",
    "1) read in the csv file and make it into a data frame (df)\n",
    "2) Modify the base parameter file with whatever common modifications we want all of the ensemble members to possess\n",
    "3) Create and modify minimum and maximum files for each parameter.\n",
    "4) There is different logic for those which have +- 50 or 100% modification, those that have defined min and maxes and those that have PFT specific ranges, which are defined in their own pft specific parmeter file\n"
   ]
  },
  {
   "cell_type": "code",
   "execution_count": null,
   "id": "5afacead-a7f3-4ef3-bb3b-04416dceeb5c",
   "metadata": {},
   "outputs": [],
   "source": [
    "import shutil\n",
    "import os\n",
    "import netCDF4 as nc\n",
    "import pandas as pd"
   ]
  },
  {
   "cell_type": "markdown",
   "id": "87f562d4-406a-43ad-b4ae-b55d9d07373a",
   "metadata": {},
   "source": [
    "##### Control variables and paths "
   ]
  },
  {
   "cell_type": "code",
   "execution_count": null,
   "id": "8f83df11-f019-4daf-9fde-31159f725a0a",
   "metadata": {},
   "outputs": [],
   "source": [
    "# Averaged SP calibrated values, from paraemter_averaging and paraemeter_merge scripts. \n",
    "averaged_SP_params_files = '../fates_params_vertsc_dayl_SPcal.nc' \n",
    "\n",
    "# Where to find the list of parameters and their modifications\n",
    "parameter_list_file = '../NOCOMP_PPE_parameters.csv'\n",
    "pft_parameter_list = '../pft_specific_parameter_inputs/PFT_params.csv'\n",
    "\n",
    "# Adjusted default x calibration file to make a reasonable baseline. \n",
    "modified_baseline_param_files='../modified_average_file.nc'\n",
    "\n",
    "# What is the path to the new parameter file ensemble \n",
    "pdirroot='../paramfiles/NOCOMP_OAAT/nocomp_oaat_v6_'\n"
   ]
  },
  {
   "cell_type": "markdown",
   "id": "69ef581d-3948-47f3-95f7-38a861f8159c",
   "metadata": {},
   "source": [
    "#### Read the main parameter list CSV file into a pandas DataFrame"
   ]
  },
  {
   "cell_type": "code",
   "execution_count": null,
   "id": "a0b11a64-7fa8-4557-ada1-1e5fd96d5d6d",
   "metadata": {},
   "outputs": [],
   "source": [
    "df = pd.read_csv(parameter_list_file)\n",
    "fates_parameter_list = df['fates_parameter'].tolist()\n",
    "minp = df['min'].tolist() \n",
    "maxp = df['max'].tolist() \n",
    "dimp = df['dim'].tolist()"
   ]
  },
  {
   "cell_type": "markdown",
   "id": "d699dfcc-7913-4a04-af48-06ea25ebc695",
   "metadata": {},
   "source": [
    "#### Read the PFT parameter list CSV file into a pandas DataFrame"
   ]
  },
  {
   "cell_type": "code",
   "execution_count": null,
   "id": "25c26f6d-d34d-4cc5-9871-65c197814726",
   "metadata": {},
   "outputs": [],
   "source": [
    "dfp = pd.read_csv(pft_parameter_list)\n",
    "pftindex = dfp['pft_index'].tolist()\n",
    "pftparam = dfp['param'].tolist() \n",
    "pftmin = dfp['min'].tolist()\n",
    "pftmax = dfp['max'].tolist()"
   ]
  },
  {
   "cell_type": "markdown",
   "id": "c86acb55-481d-4796-8474-7b33564070de",
   "metadata": {},
   "source": [
    "#### map from the variables in the pftvariable csv file into the fates pft space"
   ]
  },
  {
   "cell_type": "code",
   "execution_count": null,
   "id": "fed9140a-e8a0-46ad-bb31-c340371e0fbe",
   "metadata": {},
   "outputs": [],
   "source": [
    "string_mapping = {\n",
    "    \"fates_rad_stem_rhovis\": \"rhosvis\",\n",
    "    \"fates_rad_stem_rhonir\": \"rhosnir\",\n",
    "    \"fates_rad_leaf_rhonir\": \"rholnir\",\n",
    "    \"fates_rad_leaf_rhovis\": \"rholvis\",\n",
    "    \"fates_rad_leaf_taunir\": \"taulnir\",\n",
    "    \"fates_rad_leaf_tauvis\": \"taulvis\",\n",
    "    \"fates_leaf_stomatal_slope_medlyn\": \"medlynslope\",\n",
    "    \"fates_leaf_slatop\": \"sla\",\n",
    "    \"fates_rad_leaf_xl\": \"xl\"   \n",
    "}"
   ]
  },
  {
   "cell_type": "markdown",
   "id": "b8a8f836-c662-4af6-b752-f1ebb53ecfb0",
   "metadata": {},
   "source": [
    "#### Modify average file for NOCOMP specific baseline modifications\n"
   ]
  },
  {
   "cell_type": "code",
   "execution_count": null,
   "id": "cf8166ca-1333-4c18-a867-07dbb49df3cd",
   "metadata": {},
   "outputs": [],
   "source": [
    "shutil.copy(averaged_SP_params_files, modified_baseline_param_files)\n",
    "nc_file = nc.Dataset(modified_baseline_param_files, 'r+')  # Open the file in write mode\n",
    "\n",
    "#atkin = nc_file.variables['fates_maintresp_leaf_atkin2017_baserate'][:]\n",
    "#atkin_new = atkin\n",
    "#atkin_new[0] = atkin_new[0]*0.7\n",
    "#nc_file.variables['fates_maintresp_leaf_atkin2017_baserate'][ :] = atkin_new  # Assign the modified values to the variable\n",
    "\n",
    "seeds = nc_file.variables['fates_recruit_seed_supplement'][:]\n",
    "seeds_new = seeds\n",
    "seeds_new = seeds_new*0+4\n",
    "nc_file.variables['fates_recruit_seed_supplement'][ :] = seeds_new  # Assign the modified values to the variable\n",
    "\n",
    "seedg = nc_file.variables['fates_recruit_seed_germination_rate'][:]\n",
    "seedg_new = seedg\n",
    "seedg_new = seedg_new*1.5\n",
    "nc_file.variables['fates_recruit_seed_supplement'][ :] = seedg_new  # Assign the modified values to the variable\n",
    "\n",
    "initd = nc_file.variables['fates_recruit_init_density'][:]\n",
    "initd_new = initd\n",
    "initd_new = initd_new*2\n",
    "nc_file.variables['fates_recruit_height_min'][ :] = initd_new  # Assign the modified values to the variable\n",
    "\n",
    "rm = nc_file.variables['fates_maintresp_leaf_model'][:]\n",
    "rm_new = rm\n",
    "rm_new = 2\n",
    "nc_file.variables['fates_maintresp_leaf_model'][ :] = rm_new  # Assign the modified values to the variable\n",
    "\n",
    "\n",
    "#inith = nc_file.variables['fates_recruit_init_density'][:]\n",
    "#inith_new = inith\n",
    "#inith_new = inith_new*1\n",
    "#nc_file.variables['fates_recruit_height_min'][ :] = inith_new  # Assign the modified values to the variable\n",
    "\n",
    "cushion = nc_file.variables['fates_alloc_storage_cushion'][:]\n",
    "cushion_new = cushion\n",
    "cushion_new = cushion_new*0+2.4\n",
    "cushion_new[0]=1.2 \n",
    "cushion_new[3]= 1.2       \n",
    "nc_file.variables['fates_alloc_storage_cushion'][ :] = cushion_new  # Assign the modified values to the variable\n",
    "\n",
    "#make FATES CE negative to speed up runs.\n",
    "fates_comp_excln = nc_file.variables['fates_comp_excln'][:]\n",
    "cenew = fates_comp_excln *0 -1\n",
    "nc_file.variables['fates_comp_excln'][ :] = cenew # Assign the modified values to the variable\n",
    "\n",
    "#make FATES Crad model twostream\n",
    "fates_rad_model = nc_file.variables['fates_rad_model'][:]\n",
    "rmnew = fates_rad_model *0 +2\n",
    "nc_file.variables['fates_rad_model'][:] = rmnew # Assign the modified values to the variable\n",
    "\n",
    "print(nc_file['fates_rad_model'][:])\n",
    "print(rmnew)\n",
    "\n",
    "#hlmmap = nc_file.variables['fates_hlm_pft_map'][:,:]\n",
    "#hlmnew = hlmmap\n",
    "#hlmnew[:,13]=0\n",
    "#hlmnew[:,12]=0\n",
    "#hlmnew[14, 10] = 1\n",
    "#hlmnew[15, 11] = 1\n",
    "#nc_file.variables['fates_hlm_pft_map'][:, :] = hlmnew  # Assign the modified values to the variable\n",
    "\n",
    "#Iincrease vcmax to make the \n",
    "#vcm = nc_file.variables['fates_leaf_vcmax25top'][:,:]\n",
    "#vcmnew = vcm\n",
    "#vcmnew[0]=vcmnew[0]*1.2\n",
    "#nc_file.variables['fates_leaf_vcmax25top'][:, :] = vcmnew  # Assign the modified values to the variable\n",
    "\n",
    "\n",
    "nc_file.close()"
   ]
  },
  {
   "cell_type": "code",
   "execution_count": null,
   "id": "7cc9da24-77db-4967-8f00-48169b86fbd4",
   "metadata": {},
   "outputs": [],
   "source": [
    "nc_file = nc.Dataset(modified_baseline_param_files, 'r+')  \n",
    "\n",
    "print(nc_file['fates_rad_model'][:])\n",
    "nc_file.close()"
   ]
  },
  {
   "cell_type": "markdown",
   "id": "3514c9b4-b86d-4a3c-b994-7a7c25369ff2",
   "metadata": {},
   "source": [
    "#### Retreive the full list of the parameters "
   ]
  },
  {
   "cell_type": "code",
   "execution_count": null,
   "id": "61bd78d7-0c86-4122-81ae-964133307f5d",
   "metadata": {},
   "outputs": [],
   "source": [
    "reference_vars = nc.Dataset(averaged_SP_params_files, 'r+') \n",
    "fatespfts=reference_vars.dimensions['fates_pft']\n",
    "print(fatespfts.size)\n",
    "\n",
    "modified_baseline_param_files"
   ]
  },
  {
   "cell_type": "markdown",
   "id": "477b26e9-49de-47d4-9131-b5378a7e00dd",
   "metadata": {},
   "source": [
    "#### Modify variables in OAAT ensemble according to the values in the input csv fil"
   ]
  },
  {
   "cell_type": "code",
   "execution_count": null,
   "id": "775e1987-e1e2-4566-b124-b693693c3064",
   "metadata": {
    "scrolled": true
   },
   "outputs": [],
   "source": [
    "counter = 0\n",
    "import numpy as np\n",
    "for index, parameter in enumerate(fates_parameter_list):\n",
    "    if parameter in reference_vars.variables:\n",
    "        # Perform operations on each parameter\n",
    "        print('#',index, parameter)  # Replace with your operations\n",
    "       # print('minp index',minp[index])\n",
    "#-------------------------------------------------------\n",
    "        # Make minimum values    \n",
    "        counter = counter + 1\n",
    "        newfile = pdirroot + str(counter) + '.nc'    \n",
    "        shutil.copy(modified_baseline_param_files, newfile)\n",
    "        nc_file = nc.Dataset(newfile, 'r+')\n",
    "        variable_to_modify = nc_file.variables[parameter]\n",
    "            \n",
    "        if minp[index] == '50percent':\n",
    "            if variable_to_modify.dtype == int:\n",
    "                print('integer')\n",
    "                variable_data = variable_to_modify[:]\n",
    "                variable_data = (variable_data * 0.5).astype(int)\n",
    "                variable_to_modify[:] = variable_data  \n",
    "                #print(variable_data)\n",
    "            else:\n",
    "                variable_to_modify[:] *= 0.5    \n",
    "                print('pft min',variable_to_modify[:])\n",
    "        elif minp[index] == '100percent':\n",
    "                variable_to_modify[:] *= 0            \n",
    "        elif minp[index] ==  'pft':\n",
    "            shortvar = string_mapping[parameter]\n",
    "            table = dfp[dfp['param'] == shortvar]\n",
    "            pftmins=table['min'].tolist()\n",
    "            variable_to_modify[:] *=  0\n",
    "           \n",
    "            for p in range(1, 12 ):               \n",
    "                variable_to_modify[p-1] += float(pftmins[p-1])\n",
    "            #variable_to_modify[12] += float(pftmins[10])\n",
    "            #variable_to_modify[13] += float(pftmins[11])\n",
    "            print(shortvar, ' table ',pftmins)\n",
    "            print(shortvar, counter ,'min ',variable_to_modify[:])\n",
    "        else:\n",
    "            print('minp',minp[index])\n",
    "            variable_to_modify[:] *=  0\n",
    "            variable_to_modify[:] += float(minp[index])\n",
    "        \n",
    "        nc_file.close()  # Close the modified file\n",
    "        \n",
    "#-------------------------------------------------------\n",
    "        # Make maximum values    \n",
    "        counter = counter + 1\n",
    "        newfile = pdirroot + str(counter) + '.nc'    \n",
    "        shutil.copy(modified_baseline_param_files, newfile)\n",
    "        nc_file = nc.Dataset(newfile, 'r+')\n",
    "        variable_to_modify = nc_file.variables[parameter]\n",
    "        if minp[index] == '50percent':\n",
    "            if variable_to_modify.dtype == int:\n",
    "                print('integer')\n",
    "                variable_data = variable_to_modify[:]\n",
    "                variable_data = (variable_data * 1.5).astype(int)\n",
    "                variable_to_modify[:] = variable_data \n",
    "                print(variable_data)\n",
    "            else:\n",
    "                variable_to_modify[:] *= 1.5  \n",
    "                print('pftmax',variable_to_modify[:])\n",
    "        elif minp[index] == '100percent':\n",
    "                variable_to_modify[:] = 1 \n",
    "                print('100%',counter,parameter)\n",
    "            \n",
    "        elif minp[index] ==  'pft':\n",
    "            shortvar = string_mapping[parameter]\n",
    "            table = dfp[dfp['param'] == shortvar]\n",
    "            pftmaxs=table['max'].tolist()\n",
    "            variable_to_modify[:] *=  0\n",
    "           \n",
    "            for p in range(1, 12 ):\n",
    "                variable_to_modify[p-1] += float(pftmaxs[p-1])\n",
    "            #variable_to_modify[12] += float(pftmaxs[10])\n",
    "            #variable_to_modify[13] += float(pftmaxs[11])\n",
    "            print(shortvar, ' table ',pftmaxs)\n",
    "            print(shortvar, counter, 'max ',variable_to_modify[:])\n",
    "        else:\n",
    "            print('maxp',maxp[index])\n",
    "            variable_to_modify[:] *=  0\n",
    "            variable_to_modify[:] += float(maxp[index])\n",
    "\n",
    "\n",
    "        nc_file.close()  # Close the modified file\n",
    "\n",
    "    else: #doenst exist \n",
    "        print('variable is not in file', parameter)"
   ]
  },
  {
   "cell_type": "code",
   "execution_count": null,
   "id": "9a2aadfd-8c7d-4078-9e56-c82aeaaa4132",
   "metadata": {},
   "outputs": [],
   "source": [
    "nc_file = nc.Dataset(newfile, 'r+')\n",
    "#print(nc_file.variables['fates_mort_ip_size_senescence'])\n",
    "print(nc_file.variables['fates_mort_ip_size_senescence'][:])\n",
    "nc_file.close() "
   ]
  },
  {
   "cell_type": "code",
   "execution_count": null,
   "id": "d5761b78-3cd8-4209-8232-44da5c9944e1",
   "metadata": {},
   "outputs": [],
   "source": []
  },
  {
   "cell_type": "code",
   "execution_count": null,
   "id": "bf393b28-36aa-4b8f-8eb7-3003430e044e",
   "metadata": {},
   "outputs": [],
   "source": []
  }
 ],
 "metadata": {
  "kernelspec": {
   "display_name": "anaconda-panel-2023.05-py310",
   "language": "python",
   "name": "conda-env-anaconda-panel-2023.05-py310-py"
  },
  "language_info": {
   "codemirror_mode": {
    "name": "ipython",
    "version": 3
   },
   "file_extension": ".py",
   "mimetype": "text/x-python",
   "name": "python",
   "nbconvert_exporter": "python",
   "pygments_lexer": "ipython3",
   "version": "3.11.5"
  }
 },
 "nbformat": 4,
 "nbformat_minor": 5
}
