{
 "cells": [
  {
   "cell_type": "markdown",
   "id": "3a24288d-f03f-461c-aa17-2d6408fa0ab4",
   "metadata": {},
   "source": [
    "## Notebook to convert the 'average' input file to a new parameter file iteration"
   ]
  },
  {
   "cell_type": "markdown",
   "id": "989c02aa-43b9-4ec8-ab73-00ec30f62024",
   "metadata": {},
   "source": [
    "##### In this case to update the default pfile with the set of adjested parameter values from the averaged output of the SP calibraiton"
   ]
  },
  {
   "cell_type": "code",
   "execution_count": 1,
   "id": "d10768e6-fd77-46fa-9fa1-62bb366e2482",
   "metadata": {},
   "outputs": [],
   "source": [
    "# Find the parameters that are adjusted in the calibration process"
   ]
  },
  {
   "cell_type": "code",
   "execution_count": 2,
   "id": "660142a4-ab59-450f-aea6-ca10093ee5a6",
   "metadata": {},
   "outputs": [],
   "source": [
    "import xarray as xr\n",
    "import os\n",
    "import netCDF4 as nc\n",
    "import matplotlib.pyplot as plt\n",
    "import shutil\n",
    "import numpy as np"
   ]
  },
  {
   "cell_type": "markdown",
   "id": "15c9ba77-ce56-4014-a88d-7db7232ef4cc",
   "metadata": {},
   "source": [
    "### Control vars"
   ]
  },
  {
   "cell_type": "code",
   "execution_count": 3,
   "id": "ebcc5d75-08dd-46b7-94a2-01abad408a92",
   "metadata": {},
   "outputs": [],
   "source": [
    "tag_param_file='fates_params_vertsc_dayl.nc'\n",
    "newpfilename='fates_params_vertsc_dayl_SPcal_4.nc'\n",
    "pfilesdir='../intermediate_pfiles/'\n",
    "averagefile = 'average4.nc'"
   ]
  },
  {
   "cell_type": "markdown",
   "id": "82218311-a2fb-4cc5-b2c3-adb5045b0caf",
   "metadata": {},
   "source": [
    "### Find the variables that are calibrated in the SP calibration procedure"
   ]
  },
  {
   "cell_type": "markdown",
   "id": "588a382b-1086-4b2a-b3bb-760bc62e84e1",
   "metadata": {},
   "source": [
    "##### Compare two files in the SP LhC output"
   ]
  },
  {
   "cell_type": "code",
   "execution_count": 4,
   "id": "64c20e50-b267-45e3-b2db-364373188f1d",
   "metadata": {},
   "outputs": [
    {
     "name": "stdout",
     "output_type": "stream",
     "text": [
      "Values of variable 'fates_leaf_vcmaxse' are different\n",
      "Values of variable 'fates_leaf_stomatal_intercept' are different\n",
      "Values of variable 'fates_maintresp_leaf_atkin2017_baserate' are different\n",
      "Values of variable 'fates_leaf_vcmaxha' are different\n",
      "Values of variable 'fates_leaf_jmaxse' are different\n",
      "Values of variable 'fates_nonhydro_smpsc' are different\n",
      "Values of variable 'fates_leaf_vcmax25top' are different\n",
      "Values of variable 'fates_leaf_vcmaxhd' are different\n",
      "Values of variable 'fates_leaf_stomatal_slope_ballberry' are different\n",
      "['fates_leaf_vcmaxse', 'fates_leaf_stomatal_intercept', 'fates_maintresp_leaf_atkin2017_baserate', 'fates_leaf_vcmaxha', 'fates_leaf_jmaxse', 'fates_nonhydro_smpsc', 'fates_leaf_vcmax25top', 'fates_leaf_vcmaxhd', 'fates_leaf_stomatal_slope_ballberry']\n"
     ]
    }
   ],
   "source": [
    "\n",
    "directory_path = '..//lhc_param_files'\n",
    "\n",
    "file='FATES_LH_347.nc'\n",
    "file_path = os.path.join(directory_path, file)\n",
    "data1 = xr.open_dataset(file_path)\n",
    "file='FATES_LH_348.nc'\n",
    "file_path = os.path.join(directory_path, file)\n",
    "data2 = xr.open_dataset(file_path)\n",
    "\n",
    "common_variables = set(data1.variables) & set(data2.variables)\n",
    "\n",
    "# Iterate through the common variables and compare their values\n",
    "parlist=[]\n",
    "for var_name in common_variables:\n",
    "    var_data1 = data1[var_name]\n",
    "    var_data2 = data2[var_name]\n",
    "    # Compare the values of the variables\n",
    "    if not var_data1.equals(var_data2):\n",
    "        \n",
    "        print(f\"Values of variable '{var_name}' are different\")\n",
    "        parlist.append(var_name)\n",
    "print(parlist)"
   ]
  },
  {
   "cell_type": "markdown",
   "id": "409fc303-7a48-469c-9cb4-00e2041d274c",
   "metadata": {},
   "source": [
    "#### Create and read in the new base parameter file\n",
    "- Use the default parameter file from the new FATES tag\n",
    "- and make a new version of this, \n",
    "- and then copy the variables from the averaged file into that.\n",
    "- remembering that the number of PFTs is different\n"
   ]
  },
  {
   "cell_type": "code",
   "execution_count": 5,
   "id": "758f1cd2-b35b-4ffa-9671-1b818c07ad49",
   "metadata": {},
   "outputs": [
    {
     "name": "stdout",
     "output_type": "stream",
     "text": [
      "tag file ../intermediate_pfiles/fates_params_vertsc_dayl.nc\n",
      "newf ../intermediate_pfiles/fates_params_vertsc_dayl_SPcal_4.nc\n"
     ]
    }
   ],
   "source": [
    "newf=pfilesdir+newpfilename\n",
    "tagfile=pfilesdir+tag_param_file\n",
    "print('tag file',tagfile)\n",
    "print('newf',newf)\n"
   ]
  },
  {
   "cell_type": "code",
   "execution_count": 6,
   "id": "42a69988-3e0c-4667-bb3a-99181ebb6038",
   "metadata": {},
   "outputs": [
    {
     "name": "stdout",
     "output_type": "stream",
     "text": [
      "[[50. 62. 39. 61. 58. 58. 62. 54. 54. 78. 78. 78.]]\n",
      "[5.20e-01 3.83e-01 3.83e-01 1.90e-01 1.00e+00 9.99e+02]\n"
     ]
    }
   ],
   "source": [
    "tagfiledata = xr.open_dataset(tagfile)\n",
    "print(tagfiledata.fates_leaf_vcmax25top.values)\n",
    "print(tagfiledata.fates_frag_maxdecomp.values)"
   ]
  },
  {
   "cell_type": "markdown",
   "id": "7e331caf-02be-4103-a552-9b8dcbf626ec",
   "metadata": {},
   "source": [
    "#### Read in the SP calibrated average parameter file"
   ]
  },
  {
   "cell_type": "code",
   "execution_count": 7,
   "id": "bbf1b968-940a-4dd9-b078-077999767a09",
   "metadata": {},
   "outputs": [
    {
     "name": "stdout",
     "output_type": "stream",
     "text": [
      "[[29.9373648  33.2337325  47.38454974 61.         58.         58.\n",
      "  62.         54.         54.         45.89753118 23.1667347  49.42265484\n",
      "  78.         78.        ]]\n",
      "[5.20e-01 3.83e-01 3.83e-01 1.90e-01 1.00e+00 9.99e+02]\n"
     ]
    }
   ],
   "source": [
    "averagepfile = xr.open_dataset(pfilesdir+averagefile)\n",
    "print(averagepfile.fates_leaf_vcmax25top.values)\n",
    "print(tagfiledata.fates_frag_maxdecomp.values)"
   ]
  },
  {
   "cell_type": "markdown",
   "id": "255fe2b9-06f8-43a7-88fa-4f28eb264918",
   "metadata": {},
   "source": [
    "#### Copy the value of the parameters in the average file into the new baseline file"
   ]
  },
  {
   "cell_type": "code",
   "execution_count": 8,
   "id": "f2f38320-c791-4cc0-a864-7e2b3b5cd90a",
   "metadata": {},
   "outputs": [
    {
     "name": "stdout",
     "output_type": "stream",
     "text": [
      "fates_leaf_vcmaxse\n",
      "base [485. 485. 485.]\n",
      "av [559.23468856 440.87696678 469.25607086]\n",
      "fates_leaf_stomatal_intercept\n",
      "base [10000. 10000. 10000.]\n",
      "av [  5666.85391194  33315.31798552 111020.66103126]\n",
      "fates_maintresp_leaf_atkin2017_baserate\n",
      "base [1.756  1.4995 1.4995]\n",
      "av [2.0306485  2.05484886 1.880617  ]\n",
      "fates_leaf_vcmaxha\n",
      "base [65330. 65330. 65330.]\n",
      "av [62358.31817956 69140.46772146 66486.2536002 ]\n",
      "fates_leaf_jmaxse\n",
      "base [495. 495. 495.]\n",
      "av [544.98760814 437.10191078 465.4758702 ]\n",
      "fates_nonhydro_smpsc\n",
      "base [-255000. -255000. -255000.]\n",
      "av [-261482.70388932 -255284.76314456 -251193.89963948]\n",
      "fates_leaf_vcmax25top\n",
      "base [[50. 62. 39. 61. 58. 58. 62. 54. 54. 78. 78. 78.]]\n",
      "av [[29.9373648  33.2337325  47.38454974 61.         58.         58.\n",
      "  62.         54.         54.         45.89753118 23.1667347  49.42265484\n",
      "  78.         78.        ]]\n",
      "fates_leaf_vcmaxhd\n",
      "base [149250. 149250. 149250.]\n",
      "av [145851.77931398 161182.69826226 150804.5994506 ]\n",
      "fates_leaf_stomatal_slope_ballberry\n",
      "base [8. 8. 8.]\n",
      "av [ 8.92503038  9.03051088 10.02428366]\n"
     ]
    }
   ],
   "source": [
    "tagfile_data = xr.open_dataset(tagfile)\n",
    "\n",
    "for var_name in parlist:\n",
    "    print(var_name)\n",
    "    base_var = tagfile_data[var_name].values\n",
    "    average_var = averagepfile[var_name].values\n",
    "    print('base',base_var[0:3])\n",
    "    print('av',average_var[0:3])\n",
    "    if tagfile_data[var_name].ndim == 1:\n",
    "        base_var[0:12] = average_var[0:12]\n",
    "    else:\n",
    "        base_var[:, 0:12] = average_var[:, 0:12]\n",
    "\n",
    "    tagfile_data[var_name].values = base_var  # Update the variable values in the dataset\n",
    "\n",
    "tagfile_data.to_netcdf(newf)  # Save the modified dataset back to the original file\n",
    "tagfile_data.close()"
   ]
  },
  {
   "cell_type": "code",
   "execution_count": 9,
   "id": "b431d378-4106-4ea8-bd81-7f4166790974",
   "metadata": {},
   "outputs": [
    {
     "name": "stdout",
     "output_type": "stream",
     "text": [
      "../intermediate_pfiles/fates_params_vertsc_dayl_SPcal_4.nc\n",
      "[[29.9373648  33.2337325  47.38454974 61.         58.         58.\n",
      "  62.         54.         54.         45.89753118 23.1667347  49.42265484]]\n",
      "[2.0306485  2.05484886 1.880617   1.756      1.756      1.756\n",
      " 2.0749     2.0749     2.0749     1.93625946 2.00627512 1.94858872]\n",
      "[1. 2. 3. 6.]\n"
     ]
    }
   ],
   "source": [
    "newpfile=xr.open_dataset(newf)\n",
    "print(newf)\n",
    "print(newpfile['fates_leaf_vcmax25top'].values)\n",
    "print(newpfile['fates_maintresp_leaf_atkin2017_baserate'].values)\n",
    "print(newpfile['fates_alloc_organ_id'].values)"
   ]
  },
  {
   "cell_type": "code",
   "execution_count": 14,
   "id": "d2a64984-6a1a-4bdc-be46-e73b7bb07b93",
   "metadata": {},
   "outputs": [
    {
     "name": "stdout",
     "output_type": "stream",
     "text": [
      "2d shape fates_alloc_organ_priority (4, 12) (4, 12)\n",
      "2d shape fates_cnp_turnover_nitr_retrans (4, 12) (4, 12)\n",
      "2d shape fates_cnp_turnover_phos_retrans (4, 12) (4, 12)\n",
      "2d shape fates_hydro_avuln_node (4, 12) (4, 12)\n",
      "2d shape fates_hydro_epsil_node (4, 12) (4, 12)\n",
      "2d shape fates_hydro_fcap_node (4, 12) (4, 12)\n",
      "2d shape fates_hydro_kmax_node (4, 12) (4, 12)\n",
      "2d shape fates_hydro_p50_node (4, 12) (4, 12)\n",
      "2d shape fates_hydro_pinot_node (4, 12) (4, 12)\n",
      "2d shape fates_hydro_pitlp_node (4, 12) (4, 12)\n",
      "2d shape fates_hydro_resid_node (4, 12) (4, 12)\n",
      "2d shape fates_hydro_thetas_node (4, 12) (4, 12)\n",
      "2d shape fates_hydro_vg_alpha_node (4, 12) (4, 12)\n",
      "2d shape fates_hydro_vg_m_node (4, 12) (4, 12)\n",
      "2d shape fates_hydro_vg_n_node (4, 12) (4, 12)\n",
      "SP var fates_leaf_jmaxse\n",
      "tag [495. 495. 495. 495.]\n",
      "new [544.98760814 437.10191078 465.4758702  495.        ]\n",
      "Variable fates_leaf_jmaxse is different in basepfile and averagepfile\n",
      "SP var fates_leaf_stomatal_intercept\n",
      "tag [10000. 10000. 10000. 10000.]\n",
      "new [  5666.85391194  33315.31798552 111020.66103126  10000.        ]\n",
      "Variable fates_leaf_stomatal_intercept is different in basepfile and averagepfile\n",
      "SP var fates_leaf_stomatal_slope_ballberry\n",
      "tag [8. 8. 8. 8.]\n",
      "new [ 8.92503038  9.03051088 10.02428366 12.3       ]\n",
      "Variable fates_leaf_stomatal_slope_ballberry is different in basepfile and averagepfile\n",
      "2d shape fates_leaf_vcmax25top (1, 12) (1, 12)\n",
      "SP var fates_leaf_vcmax25top\n",
      "tag [[50. 62. 39. 61. 58. 58. 62. 54. 54. 78. 78. 78.]]\n",
      "new [[29.9373648  33.2337325  47.38454974 61.         58.         58.\n",
      "  62.         54.         54.         45.89753118 23.1667347  49.42265484]]\n",
      "Variable fates_leaf_vcmax25top is different in basepfile and averagepfile\n",
      "SP var fates_leaf_vcmaxha\n",
      "tag [65330. 65330. 65330. 65330.]\n",
      "new [62358.31817956 69140.46772146 66486.2536002  65330.        ]\n",
      "Variable fates_leaf_vcmaxha is different in basepfile and averagepfile\n",
      "SP var fates_leaf_vcmaxhd\n",
      "tag [149250. 149250. 149250. 149250.]\n",
      "new [145851.77931398 161182.69826226 150804.5994506  149250.        ]\n",
      "Variable fates_leaf_vcmaxhd is different in basepfile and averagepfile\n",
      "SP var fates_leaf_vcmaxse\n",
      "tag [485. 485. 485. 485.]\n",
      "new [559.23468856 440.87696678 469.25607086 485.        ]\n",
      "Variable fates_leaf_vcmaxse is different in basepfile and averagepfile\n",
      "SP var fates_maintresp_leaf_atkin2017_baserate\n",
      "tag [1.756  1.4995 1.4995 1.756 ]\n",
      "new [2.0306485  2.05484886 1.880617   1.756     ]\n",
      "Variable fates_maintresp_leaf_atkin2017_baserate is different in basepfile and averagepfile\n",
      "SP var fates_nonhydro_smpsc\n",
      "tag [-255000. -255000. -255000. -255000.]\n",
      "new [-261482.70388932 -255284.76314456 -251193.89963948 -255000.        ]\n",
      "Variable fates_nonhydro_smpsc is different in basepfile and averagepfile\n",
      "Variable fates_phen_mindaysoff is in basepfile but not in averagepfile\n",
      "2d shape fates_stoich_nitr (4, 12) (4, 12)\n",
      "2d shape fates_stoich_phos (4, 12) (4, 12)\n",
      "2d shape fates_turnover_leaf (1, 12) (1, 12)\n",
      "Variable fates_fire_max_durat is in basepfile but not in averagepfile\n",
      "Variable fates_leaf_photo_temp_acclim_timescale is in basepfile but not in averagepfile\n",
      "Variable fates_phen_mindayson is in basepfile but not in averagepfile\n",
      "Variable fates_phen_ncolddayslim is in basepfile but not in averagepfile\n",
      "Variable fates_trs_seedling2sap_par_timescale is in basepfile but not in averagepfile\n",
      "Variable fates_trs_seedling_emerg_h2o_timescale is in basepfile but not in averagepfile\n",
      "Variable fates_trs_seedling_mdd_timescale is in basepfile but not in averagepfile\n",
      "Variable fates_trs_seedling_mort_par_timescale is in basepfile but not in averagepfile\n"
     ]
    }
   ],
   "source": [
    "tagfile_data = xr.open_dataset(tagfile)\n",
    "for var_name in newpfile.variables:\n",
    "\n",
    "    if var_name in averagepfile.variables:\n",
    "        new_var = newpfile.variables[var_name]\n",
    "        tag_var = tagfile_data.variables[var_name]\n",
    "        #print(var_name,'ndim',average_var.ndim)\n",
    "        #print(var_name,new_var.ndim)\n",
    "        #if(var_name,np.shape(new_var) == np.shape(average_var)\n",
    "        if(new_var.ndim==1):\n",
    "            new_var=new_var[:12]\n",
    "            tag_var=tag_var[:12]\n",
    "            diffs = abs(new_var-tag_var)\n",
    "            sd=np.sum(diffs.values[:])\n",
    "        elif new_var.ndim==0:\n",
    "            diffs = abs(new_var-tag_var)\n",
    "            sd=np.sum(diffs.values)\n",
    "\n",
    "        elif new_var.ndim==2 and var_name != 'fates_hlm_pft_map':\n",
    "            new_var=new_var[:,0:12]\n",
    "            tag_var=tag_var[:,0:12]\n",
    "            print('2d shape',var_name,np.shape(new_var),np.shape(tag_var))\n",
    "            diffs = abs(new_var-tag_var)\n",
    "            sd=np.sum(diffs.values[:])\n",
    "\n",
    "        if(var_name in parlist):\n",
    "            print('SP var',var_name)\n",
    "            print('tag',tag_var.values[0:4])\n",
    "            print('new',new_var.values[0:4])\n",
    "                  \n",
    "        if(np.dtype(new_var) =='float64'):            \n",
    "            if (sd>0.001):\n",
    "                \n",
    "                print(f\"Variable {var_name} is different in basepfile and averagepfile\")\n",
    "               # print('av',average_var.values[0])\n",
    "               # print('base',base_var.values[0])\n",
    "                #newpfile.variables[var_name]=base_var\n",
    "        else:\n",
    "            print(f\"Variable {var_name} is in basepfile but not in averagepfile\")\n"
   ]
  },
  {
   "cell_type": "code",
   "execution_count": null,
   "id": "3c0393c3-3ede-4981-af7b-e2d52740fb90",
   "metadata": {},
   "outputs": [],
   "source": []
  }
 ],
 "metadata": {
  "kernelspec": {
   "display_name": "Python [conda env:conda-npl-2023b]",
   "language": "python",
   "name": "conda-env-conda-npl-2023b-py"
  },
  "language_info": {
   "codemirror_mode": {
    "name": "ipython",
    "version": 3
   },
   "file_extension": ".py",
   "mimetype": "text/x-python",
   "name": "python",
   "nbconvert_exporter": "python",
   "pygments_lexer": "ipython3",
   "version": "3.10.12"
  }
 },
 "nbformat": 4,
 "nbformat_minor": 5
}
