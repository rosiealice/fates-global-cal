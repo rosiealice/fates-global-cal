{
 "cells": [
  {
   "cell_type": "markdown",
   "id": "3a24288d-f03f-461c-aa17-2d6408fa0ab4",
   "metadata": {},
   "source": [
    "## Notebook to convert the 'average' input file to a new parameter file iteration"
   ]
  },
  {
   "cell_type": "markdown",
   "id": "989c02aa-43b9-4ec8-ab73-00ec30f62024",
   "metadata": {},
   "source": [
    "##### In this case to update the default pfile with the set of adjested parameter values from the averaged output of the SP calibraiton"
   ]
  },
  {
   "cell_type": "code",
   "execution_count": 3,
   "id": "d10768e6-fd77-46fa-9fa1-62bb366e2482",
   "metadata": {},
   "outputs": [],
   "source": [
    "# Find the parameters that are adjusted in the calibration process"
   ]
  },
  {
   "cell_type": "code",
   "execution_count": 4,
   "id": "660142a4-ab59-450f-aea6-ca10093ee5a6",
   "metadata": {},
   "outputs": [],
   "source": [
    "import xarray as xr\n",
    "import os\n",
    "import netCDF4 as nc\n",
    "import matplotlib.pyplot as plt\n",
    "import shutil\n",
    "import numpy as np"
   ]
  },
  {
   "cell_type": "markdown",
   "id": "15c9ba77-ce56-4014-a88d-7db7232ef4cc",
   "metadata": {},
   "source": [
    "### Control vars"
   ]
  },
  {
   "cell_type": "code",
   "execution_count": null,
   "id": "ebcc5d75-08dd-46b7-94a2-01abad408a92",
   "metadata": {},
   "outputs": [],
   "source": [
    "tag_param_file='fates_params_vertsc_dayl.nc'\n",
    "newpfile='fates_params_vertsc_dayl_SPcal_2.nc'\n",
    "pfilesdir='../intermediate_pfiles/'\n",
    "averagefile = 'average4.nc'"
   ]
  },
  {
   "cell_type": "markdown",
   "id": "82218311-a2fb-4cc5-b2c3-adb5045b0caf",
   "metadata": {},
   "source": [
    "### Find the variables that are calibrated in the SP calibration procedure"
   ]
  },
  {
   "cell_type": "markdown",
   "id": "588a382b-1086-4b2a-b3bb-760bc62e84e1",
   "metadata": {},
   "source": [
    "##### Compare two files in the SP LhC output"
   ]
  },
  {
   "cell_type": "code",
   "execution_count": 13,
   "id": "64c20e50-b267-45e3-b2db-364373188f1d",
   "metadata": {},
   "outputs": [
    {
     "name": "stdout",
     "output_type": "stream",
     "text": [
      "Values of variable 'fates_leaf_vcmaxha' are different\n",
      "Values of variable 'fates_leaf_stomatal_intercept' are different\n",
      "Values of variable 'fates_leaf_vcmax25top' are different\n",
      "Values of variable 'fates_leaf_vcmaxhd' are different\n",
      "Values of variable 'fates_leaf_stomatal_slope_ballberry' are different\n",
      "Values of variable 'fates_leaf_jmaxse' are different\n",
      "Values of variable 'fates_nonhydro_smpsc' are different\n",
      "Values of variable 'fates_maintresp_leaf_atkin2017_baserate' are different\n",
      "Values of variable 'fates_leaf_vcmaxse' are different\n",
      "['fates_leaf_vcmaxha', 'fates_leaf_stomatal_intercept', 'fates_leaf_vcmax25top', 'fates_leaf_vcmaxhd', 'fates_leaf_stomatal_slope_ballberry', 'fates_leaf_jmaxse', 'fates_nonhydro_smpsc', 'fates_maintresp_leaf_atkin2017_baserate', 'fates_leaf_vcmaxse']\n"
     ]
    }
   ],
   "source": [
    "\n",
    "directory_path = '..//lhc_param_files'\n",
    "\n",
    "file='FATES_LH_347.nc'\n",
    "file_path = os.path.join(directory_path, file)\n",
    "data1 = xr.open_dataset(file_path)\n",
    "file='FATES_LH_348.nc'\n",
    "file_path = os.path.join(directory_path, file)\n",
    "data2 = xr.open_dataset(file_path)\n",
    "\n",
    "common_variables = set(data1.variables) & set(data2.variables)\n",
    "\n",
    "# Iterate through the common variables and compare their values\n",
    "parlist=[]\n",
    "for var_name in common_variables:\n",
    "    var_data1 = data1[var_name]\n",
    "    var_data2 = data2[var_name]\n",
    "    # Compare the values of the variables\n",
    "    if not var_data1.equals(var_data2):\n",
    "        \n",
    "        print(f\"Values of variable '{var_name}' are different\")\n",
    "        parlist.append(var_name)\n",
    "print(parlist)"
   ]
  },
  {
   "cell_type": "markdown",
   "id": "409fc303-7a48-469c-9cb4-00e2041d274c",
   "metadata": {},
   "source": [
    "#### Create and read in the new base parameter file\n",
    "- Use the default parameter file from the new FATES tag\n",
    "- and make a new version of this, \n",
    "- and then copy the variables from the averaged file into that.\n",
    "- remembering that the number of PFTs is different\n"
   ]
  },
  {
   "cell_type": "code",
   "execution_count": 29,
   "id": "ca4af630-bfed-4bdd-865c-e14fd5ae3278",
   "metadata": {},
   "outputs": [],
   "source": [
    "\n",
    "shutil.copy(pfilesdir+tag_param_file, pfilesdir+newpfile)\n",
    "basepfile = xr.open_dataset(pfilesdir+newpfilename)"
   ]
  },
  {
   "cell_type": "markdown",
   "id": "7e331caf-02be-4103-a552-9b8dcbf626ec",
   "metadata": {},
   "source": [
    "#### Read in the SP calibrated average parameter file"
   ]
  },
  {
   "cell_type": "code",
   "execution_count": 25,
   "id": "bbf1b968-940a-4dd9-b078-077999767a09",
   "metadata": {},
   "outputs": [],
   "source": [
    "averagepfile = xr.open_dataset(pfilesdir+averagefile)\n"
   ]
  },
  {
   "cell_type": "markdown",
   "id": "255fe2b9-06f8-43a7-88fa-4f28eb264918",
   "metadata": {},
   "source": [
    "#### Copy the value of the parameters in the average file into the new baseline file"
   ]
  },
  {
   "cell_type": "code",
   "execution_count": 78,
   "id": "162b8a64-37d9-4c11-a202-57b8446070cb",
   "metadata": {},
   "outputs": [
    {
     "name": "stdout",
     "output_type": "stream",
     "text": [
      "fates_leaf_vcmaxha\n",
      "fates_leaf_stomatal_intercept\n",
      "fates_leaf_vcmax25top\n",
      "fates_leaf_vcmaxhd\n",
      "fates_leaf_stomatal_slope_ballberry\n",
      "fates_leaf_jmaxse\n",
      "fates_nonhydro_smpsc\n",
      "fates_maintresp_leaf_atkin2017_baserate\n",
      "fates_leaf_vcmaxse\n"
     ]
    }
   ],
   "source": [
    "newpfile=xr.open_dataset(pfilesdir+newpfilename)\n",
    "\n",
    "for var_name in parlist:  \n",
    "    print(var_name)\n",
    "    base_var = newpfile[var_name].values\n",
    "    average_var = averagepfile[var_name].values\n",
    "    \n",
    "    #print('av',average_var)\n",
    "    #print('bs',base_var)\n",
    "    if(newpfile[var_name].ndim==1):\n",
    "        base_var[0:12] = average_var[0:12]  \n",
    "    else:\n",
    "        base_var[:,0:12] = average_var[:,0:12]    \n",
    "\n",
    "\n",
    "newpfile.close()"
   ]
  },
  {
   "cell_type": "code",
   "execution_count": 84,
   "id": "d2a64984-6a1a-4bdc-be46-e73b7bb07b93",
   "metadata": {},
   "outputs": [
    {
     "name": "stdout",
     "output_type": "stream",
     "text": [
      "Variable fates_allom_agb1 is different in basepfile and averagepfile\n",
      "Variable fates_allom_agb2 is different in basepfile and averagepfile\n",
      "Variable fates_allom_amode is different in basepfile and averagepfile\n",
      "Variable fates_allom_blca_expnt_diff is different in basepfile and averagepfile\n",
      "Variable fates_allom_d2bl1 is different in basepfile and averagepfile\n",
      "Variable fates_allom_d2bl2 is different in basepfile and averagepfile\n",
      "Variable fates_allom_d2ca_coefficient_max is different in basepfile and averagepfile\n",
      "Variable fates_allom_d2ca_coefficient_min is different in basepfile and averagepfile\n",
      "Variable fates_allom_d2h1 is different in basepfile and averagepfile\n",
      "Variable fates_allom_d2h2 is different in basepfile and averagepfile\n",
      "Variable fates_allom_d2h3 is different in basepfile and averagepfile\n",
      "Variable fates_allom_dbh_maxheight is different in basepfile and averagepfile\n",
      "Variable fates_allom_lmode is different in basepfile and averagepfile\n",
      "Variable fates_cnp_eca_alpha_ptase is different in basepfile and averagepfile\n",
      "Variable fates_cnp_eca_lambda_ptase is different in basepfile and averagepfile\n",
      "Variable fates_leaf_stomatal_slope_medlyn is different in basepfile and averagepfile\n",
      "Variable fates_phen_mindaysoff is in basepfile but not in averagepfile\n",
      "Variable fates_wood_density is different in basepfile and averagepfile\n"
     ]
    },
    {
     "ename": "IndexError",
     "evalue": "too many indices",
     "output_type": "error",
     "traceback": [
      "\u001b[0;31m---------------------------------------------------------------------------\u001b[0m",
      "\u001b[0;31mIndexError\u001b[0m                                Traceback (most recent call last)",
      "Cell \u001b[0;32mIn[84], line 7\u001b[0m\n\u001b[1;32m      5\u001b[0m \u001b[38;5;66;03m#print(var_name,'ndim',average_var.ndim)\u001b[39;00m\n\u001b[1;32m      6\u001b[0m \u001b[38;5;28;01mif\u001b[39;00m(base_var\u001b[38;5;241m.\u001b[39mndim\u001b[38;5;241m<\u001b[39m\u001b[38;5;241m2\u001b[39m):\n\u001b[0;32m----> 7\u001b[0m     base_var\u001b[38;5;241m=\u001b[39mbase_var[:\u001b[38;5;241m12\u001b[39m]\n\u001b[1;32m      8\u001b[0m     average_var\u001b[38;5;241m=\u001b[39maverage_var[:\u001b[38;5;241m12\u001b[39m]\n\u001b[1;32m      9\u001b[0m     \u001b[38;5;28;01mif\u001b[39;00m(np\u001b[38;5;241m.\u001b[39mdtype(base_var) \u001b[38;5;241m==\u001b[39m\u001b[38;5;124m'\u001b[39m\u001b[38;5;124mfloat64\u001b[39m\u001b[38;5;124m'\u001b[39m):\n",
      "File \u001b[0;32m/opt/conda/envs/anaconda-panel-2023.05-py310/lib/python3.11/site-packages/xarray/core/variable.py:899\u001b[0m, in \u001b[0;36mVariable.__getitem__\u001b[0;34m(self, key)\u001b[0m\n\u001b[1;32m    886\u001b[0m \u001b[38;5;28;01mdef\u001b[39;00m \u001b[38;5;21m__getitem__\u001b[39m(\u001b[38;5;28mself\u001b[39m: T_Variable, key) \u001b[38;5;241m-\u001b[39m\u001b[38;5;241m>\u001b[39m T_Variable:\n\u001b[1;32m    887\u001b[0m \u001b[38;5;250m    \u001b[39m\u001b[38;5;124;03m\"\"\"Return a new Variable object whose contents are consistent with\u001b[39;00m\n\u001b[1;32m    888\u001b[0m \u001b[38;5;124;03m    getting the provided key from the underlying data.\u001b[39;00m\n\u001b[1;32m    889\u001b[0m \n\u001b[0;32m   (...)\u001b[0m\n\u001b[1;32m    897\u001b[0m \u001b[38;5;124;03m    array `x.values` directly.\u001b[39;00m\n\u001b[1;32m    898\u001b[0m \u001b[38;5;124;03m    \"\"\"\u001b[39;00m\n\u001b[0;32m--> 899\u001b[0m     dims, indexer, new_order \u001b[38;5;241m=\u001b[39m \u001b[38;5;28mself\u001b[39m\u001b[38;5;241m.\u001b[39m_broadcast_indexes(key)\n\u001b[1;32m    900\u001b[0m     data \u001b[38;5;241m=\u001b[39m as_indexable(\u001b[38;5;28mself\u001b[39m\u001b[38;5;241m.\u001b[39m_data)[indexer]\n\u001b[1;32m    901\u001b[0m     \u001b[38;5;28;01mif\u001b[39;00m new_order:\n",
      "File \u001b[0;32m/opt/conda/envs/anaconda-panel-2023.05-py310/lib/python3.11/site-packages/xarray/core/variable.py:718\u001b[0m, in \u001b[0;36mVariable._broadcast_indexes\u001b[0;34m(self, key)\u001b[0m\n\u001b[1;32m    716\u001b[0m key \u001b[38;5;241m=\u001b[39m \u001b[38;5;28mself\u001b[39m\u001b[38;5;241m.\u001b[39m_item_key_to_tuple(key)  \u001b[38;5;66;03m# key is a tuple\u001b[39;00m\n\u001b[1;32m    717\u001b[0m \u001b[38;5;66;03m# key is a tuple of full size\u001b[39;00m\n\u001b[0;32m--> 718\u001b[0m key \u001b[38;5;241m=\u001b[39m indexing\u001b[38;5;241m.\u001b[39mexpanded_indexer(key, \u001b[38;5;28mself\u001b[39m\u001b[38;5;241m.\u001b[39mndim)\n\u001b[1;32m    719\u001b[0m \u001b[38;5;66;03m# Convert a scalar Variable to a 0d-array\u001b[39;00m\n\u001b[1;32m    720\u001b[0m key \u001b[38;5;241m=\u001b[39m \u001b[38;5;28mtuple\u001b[39m(\n\u001b[1;32m    721\u001b[0m     k\u001b[38;5;241m.\u001b[39mdata \u001b[38;5;28;01mif\u001b[39;00m \u001b[38;5;28misinstance\u001b[39m(k, Variable) \u001b[38;5;129;01mand\u001b[39;00m k\u001b[38;5;241m.\u001b[39mndim \u001b[38;5;241m==\u001b[39m \u001b[38;5;241m0\u001b[39m \u001b[38;5;28;01melse\u001b[39;00m k \u001b[38;5;28;01mfor\u001b[39;00m k \u001b[38;5;129;01min\u001b[39;00m key\n\u001b[1;32m    722\u001b[0m )\n",
      "File \u001b[0;32m/opt/conda/envs/anaconda-panel-2023.05-py310/lib/python3.11/site-packages/xarray/core/indexing.py:232\u001b[0m, in \u001b[0;36mexpanded_indexer\u001b[0;34m(key, ndim)\u001b[0m\n\u001b[1;32m    230\u001b[0m         new_key\u001b[38;5;241m.\u001b[39mappend(k)\n\u001b[1;32m    231\u001b[0m \u001b[38;5;28;01mif\u001b[39;00m \u001b[38;5;28mlen\u001b[39m(new_key) \u001b[38;5;241m>\u001b[39m ndim:\n\u001b[0;32m--> 232\u001b[0m     \u001b[38;5;28;01mraise\u001b[39;00m \u001b[38;5;167;01mIndexError\u001b[39;00m(\u001b[38;5;124m\"\u001b[39m\u001b[38;5;124mtoo many indices\u001b[39m\u001b[38;5;124m\"\u001b[39m)\n\u001b[1;32m    233\u001b[0m new_key\u001b[38;5;241m.\u001b[39mextend((ndim \u001b[38;5;241m-\u001b[39m \u001b[38;5;28mlen\u001b[39m(new_key)) \u001b[38;5;241m*\u001b[39m [\u001b[38;5;28mslice\u001b[39m(\u001b[38;5;28;01mNone\u001b[39;00m)])\n\u001b[1;32m    234\u001b[0m \u001b[38;5;28;01mreturn\u001b[39;00m \u001b[38;5;28mtuple\u001b[39m(new_key)\n",
      "\u001b[0;31mIndexError\u001b[0m: too many indices"
     ]
    }
   ],
   "source": [
    "for var_name in newpfile.variables:\n",
    "    if var_name in averagepfile.variables:\n",
    "        base_var = newpfile.variables[var_name]\n",
    "        average_var = averagepfile.variables[var_name]\n",
    "        #print(var_name,'ndim',average_var.ndim)\n",
    "        if(base_var.ndim<2):\n",
    "            base_var=base_var[:12]\n",
    "            average_var=average_var[:12]\n",
    "            if(np.dtype(base_var) =='float64'):\n",
    "                diffs = abs(base_var-average_var)\n",
    "            \n",
    "                if (np.sum(diffs.values[:])>0.001):\n",
    "                    print(f\"Variable {var_name} is different in basepfile and averagepfile\")\n",
    "                    #print(average_var.values)\n",
    "                    #print(base_var.values)\n",
    "            else:\n",
    "                print(f\"Variable {var_name} is in basepfile but not in averagepfile\")\n"
   ]
  },
  {
   "cell_type": "code",
   "execution_count": null,
   "id": "b431d378-4106-4ea8-bd81-7f4166790974",
   "metadata": {},
   "outputs": [],
   "source": [
    "print(basepfile['fates_leaf_vcmax25top'].values)"
   ]
  },
  {
   "cell_type": "code",
   "execution_count": null,
   "id": "3c0393c3-3ede-4981-af7b-e2d52740fb90",
   "metadata": {},
   "outputs": [],
   "source": []
  }
 ],
 "metadata": {
  "kernelspec": {
   "display_name": "anaconda-panel-2023.05-py310",
   "language": "python",
   "name": "conda-env-anaconda-panel-2023.05-py310-py"
  },
  "language_info": {
   "codemirror_mode": {
    "name": "ipython",
    "version": 3
   },
   "file_extension": ".py",
   "mimetype": "text/x-python",
   "name": "python",
   "nbconvert_exporter": "python",
   "pygments_lexer": "ipython3",
   "version": "3.11.5"
  }
 },
 "nbformat": 4,
 "nbformat_minor": 5
}
