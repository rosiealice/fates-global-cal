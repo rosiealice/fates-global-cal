{
 "cells": [
  {
   "cell_type": "code",
   "execution_count": null,
   "id": "9ef8a4a4-6ca3-40da-b7bb-7574b3dfd5af",
   "metadata": {},
   "outputs": [],
   "source": []
  }
 ],
 "metadata": {
  "kernelspec": {
   "display_name": "Notebook Gallery 2019.12",
   "language": "python",
   "name": "notebook-gallery-2019.12"
  },
  "language_info": {
   "codemirror_mode": {
    "name": "ipython",
    "version": 3
   },
   "file_extension": ".py",
   "mimetype": "text/x-python",
   "name": "python",
   "nbconvert_exporter": "python",
   "pygments_lexer": "ipython3",
   "version": "3.7.3"
  }
 },
 "nbformat": 4,
 "nbformat_minor": 5
}
