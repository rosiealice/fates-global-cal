{
 "cells": [
  {
   "cell_type": "code",
   "execution_count": 1,
   "id": "60f6b769-3165-4f75-aa63-b2c9a808940f",
   "metadata": {},
   "outputs": [],
   "source": [
    "import os\n",
    "import numpy as np\n",
    "import netCDF4 as nc4\n",
    "import shutil\n",
    "import warnings\n",
    "warnings.filterwarnings('ignore')\n",
    "import xarray as xr\n",
    "from matplotlib import pyplot as plt"
   ]
  },
  {
   "cell_type": "code",
   "execution_count": 10,
   "id": "56f5c6e3-b38d-4ddc-a198-974652d0253c",
   "metadata": {},
   "outputs": [
    {
     "name": "stdout",
     "output_type": "stream",
     "text": [
      "pft 0 71.3476695339068\n",
      "pft 0 vcmax 55.12\n",
      "0.007\n",
      "vcm dec sh 35.0\n",
      "vcm dec sh 35.0\n",
      "40.0\n",
      "vcm arcc3 40.0\n"
     ]
    }
   ],
   "source": [
    "# make manual adjustments to SP calibration scheme. \n",
    "\n",
    "pfile1='parameter_outputs/manual_nocomp_calibration_04july.nc'\n",
    "\n",
    "newfile='parameter_outputs/manual_nocomp_calibration__16july.nc'\n",
    "\n",
    "pf=xr.open_dataset(pfile1)\n",
    "\n",
    "pft=0 # BET\n",
    "pf['fates_leaf_slatop'][pft]=0.014 # LAI needs to be higher\n",
    "pf['fates_maintresp_leaf_vert_scaler_coeff2'][pft]=1.5\n",
    "#pf['fates_allom_d2ca_coefficient_min'][pft]=0.45\n",
    "pf['fates_maintresp_leaf_atkin2017_baserate'][pft]=1.734\n",
    "print('pft',pft,pf['fates_leaf_vcmax25top'][0,pft].values)\n",
    "pf['fates_leaf_vcmax25top'][0,pft]=55.12\n",
    "print('pft',pft,'vcmax',pf['fates_leaf_vcmax25top'][0,pft].values)\n",
    "\n",
    "pft=1 # NET\n",
    "print(pf['fates_leaf_slatop'][pft].values)\n",
    "pf['fates_leaf_slatop'][pft]=0.007  # LAI needs to be higher\n",
    "pf['fates_maintresp_leaf_vert_scaler_coeff2'][pft]=1.5\n",
    "#pf['fates_allom_d2ca_coefficient_min'][pft]=0.45\n",
    "\n",
    "pft=2 # NDT - make a little lower\n",
    "pf['fates_maintresp_leaf_vert_scaler_coeff2'][pft]=2.25\n",
    "\n",
    "pft=4 # DDT \n",
    "pf['fates_leaf_vcmax25top'][0,pft]=40\n",
    "\n",
    "pft=8 #dec shrub (GPP is too high needs to be reduced). \n",
    "print('vcm dec sh',pf['fates_leaf_vcmax25top'][0,pft].values)\n",
    "pf['fates_leaf_vcmax25top'][0,pft]=35\n",
    "print('vcm dec sh',pf['fates_leaf_vcmax25top'][0,pft].values)\n",
    "pf['fates_allom_d2bl1'][pft]=0.05\n",
    "\n",
    "pft=9 # ArcC3G\n",
    "print(pf['fates_leaf_vcmax25top'][0,pft].values)\n",
    "pf['fates_leaf_vcmax25top'][0,pft]=40\n",
    "pf['fates_allom_d2bl1'][pft]=0.05\n",
    "print('vcm arcc3',pf['fates_leaf_vcmax25top'][0,pft].values)\n",
    "\n",
    "pft=10 # C3G\n",
    "pf['fates_turnover_leaf'][0,pft]=0.75\n",
    "pf['fates_maintresp_leaf_vert_scaler_coeff2'][pft]=2.25\n",
    "pf['fates_allom_d2bl1'][pft]=0.05\n",
    "\n",
    "pft=11 # C4G\n",
    "pf['fates_turnover_leaf'][0,pft]=0.75\n",
    "pf['fates_maintresp_leaf_vert_scaler_coeff2'][pft]=2.25\n",
    "pf['fates_allom_d2bl1'][pft]=0.05\n",
    "    \n",
    "pf.to_netcdf(newfile)\n",
    "pf.close()"
   ]
  },
  {
   "cell_type": "code",
   "execution_count": 8,
   "id": "01942944-ecd6-4252-b13d-d5a750d824e7",
   "metadata": {},
   "outputs": [
    {
     "name": "stdout",
     "output_type": "stream",
     "text": [
      "0 66.09695939187839\n",
      "pft 0 vcmax 55.12\n",
      "sla p1 0.005\n",
      "54.0\n",
      "35.0\n",
      "78.0\n",
      "40.0\n"
     ]
    }
   ],
   "source": [
    "# make manual adjustments to SP calibration scheme. \n",
    "ensN=2\n",
    "pfile1 = 'parameter_outputs/SP_LHC_calibration_2_3.nc'\n",
    "\n",
    "newfile='parameter_outputs/manual_nocomp_calibration_04july.nc'\n",
    "\n",
    "pf=xr.open_dataset(pfile1)\n",
    "\n",
    "pft=0 # BET\n",
    "pf['fates_leaf_slatop'][pft]=0.014 # LAI needs to be higher\n",
    "pf['fates_maintresp_leaf_vert_scaler_coeff2'][pft]=1.5\n",
    "#pf['fates_allom_d2ca_coefficient_min'][pft]=0.45\n",
    "print(pft,pf['fates_leaf_vcmax25top'][0,pft].values)\n",
    "pf['fates_leaf_vcmax25top'][0,pft]=55.12\n",
    "print('pft',pft,'vcmax',pf['fates_leaf_vcmax25top'][0,pft].values)\n",
    "\n",
    "pft=1 # NET\n",
    "print('sla p1',pf['fates_leaf_slatop'][pft].values)\n",
    "pf['fates_leaf_slatop'][pft]=0.007  # LAI needs to be higher\n",
    "pf['fates_maintresp_leaf_vert_scaler_coeff2'][pft]=1.5\n",
    "#pf['fates_allom_d2ca_coefficient_min'][pft]=0.45\n",
    "\n",
    "pft=2 # NDT - make a little lower\n",
    "pf['fates_maintresp_leaf_vert_scaler_coeff2'][pft]=2.25\n",
    "\n",
    "pft=4 # DDT \n",
    "pf['fates_leaf_vcmax25top'][0,pft]=40\n",
    "\n",
    "pft=8 #dec shrub (GPP is too high needs to be reduced). \n",
    "print(pf['fates_leaf_vcmax25top'][0,pft].values)\n",
    "pf['fates_leaf_vcmax25top'][0,pft]=35\n",
    "print(pf['fates_leaf_vcmax25top'][0,pft].values)\n",
    "\n",
    "pft=9 # ArcC3G\n",
    "print(pf['fates_leaf_vcmax25top'][0,pft].values)\n",
    "pf['fates_leaf_vcmax25top'][0,pft]=40\n",
    "print(pf['fates_leaf_vcmax25top'][0,pft].values)\n",
    "\n",
    "pft=10 # C3G\n",
    "pf['fates_turnover_leaf'][0,pft]=0.75\n",
    "pf['fates_maintresp_leaf_vert_scaler_coeff2'][pft]=2.25\n",
    "pf['fates_allom_d2bl1'][pft]=0.05\n",
    "\n",
    "pft=11 # C4G\n",
    "pf['fates_turnover_leaf'][0,pft]=0.75\n",
    "pf['fates_maintresp_leaf_vert_scaler_coeff2'][pft]=2.25\n",
    "pf['fates_allom_d2bl1'][pft]=0.05\n",
    "    \n",
    "#pf.to_netcdf(newfile)\n",
    "pf.close()"
   ]
  },
  {
   "cell_type": "code",
   "execution_count": 4,
   "id": "84589a90-148b-4d37-bbbb-88f2d729e54a",
   "metadata": {},
   "outputs": [
    {
     "name": "stdout",
     "output_type": "stream",
     "text": [
      "0.005\n",
      "54.0\n",
      "40.0\n",
      "78.0\n",
      "50.0\n"
     ]
    }
   ],
   "source": [
    "# make manual adjustments to SP calibration scheme. \n",
    "ensN=2\n",
    "pfile1 = 'parameter_outputs/SP_LHC_calibration_2_3.nc'\n",
    "\n",
    "newfile='parameter_outputs/manual_nocomp_calibration_29junb.nc'\n",
    "\n",
    "pf=xr.open_dataset(pfile1)\n",
    "\n",
    "pft=0 # BET\n",
    "pf['fates_leaf_slatop'][pft]=0.014 # LAI needs to be higher\n",
    "pf['fates_maintresp_leaf_vert_scaler_coeff2'][pft]=1.5\n",
    "#pf['fates_allom_d2ca_coefficient_min'][pft]=0.45\n",
    "\n",
    "pft=1 # NET\n",
    "print(pf['fates_leaf_slatop'][pft].values)\n",
    "pf['fates_leaf_slatop'][pft]=0.007  # LAI needs to be higher\n",
    "pf['fates_maintresp_leaf_vert_scaler_coeff2'][pft]=1.5\n",
    "#pf['fates_allom_d2ca_coefficient_min'][pft]=0.45\n",
    "\n",
    "pft=2 # NDT - make a little lower\n",
    "pf['fates_maintresp_leaf_vert_scaler_coeff2'][pft]=2.25\n",
    "\n",
    "pft=4 # DDT \n",
    "pf['fates_leaf_vcmax25top'][0,pft]=40\n",
    "\n",
    "pft=8 #dec shrub (GPP is too high needs to be reduced). \n",
    "print(pf['fates_leaf_vcmax25top'][0,pft].values)\n",
    "pf['fates_leaf_vcmax25top'][0,pft]=40\n",
    "print(pf['fates_leaf_vcmax25top'][0,pft].values)\n",
    "\n",
    "pft=9 # ArcC3G\n",
    "print(pf['fates_leaf_vcmax25top'][0,pft].values)\n",
    "pf['fates_leaf_vcmax25top'][0,pft]=50\n",
    "print(pf['fates_leaf_vcmax25top'][0,pft].values)\n",
    "\n",
    "pft=10 # C3G\n",
    "pf['fates_turnover_leaf'][0,pft]=0.75\n",
    "pf['fates_maintresp_leaf_vert_scaler_coeff2'][pft]=2.25\n",
    "pf['fates_allom_d2bl1'][pft]=0.05\n",
    "\n",
    "pft=11 # C4G\n",
    "pf['fates_turnover_leaf'][0,pft]=0.75\n",
    "pf['fates_maintresp_leaf_vert_scaler_coeff2'][pft]=2.25\n",
    "pf['fates_allom_d2bl1'][pft]=0.05\n",
    "    \n",
    "#pf.to_netcdf(newfile)\n",
    "pf.close()"
   ]
  },
  {
   "cell_type": "code",
   "execution_count": 4,
   "id": "dd1dba56-6dd3-46b3-81c0-1a6d6f29a776",
   "metadata": {},
   "outputs": [
    {
     "ename": "NameError",
     "evalue": "name 'pfile' is not defined",
     "output_type": "error",
     "traceback": [
      "\u001b[0;31m---------------------------------------------------------------------------\u001b[0m",
      "\u001b[0;31mNameError\u001b[0m                                 Traceback (most recent call last)",
      "Cell \u001b[0;32mIn[4], line 2\u001b[0m\n\u001b[1;32m      1\u001b[0m \u001b[38;5;66;03m#28 jun\u001b[39;00m\n\u001b[0;32m----> 2\u001b[0m \u001b[38;5;28;01mif\u001b[39;00m(\u001b[43mpfile\u001b[49m\u001b[38;5;241m==\u001b[39m\u001b[38;5;241m5\u001b[39m):\n\u001b[1;32m      3\u001b[0m     pft\u001b[38;5;241m=\u001b[39m\u001b[38;5;241m0\u001b[39m \u001b[38;5;66;03m# BET\u001b[39;00m\n\u001b[1;32m      4\u001b[0m     pf[\u001b[38;5;124m'\u001b[39m\u001b[38;5;124mfates_leaf_slatop\u001b[39m\u001b[38;5;124m'\u001b[39m][pft]\u001b[38;5;241m=\u001b[39m\u001b[38;5;241m0.025\u001b[39m  \u001b[38;5;66;03m# lai needs to be higher. \u001b[39;00m\n",
      "\u001b[0;31mNameError\u001b[0m: name 'pfile' is not defined"
     ]
    }
   ],
   "source": [
    "#28 jun\n",
    "if(pfile==5):\n",
    "    pft=0 # BET\n",
    "    pf['fates_leaf_slatop'][pft]=0.025  # lai needs to be higher. \n",
    "    pf['fates_maintresp_leaf_vert_scaler_coeff2'][pft]=1.00  \n",
    "    pf['fates_allom_d2ca_coefficient_min'][pft]=0.2  \n",
    "    \n",
    "    pft=1 # NET\n",
    "    pf['fates_leaf_slatop'][pft]=0.018  # LAI needs to be higher\n",
    "    pf['fates_maintresp_leaf_vert_scaler_coeff2'][pft]=1.5\n",
    "    pf['fates_allom_d2ca_coefficient_min'][pft]=0.45\n",
    "    \n",
    "    pft=2 # NDT - make a little lower\n",
    "    pf['fates_maintresp_leaf_vert_scaler_coeff2'][pft]=2.25\n",
    "    \n",
    "    pft=10 # DDT \n",
    "    pf['fates_leaf_vcmax25top'][0,pft]=40\n",
    "    \n",
    "    pft=9 # ArcC3G\n",
    "    print(pf['fates_leaf_vcmax25top'][0,pft].values)\n",
    "    \n",
    "    pft=10 # C3G\n",
    "    pf['fates_leaf_vcmax25top'][0,pft]=50\n",
    "    print(pf['fates_leaf_vcmax25top'][0,pft].values)\n",
    "    pft=10 # coolC3G\n",
    "    pf['fates_turnover_leaf'][0,pft]=0.75\n",
    "    pf['fates_maintresp_leaf_vert_scaler_coeff2'][pft]=2.25\n",
    "    \n",
    "    pft=11 # coolC3G\n",
    "    pf['fates_turnover_leaf'][0,pft]=0.75\n",
    "    pf['fates_maintresp_leaf_vert_scaler_coeff2'][pft]=2.25\n",
    "    \n",
    " "
   ]
  },
  {
   "cell_type": "code",
   "execution_count": null,
   "id": "c227e3b5-53d9-4b8e-8cc5-b2e59909d60e",
   "metadata": {},
   "outputs": [],
   "source": [
    "#29jun\n",
    "\n",
    "pft=1 # NET\n",
    "#pf['fates_leaf_slatop'][pft]=0.018  # LAI needs to be higher\n",
    "pf['fates_maintresp_leaf_vert_scaler_coeff2'][pft]=1.5\n",
    "#pf['fates_allom_d2ca_coefficient_min'][pft]=0.45\n",
    "\n",
    "pft=2 # NDT - make a little lower\n",
    "pf['fates_maintresp_leaf_vert_scaler_coeff2'][pft]=2.25\n",
    "\n",
    "pft=4 # DDT \n",
    "pf['fates_leaf_vcmax25top'][0,pft]=40\n",
    "\n",
    "pft=9 # ArcC3G\n",
    "print(pf['fates_leaf_vcmax25top'][0,pft].values)\n",
    "pf['fates_leaf_vcmax25top'][0,pft]=50\n",
    "print(pf['fates_leaf_vcmax25top'][0,pft].values)\n",
    "\n",
    "pft=10 # coolC3G\n",
    "pf['fates_turnover_leaf'][0,pft]=0.75\n",
    "pf['fates_maintresp_leaf_vert_scaler_coeff2'][pft]=2.25\n",
    "pf['fates_allom_d2bl1'][pft]=0.05\n",
    "\n",
    "pft=11 # coolC4G\n",
    "pf['fates_turnover_leaf'][0,pft]=0.75\n",
    "pf['fates_maintresp_leaf_vert_scaler_coeff2'][pft]=2.25\n",
    "pf['fates_allom_d2bl1'][pft]=0.05\n",
    "    \n"
   ]
  },
  {
   "cell_type": "code",
   "execution_count": 2,
   "id": "83080cdf-1c60-4bb8-a9e4-41d5e6abe45d",
   "metadata": {},
   "outputs": [
    {
     "name": "stdout",
     "output_type": "stream",
     "text": [
      "[71.34766953 62.         39.         61.         40.         58.\n",
      " 62.         54.         54.         50.         80.         20.        ]\n",
      "[2.43 1.5  2.25 2.43 2.43 2.43 2.43 2.43 2.43 2.43 2.25 2.25]\n",
      "[0.04 0.07 0.07 0.01 0.04 0.07 0.07 0.07 0.07 0.07 0.05 0.05]\n"
     ]
    }
   ],
   "source": [
    "newfile='parameter_outputs/manual_nocomp_calibration_29jun.nc'\n",
    "pf=xr.open_dataset(newfile)\n",
    "print(pf['fates_leaf_vcmax25top'][0,:].values)\n",
    "print(pf['fates_maintresp_leaf_vert_scaler_coeff2'][:].values)\n",
    "print(pf['fates_allom_d2bl1'][:].values)\n",
    "pf.close()"
   ]
  },
  {
   "cell_type": "code",
   "execution_count": 3,
   "id": "d7f64201-8da7-420e-8117-bcd02fd25879",
   "metadata": {},
   "outputs": [
    {
     "name": "stdout",
     "output_type": "stream",
     "text": [
      "[71.34766953 62.         39.         61.         40.         58.\n",
      " 62.         54.         40.         50.         80.         20.        ]\n",
      "[1.5  1.5  2.25 2.43 2.43 2.43 2.43 2.43 2.43 2.43 2.25 2.25]\n",
      "[0.04 0.07 0.07 0.01 0.04 0.07 0.07 0.07 0.07 0.07 0.05 0.05]\n"
     ]
    }
   ],
   "source": [
    "newfile='parameter_outputs/manual_nocomp_calibration_29junb.nc'\n",
    "pf=xr.open_dataset(newfile)\n",
    "print(pf['fates_leaf_vcmax25top'][0,:].values)\n",
    "print(pf['fates_maintresp_leaf_vert_scaler_coeff2'][:].values)\n",
    "print(pf['fates_allom_d2bl1'][:].values)\n",
    "pf.close()"
   ]
  },
  {
   "cell_type": "code",
   "execution_count": 4,
   "id": "6c4772f7-6762-4028-8a02-0dbb33691be5",
   "metadata": {},
   "outputs": [
    {
     "name": "stdout",
     "output_type": "stream",
     "text": [
      "[71.34766953 62.         39.         61.         40.         58.\n",
      " 62.         54.         35.         40.         80.         20.        ]\n",
      "[1.5  1.5  2.25 2.43 2.43 2.43 2.43 2.43 2.43 2.43 2.25 2.25]\n",
      "[0.04 0.07 0.07 0.01 0.04 0.07 0.07 0.07 0.07 0.07 0.05 0.05]\n"
     ]
    }
   ],
   "source": [
    "newfile='parameter_outputs/manual_nocomp_calibration_04july.nc'\n",
    "pf=xr.open_dataset(newfile)\n",
    "print(pf['fates_leaf_vcmax25top'][0,:].values)\n",
    "print(pf['fates_maintresp_leaf_vert_scaler_coeff2'][:].values)\n",
    "print(pf['fates_allom_d2bl1'][:].values)\n",
    "pf.close()"
   ]
  },
  {
   "cell_type": "code",
   "execution_count": null,
   "id": "32d02d62-9bcd-47f9-87b3-b963895e3560",
   "metadata": {},
   "outputs": [],
   "source": []
  }
 ],
 "metadata": {
  "kernelspec": {
   "display_name": "Python [conda env:conda-npl-2024a]",
   "language": "python",
   "name": "conda-env-conda-npl-2024a-py"
  },
  "language_info": {
   "codemirror_mode": {
    "name": "ipython",
    "version": 3
   },
   "file_extension": ".py",
   "mimetype": "text/x-python",
   "name": "python",
   "nbconvert_exporter": "python",
   "pygments_lexer": "ipython3",
   "version": "3.11.6"
  }
 },
 "nbformat": 4,
 "nbformat_minor": 5
}
