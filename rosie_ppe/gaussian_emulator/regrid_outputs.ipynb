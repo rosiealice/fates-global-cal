{
 "cells": [
  {
   "cell_type": "code",
   "execution_count": null,
   "id": "dbbee369-1c46-4d95-9047-f99c20a9f5e1",
   "metadata": {},
   "outputs": [],
   "source": [
    "import numpy as np\n",
    "from sklearn.gaussian_process import GaussianProcessRegressor\n",
    "from sklearn.gaussian_process.kernels import RBF, ConstantKernel as C\n",
    "import xarray as xr\n",
    "import matplotlib.pyplot as plt"
   ]
  },
  {
   "cell_type": "code",
   "execution_count": null,
   "id": "538e1ece-e1f3-465d-8685-281faab490b5",
   "metadata": {},
   "outputs": [],
   "source": [
    "import os\n",
    "import netCDF4 as nc4\n",
    "import shutil\n",
    "import warnings\n",
    "warnings.filterwarnings('ignore')"
   ]
  },
  {
   "cell_type": "code",
   "execution_count": 2,
   "id": "76c20a1b-a52b-44f8-8590-8906e4692513",
   "metadata": {},
   "outputs": [],
   "source": [
    "import xarray as xr\n",
    "import xesmf as xe\n",
    "import cartopy.crs as ccrs"
   ]
  },
  {
   "cell_type": "markdown",
   "id": "08d30fb1-6dcf-4278-bc2d-1276a06b7573",
   "metadata": {},
   "source": [
    "### GET OBS DATA"
   ]
  },
  {
   "cell_type": "code",
   "execution_count": 3,
   "id": "f19d8bb3-2d78-481b-91bc-47b2022bdf8e",
   "metadata": {},
   "outputs": [],
   "source": [
    "gppfile='/glade/work/rfisher/ILAMB_data/DATA/gpp/FLUXCOM/gpp.nc'\n",
    "laifile='/glade/work/rfisher/FATES_calibration/ILAMB_data/DATA/lai/MODIS/lai_0.5x0.5.nc'"
   ]
  },
  {
   "cell_type": "code",
   "execution_count": 4,
   "id": "1cc9f9f6-0646-4b93-8d09-3d828888496e",
   "metadata": {},
   "outputs": [],
   "source": [
    "ds_gpp = xr.open_dataset(gppfile)\n",
    "ds_lai = xr.open_dataset(laifile)\n",
    "\n",
    "ds_gpp=ds_gpp.mean('time')\n",
    "ds_lai=ds_lai.mean('time')\n",
    "ds_lai['lat']=ds_lai.lat*-1"
   ]
  },
  {
   "cell_type": "code",
   "execution_count": 5,
   "id": "b2dcd75d-3ce8-49bf-987d-bac7b971078a",
   "metadata": {},
   "outputs": [],
   "source": [
    "ds=ds_gpp"
   ]
  },
  {
   "cell_type": "markdown",
   "id": "834c91f4-bf73-4628-9761-dac0b58eacdf",
   "metadata": {},
   "source": [
    "### Get FATES output"
   ]
  },
  {
   "cell_type": "markdown",
   "id": "c7cccf84-92f3-4f31-9f1a-1f06e1aa39c6",
   "metadata": {},
   "source": [
    "#### read fates data"
   ]
  },
  {
   "cell_type": "code",
   "execution_count": 7,
   "id": "ed730acf-3617-415f-aae9-a819e2d58513",
   "metadata": {},
   "outputs": [],
   "source": [
    "nruns=4\n",
    "runs=['4x5_out_of_the_box_ann','test_SP_cal_4x5','test_SP_4x5_rosieLHC_2','test_NOCOMP_4x5_rosieLHC_2','test_CLM60SP_4x5','test_SP_4x5_rosieLHC_1',]\n",
    "arcr = [1,1,1,1]\n",
    "fatesrun=[1,1,1,1]\n",
    "ychoose=[2006, 2006, 2006, 2029]"
   ]
  },
  {
   "cell_type": "code",
   "execution_count": null,
   "id": "e836deca-7794-438b-ab08-b357bdb8b984",
   "metadata": {},
   "outputs": [
    {
     "name": "stdout",
     "output_type": "stream",
     "text": [
      "0 /glade/derecho/scratch/rfisher/archive/4x5_out_of_the_box_ann/lnd/hist/4x5_out_of_the_box_ann.clm2.h0.2006-*\n"
     ]
    }
   ],
   "source": [
    "\n",
    "output_data=[]\n",
    "for n in range(nruns):\n",
    "    run=runs[n]\n",
    "    root='/glade/derecho/scratch/rfisher/'\n",
    "    if(arcr[n]==1):\n",
    "        filedir=root+'archive/'+run+'/lnd/hist/'\n",
    "    else:\n",
    "        filedir=root+run+'/run/'\n",
    "    file=run+'.clm2.h0.'+str(ychoose[n])+'-*'\n",
    "    filename=filedir+file\n",
    "    print(n,filename)\n",
    "    outd=xr.open_mfdataset(filename)\n",
    "    output_data.append(outd)\n"
   ]
  },
  {
   "cell_type": "markdown",
   "id": "8bca82c7-18e8-4ec5-b766-0d0394aa552c",
   "metadata": {},
   "source": [
    "#### extract variables"
   ]
  },
  {
   "cell_type": "code",
   "execution_count": null,
   "id": "53ad7f03-7baa-4b0e-9a4a-93165d7da1c6",
   "metadata": {},
   "outputs": [],
   "source": [
    "ds_out_gpp_ts=[]\n",
    "ds_out_lai_ts=[]\n",
    "for r in range(nruns):\n",
    "    print('r',r)\n",
    "    if(fatesrun[r]==1):\n",
    "        ds_out_gpp_ts.append(output_data[r].FATES_GPP*output_data[r].FATES_FRACTION)\n",
    "        ds_out_lai_ts.append(output_data[r].FATES_LAI*output_data[r].FATES_FRACTION)\n",
    "    else:   \n",
    "        ds_out_gpp_ts.append(output_data[r].FPSN)\n",
    "        ds_out_lai_ts.append(output_data[r].TLAI)"
   ]
  },
  {
   "cell_type": "code",
   "execution_count": null,
   "id": "5171fcad-7869-47e7-84cf-9bae65331c09",
   "metadata": {},
   "outputs": [],
   "source": [
    "ds_out_gpp=[]\n",
    "ds_out_lai=[]\n",
    "conv = 3600*24*1000\n",
    "for r in range(nruns):\n",
    "    print('r',r)\n",
    "    ds_out_gpp.append(np.multiply(ds_out_gpp_ts[r].mean('time'),conv))\n",
    "    ds_out_lai.append(ds_out_lai_ts[r].mean('time'))"
   ]
  },
  {
   "cell_type": "markdown",
   "id": "e17e309d-4f33-4d49-8c34-f6c05ea07b10",
   "metadata": {},
   "source": [
    "### Make regridder"
   ]
  },
  {
   "cell_type": "code",
   "execution_count": null,
   "id": "36f934e0-717e-4c48-99fa-4ff068ab2f4a",
   "metadata": {},
   "outputs": [],
   "source": []
  },
  {
   "cell_type": "code",
   "execution_count": null,
   "id": "27600968-09f2-407e-9259-a5c41dc3f1c8",
   "metadata": {},
   "outputs": [],
   "source": [
    "regridder_gpp = xe.Regridder(ds, ds_out_gpp[0], 'bilinear', periodic=True)"
   ]
  },
  {
   "cell_type": "code",
   "execution_count": null,
   "id": "e5825a0b-f3ec-43b8-838e-3b8b56103e78",
   "metadata": {},
   "outputs": [],
   "source": [
    "regridder_lai = xe.Regridder(ds, ds_out_lai[0], 'bilinear', periodic=True)"
   ]
  },
  {
   "cell_type": "markdown",
   "id": "01118e20-44a2-4a87-951b-e43cb7649285",
   "metadata": {},
   "source": [
    "### do regridding of data"
   ]
  },
  {
   "cell_type": "code",
   "execution_count": null,
   "id": "fbb6bed0-8bdc-463c-b8cf-552d9c9898b2",
   "metadata": {},
   "outputs": [],
   "source": [
    "gpp45deg = regridder_gpp(ds_gpp['gpp'])\n",
    "lai45deg = regridder_lai(ds_lai['lai'])\n",
    "lai45deg['lat']=lai45deg.lat*-1"
   ]
  },
  {
   "cell_type": "code",
   "execution_count": null,
   "id": "3abd415b-e66f-47e1-b5b0-a408d18cf84b",
   "metadata": {},
   "outputs": [],
   "source": [
    "def make_bias_plot(bias,figname):\n",
    "    fig = plt.figure(figsize=(10, 5))\n",
    "    # Create a GeoAxes with the PlateCarree projection\n",
    "    #ax = plt.axes(projection=ccrs.PlateCarree())\n",
    "    \n",
    "    ax = plt.axes(projection=ccrs.Robinson())\n",
    "    \n",
    "    # Plot the data on the map\n",
    "    bias.plot(ax=ax, transform=ccrs.PlateCarree(),cmap='RdYlBu', vmin=-1.5, vmax=1.5)\n",
    "    ax.set_title('')\n",
    "    ax.set_title('')\n",
    "    ax.set_xlabel('')\n",
    "    ax.set_ylabel('')\n",
    "    ax.set_xticklabels([])\n",
    "    ax.set_yticklabels([])\n",
    "    ax.coastlines()\n",
    "    \n",
    "    # Show the plot\n",
    "    plt.show()\n",
    "    plt.savefig(figname,bbox_inches='tight')\n",
    "\n"
   ]
  },
  {
   "cell_type": "code",
   "execution_count": null,
   "id": "f6271ea4-3da4-432a-8c23-1d2d80e101c3",
   "metadata": {},
   "outputs": [],
   "source": [
    "def make_abs_plot(bias,figname,vmn,vmx):\n",
    "    fig = plt.figure(figsize=(10, 5))\n",
    "    # Create a GeoAxes with the PlateCarree projection\n",
    "    #ax = plt.axes(projection=ccrs.PlateCarree())\n",
    "    \n",
    "    ax = plt.axes(projection=ccrs.Robinson())\n",
    "    \n",
    "    # Plot the data on the map\n",
    "    bias.plot(ax=ax, transform=ccrs.PlateCarree(),cmap='viridis',vmin=vmn,vmax=vmx)\n",
    "    ax.set_title('')\n",
    "    ax.set_title('')\n",
    "    ax.set_xlabel('')\n",
    "    ax.set_ylabel('')\n",
    "    ax.set_xticklabels([])\n",
    "    ax.set_yticklabels([])\n",
    "    ax.coastlines()\n",
    "    \n",
    "    # Show the plot\n",
    "    plt.show()\n",
    "    plt.savefig(figname,bbox_inches='tight')\n",
    "\n"
   ]
  },
  {
   "cell_type": "code",
   "execution_count": null,
   "id": "5bd8a494-e9a5-4508-b019-d042dd051f97",
   "metadata": {},
   "outputs": [],
   "source": [
    "make_abs_plot(ds_out_nocomp_calib3_lai,'fates lai',0,2)"
   ]
  },
  {
   "cell_type": "code",
   "execution_count": null,
   "id": "9a9a7183-b86e-4f44-aec6-1935a9db1307",
   "metadata": {},
   "outputs": [],
   "source": [
    "bias_cont_lai = ds_out_lai[0]-lai45deg\n",
    "make_bias_plot(bias_cont_lai,'bias_lai_0.png')"
   ]
  },
  {
   "cell_type": "code",
   "execution_count": null,
   "id": "3c690277-519d-4ee7-8d67-4ac43095d8c8",
   "metadata": {},
   "outputs": [],
   "source": [
    "bias_cont_lai = ds_out_lai[1]-lai45deg\n",
    "make_bias_plot(bias_cont_lai,'bias_lai_1.png')"
   ]
  },
  {
   "cell_type": "code",
   "execution_count": null,
   "id": "b7c67f18-ab2c-42fc-96ba-2aa58c01d314",
   "metadata": {},
   "outputs": [],
   "source": [
    "bias_cont_lai = ds_out_lai[2]-lai45deg\n",
    "make_bias_plot(bias_cont_lai,'bias_lai_1.png')"
   ]
  },
  {
   "cell_type": "code",
   "execution_count": null,
   "id": "e72ec5cc-0403-4167-a628-d79161ee9173",
   "metadata": {},
   "outputs": [],
   "source": [
    "bias_cont_lai = ds_out_lai[3]-lai45deg\n",
    "make_bias_plot(bias_cont_lai,'bias_lai_1.png')"
   ]
  },
  {
   "cell_type": "code",
   "execution_count": null,
   "id": "1bf546ed-ca1e-4b87-83c5-552e93ed9768",
   "metadata": {},
   "outputs": [],
   "source": [
    "bias_cont_lai = ds_out_gpp[0]-gpp45deg\n",
    "make_bias_plot(bias_cont_lai,'bias_lai_1.png')"
   ]
  },
  {
   "cell_type": "code",
   "execution_count": null,
   "id": "9d07bf78-7ebe-4a9a-80aa-1874e7632d18",
   "metadata": {},
   "outputs": [],
   "source": [
    "bias_cont_lai = ds_out_gpp[1]-gpp45deg\n",
    "make_bias_plot(bias_cont_lai,'bias_lai_1.png')"
   ]
  },
  {
   "cell_type": "code",
   "execution_count": null,
   "id": "bde89289-31c5-4892-8094-eb100a555b59",
   "metadata": {},
   "outputs": [],
   "source": [
    "bias_cont_lai = ds_out_gpp[2]-gpp45deg\n",
    "make_bias_plot(bias_cont_lai,'bias_lai_1.png')"
   ]
  },
  {
   "cell_type": "code",
   "execution_count": null,
   "id": "94c8c257-1e83-4391-ae1f-a2144fb99061",
   "metadata": {},
   "outputs": [],
   "source": [
    "bias_cont_lai = ds_out_gpp[3]-gpp45deg\n",
    "make_bias_plot(bias_cont_lai,'bias_lai_1.png')"
   ]
  },
  {
   "cell_type": "code",
   "execution_count": null,
   "id": "adb11027-8de6-40fd-b01c-743682c351f7",
   "metadata": {},
   "outputs": [],
   "source": [
    "bias_cont_lai = ds_out_nocomp_calib3_lai-lai45deg\n",
    "make_bias_plot(bias_cont_lai,'bias_cont_lai_sp.png')"
   ]
  },
  {
   "cell_type": "code",
   "execution_count": null,
   "id": "bf0a1e6a-1a5d-43db-b932-759495602826",
   "metadata": {},
   "outputs": [],
   "source": [
    "make_abs_plot(ds_out_test_sp_gpp,'test_sp_gpp_abs.png',0,4)"
   ]
  },
  {
   "cell_type": "code",
   "execution_count": null,
   "id": "a817f1f6-2b6c-41a1-a435-d91454e624bc",
   "metadata": {},
   "outputs": [],
   "source": [
    "bias_calib1 = ds_out_sp_calib1_gpp-ds_out_sp_calib3_gpp\n",
    "make_bias_plot(bias_calib1,'figs/bias_calib1_gpp.png')"
   ]
  },
  {
   "cell_type": "code",
   "execution_count": null,
   "id": "b81b4f74-6adf-4994-b709-17dc5b9f5cda",
   "metadata": {},
   "outputs": [],
   "source": [
    "bias_cont_gpp.plot()"
   ]
  },
  {
   "cell_type": "code",
   "execution_count": null,
   "id": "5fd4b371-85e8-4e02-8ba8-028f724982f0",
   "metadata": {},
   "outputs": [],
   "source": [
    "plt.savefig('figtest.png')"
   ]
  },
  {
   "cell_type": "markdown",
   "id": "c28ddfc7-b9f2-4449-9864-78f6b4c17c0c",
   "metadata": {},
   "source": [
    "### Look at PFT file differences"
   ]
  },
  {
   "cell_type": "code",
   "execution_count": null,
   "id": "075a06be-b600-4fee-b9d5-1c9d79df6497",
   "metadata": {},
   "outputs": [],
   "source": [
    "p1='/glade/u/home/rfisher/rosiefork_fates_global_cal/rosie_ppe/nocomp_parameter_modification_python/intermediate_pfiles/fates_params_vertsc_dayl_SPcal_4.nc'"
   ]
  },
  {
   "cell_type": "code",
   "execution_count": null,
   "id": "21278688-02cb-4a6b-9602-33f06f6d87d8",
   "metadata": {},
   "outputs": [],
   "source": [
    "p2='/glade/u/home/rfisher/rosiefork_fates_global_cal/rosie_ppe/nocomp_parameter_modification_python/paramfiles/SP_LHC//sp_lhc_v1_40.nc'"
   ]
  },
  {
   "cell_type": "code",
   "execution_count": null,
   "id": "1d6913ac-0f64-41ac-ae3a-83beda0d73a4",
   "metadata": {},
   "outputs": [],
   "source": [
    "p1d=xr.open_dataset(p1)\n",
    "p2d=xr.open_dataset(p1)"
   ]
  },
  {
   "cell_type": "code",
   "execution_count": null,
   "id": "e7d0892f-4163-4d98-8f43-8a53ed1ff505",
   "metadata": {},
   "outputs": [],
   "source": [
    "ds1 = xr.open_dataset(p1)\n",
    "ds2 = xr.open_dataset(p2)\n",
    "\n",
    "# Loop through the variables and compare them\n",
    "for var in ds1.variables:\n",
    "    if var in ds2.variables:\n",
    "        if not ds1[var].equals(ds2[var]):\n",
    "            print(f\"Differences found in variable {var}\")\n",
    "            print('calib',ds1[var].values)\n",
    "            print('pftsg',ds2[var].values)\n",
    "    else:\n",
    "        print(f\"Variable {var} not found in {file2}\")\n",
    "\n",
    "# Check for variables in file2 that are not in file1\n",
    "for var in ds2.variables:\n",
    "    if var not in ds1.variables:\n",
    "        print(f\"Variable {var} not found in {file1}\")\n",
    "\n",
    "# Close the datasets\n",
    "ds1.close()\n",
    "ds2.close()"
   ]
  },
  {
   "cell_type": "code",
   "execution_count": null,
   "id": "f461df97-2fc8-4935-8fb7-2b6b6a25c0eb",
   "metadata": {},
   "outputs": [],
   "source": []
  }
 ],
 "metadata": {
  "kernelspec": {
   "display_name": "Python [conda env:conda-npl-2024a]",
   "language": "python",
   "name": "conda-env-conda-npl-2024a-py"
  },
  "language_info": {
   "codemirror_mode": {
    "name": "ipython",
    "version": 3
   },
   "file_extension": ".py",
   "mimetype": "text/x-python",
   "name": "python",
   "nbconvert_exporter": "python",
   "pygments_lexer": "ipython3",
   "version": "3.11.6"
  }
 },
 "nbformat": 4,
 "nbformat_minor": 5
}
